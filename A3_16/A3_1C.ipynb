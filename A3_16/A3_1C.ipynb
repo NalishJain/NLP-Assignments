{
 "cells": [
  {
   "cell_type": "code",
   "execution_count": 12,
   "metadata": {},
   "outputs": [],
   "source": [
    "import pandas as pd\n",
    "from transformers import pipeline\n",
    "from transformers import BertTokenizer, BertModel, BertForSequenceClassification, BertConfig\n",
    "import torch\n",
    "from datasets import load_dataset\n",
    "from torch.utils.data import DataLoader, TensorDataset\n",
    "import torch.nn as nn\n",
    "import numpy as np\n",
    "from sentence_transformers import SentenceTransformer\n",
    "import matplotlib.pyplot as plt\n",
    "from sentence_transformers import SentenceTransformer, InputExample, losses\n",
    "from torch.utils.data import DataLoader\n",
    "from sentence_transformers import evaluation"
   ]
  },
  {
   "cell_type": "code",
   "execution_count": null,
   "metadata": {},
   "outputs": [
    {
     "data": {
      "text/html": [
       "<div>\n",
       "<style scoped>\n",
       "    .dataframe tbody tr th:only-of-type {\n",
       "        vertical-align: middle;\n",
       "    }\n",
       "\n",
       "    .dataframe tbody tr th {\n",
       "        vertical-align: top;\n",
       "    }\n",
       "\n",
       "    .dataframe thead th {\n",
       "        text-align: right;\n",
       "    }\n",
       "</style>\n",
       "<table border=\"1\" class=\"dataframe\">\n",
       "  <thead>\n",
       "    <tr style=\"text-align: right;\">\n",
       "      <th></th>\n",
       "      <th>score</th>\n",
       "      <th>sentence1</th>\n",
       "      <th>sentence2</th>\n",
       "    </tr>\n",
       "  </thead>\n",
       "  <tbody>\n",
       "    <tr>\n",
       "      <th>0</th>\n",
       "      <td>5.00</td>\n",
       "      <td>A man with a hard hat is dancing.</td>\n",
       "      <td>A man wearing a hard hat is dancing.</td>\n",
       "    </tr>\n",
       "    <tr>\n",
       "      <th>1</th>\n",
       "      <td>4.75</td>\n",
       "      <td>A young child is riding a horse.</td>\n",
       "      <td>A child is riding a horse.</td>\n",
       "    </tr>\n",
       "    <tr>\n",
       "      <th>2</th>\n",
       "      <td>5.00</td>\n",
       "      <td>A man is feeding a mouse to a snake.</td>\n",
       "      <td>The man is feeding a mouse to the snake.</td>\n",
       "    </tr>\n",
       "    <tr>\n",
       "      <th>3</th>\n",
       "      <td>2.40</td>\n",
       "      <td>A woman is playing the guitar.</td>\n",
       "      <td>A man is playing guitar.</td>\n",
       "    </tr>\n",
       "    <tr>\n",
       "      <th>4</th>\n",
       "      <td>2.75</td>\n",
       "      <td>A woman is playing the flute.</td>\n",
       "      <td>A man is playing a flute.</td>\n",
       "    </tr>\n",
       "  </tbody>\n",
       "</table>\n",
       "</div>"
      ],
      "text/plain": [
       "   score                             sentence1  \\\n",
       "0   5.00     A man with a hard hat is dancing.   \n",
       "1   4.75      A young child is riding a horse.   \n",
       "2   5.00  A man is feeding a mouse to a snake.   \n",
       "3   2.40        A woman is playing the guitar.   \n",
       "4   2.75         A woman is playing the flute.   \n",
       "\n",
       "                                  sentence2  \n",
       "0      A man wearing a hard hat is dancing.  \n",
       "1                A child is riding a horse.  \n",
       "2  The man is feeding a mouse to the snake.  \n",
       "3                  A man is playing guitar.  \n",
       "4                 A man is playing a flute.  "
      ]
     },
     "execution_count": 3,
     "metadata": {},
     "output_type": "execute_result"
    }
   ],
   "source": [
    "\n",
    "path = '/content/drive/MyDrive/A3_task1_data_files'\n",
    "\n",
    "task1_train_data =  pd.read_csv(path + '/train.csv', sep = \"\\t\")\n",
    "task1_train_data.dropna(inplace=True)\n",
    "task1_train_data.reset_index(drop=True, inplace=True)\n",
    "\n",
    "task1_val_data =pd.read_csv(path +'/dev.csv', sep = \"\\t\")\n",
    "task1_val_data = task1_val_data.rename(columns = {'setence1':'sentence1'})\n",
    "task1_val_data.dropna(inplace=True)\n",
    "task1_val_data.reset_index(drop=True, inplace=True)\n",
    "\n",
    "\n",
    "DEVICE = torch.device('cuda' if torch.cuda.is_available() else 'cpu')"
   ]
  },
  {
   "cell_type": "code",
   "execution_count": null,
   "metadata": {},
   "outputs": [],
   "source": [
    "device = \"cuda\" if torch.cuda.is_available() else \"cpu\"\n",
    "\n",
    "model = SentenceTransformer('distilbert-base-nli-mean-tokens').to(device)\n",
    "train_examples = []\n",
    "for i in range(len(task1_train_data)):\n",
    "    train_examples.append(InputExample(texts=[task1_train_data.iloc[i]['sentence1'], task1_train_data.iloc[i]['sentence2']], label=float(task1_train_data.iloc[i]['score']/5.0)))\n",
    "    \n",
    "train_batch_size = 32\n",
    "train_dataloader = DataLoader(train_examples, shuffle=True, batch_size=train_batch_size)\n",
    "train_loss = losses.CosineSimilarityLoss(model=model)\n",
    "\n",
    "val_examples = []\n",
    "for i in range(len(task1_val_data)):\n",
    "    val_examples.append(InputExample(texts=[task1_val_data.iloc[i]['sentence1'], task1_val_data.iloc[i]['sentence2']], label=task1_val_data.iloc[i]['score']/5.0))\n",
    "val_batch_size = 32\n",
    "val_dataloader = DataLoader(val_examples, shuffle=True, batch_size=val_batch_size)\n"
   ]
  },
  {
   "cell_type": "code",
   "execution_count": null,
   "metadata": {},
   "outputs": [],
   "source": [
    "\n",
    "\n",
    "evaluator = evaluation.EmbeddingSimilarityEvaluator.from_input_examples(val_examples, name='val')\n",
    "# Fine-tune the model with the custom callback\n",
    "model.fit(train_objectives=[(train_dataloader, train_loss)],\n",
    "          evaluator=evaluator,\n",
    "          epochs=10,\n",
    "          warmup_steps=100,\n",
    "          output_path='fine-tuned-model')"
   ]
  },
  {
   "cell_type": "code",
   "execution_count": null,
   "metadata": {},
   "outputs": [],
   "source": [
    "model.save(\"/content/drive/MyDrive/model_1C\")"
   ]
  },
  {
   "cell_type": "code",
   "execution_count": null,
   "metadata": {},
   "outputs": [],
   "source": [
    "values = []\n",
    "for i in range(len(task1_val_data)):\n",
    "    # print(\"Calculating for: \", i)\n",
    "    embed1 = model.encode(task1_val_data.iloc[i]['sentence1'])\n",
    "    embed2 = model.encode(task1_val_data.iloc[i]['sentence2'])\n",
    "    similarity = np.dot(embed1, embed2)/(np.linalg.norm(embed1)*np.linalg.norm(embed2))\n",
    "    values.append(similarity*5)\n",
    "pearson = np.corrcoef(values, task1_val_data['score'])\n",
    "print(\"Pearson Correlation: \", pearson[0][1])"
   ]
  }
 ],
 "metadata": {
  "kernelspec": {
   "display_name": "Python 3",
   "language": "python",
   "name": "python3"
  },
  "language_info": {
   "codemirror_mode": {
    "name": "ipython",
    "version": 3
   },
   "file_extension": ".py",
   "mimetype": "text/x-python",
   "name": "python",
   "nbconvert_exporter": "python",
   "pygments_lexer": "ipython3",
   "version": "3.10.1"
  }
 },
 "nbformat": 4,
 "nbformat_minor": 2
}
