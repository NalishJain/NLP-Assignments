{
 "cells": [
  {
   "cell_type": "code",
   "execution_count": 26,
   "metadata": {},
   "outputs": [
    {
     "name": "stdout",
     "output_type": "stream",
     "text": [
      "Requirement already satisfied: torch in /Users/nalishjain/Acad Sem 6/NLP-Assignments/A4_16/.venv/lib/python3.10/site-packages (2.2.2)\n",
      "Requirement already satisfied: filelock in /Users/nalishjain/Acad Sem 6/NLP-Assignments/A4_16/.venv/lib/python3.10/site-packages (from torch) (3.13.4)\n",
      "Requirement already satisfied: typing-extensions>=4.8.0 in /Users/nalishjain/Acad Sem 6/NLP-Assignments/A4_16/.venv/lib/python3.10/site-packages (from torch) (4.11.0)\n",
      "Requirement already satisfied: sympy in /Users/nalishjain/Acad Sem 6/NLP-Assignments/A4_16/.venv/lib/python3.10/site-packages (from torch) (1.12)\n",
      "Requirement already satisfied: networkx in /Users/nalishjain/Acad Sem 6/NLP-Assignments/A4_16/.venv/lib/python3.10/site-packages (from torch) (3.3)\n",
      "Requirement already satisfied: jinja2 in /Users/nalishjain/Acad Sem 6/NLP-Assignments/A4_16/.venv/lib/python3.10/site-packages (from torch) (3.1.3)\n",
      "Requirement already satisfied: fsspec in /Users/nalishjain/Acad Sem 6/NLP-Assignments/A4_16/.venv/lib/python3.10/site-packages (from torch) (2024.3.1)\n",
      "Requirement already satisfied: MarkupSafe>=2.0 in /Users/nalishjain/Acad Sem 6/NLP-Assignments/A4_16/.venv/lib/python3.10/site-packages (from jinja2->torch) (2.1.5)\n",
      "Requirement already satisfied: mpmath>=0.19 in /Users/nalishjain/Acad Sem 6/NLP-Assignments/A4_16/.venv/lib/python3.10/site-packages (from sympy->torch) (1.3.0)\n"
     ]
    }
   ],
   "source": [
    "# !pip install torch\n",
    "# !pip install transformers"
   ]
  },
  {
   "cell_type": "code",
   "execution_count": 1,
   "metadata": {},
   "outputs": [
    {
     "name": "stderr",
     "output_type": "stream",
     "text": [
      "/Users/nalishjain/Acad Sem 6/NLP-Assignments/A4_16/.venv/lib/python3.10/site-packages/tqdm/auto.py:21: TqdmWarning: IProgress not found. Please update jupyter and ipywidgets. See https://ipywidgets.readthedocs.io/en/stable/user_install.html\n",
      "  from .autonotebook import tqdm as notebook_tqdm\n"
     ]
    }
   ],
   "source": [
    "import json\n",
    "from transformers import BertTokenizer, BertModel, BertForSequenceClassification, BertConfig\n",
    "import torch\n",
    "import torch.nn as nn"
   ]
  },
  {
   "cell_type": "code",
   "execution_count": 3,
   "metadata": {},
   "outputs": [
    {
     "name": "stdout",
     "output_type": "stream",
     "text": [
      "Name: torch\n",
      "Version: 2.2.2\n",
      "Summary: Tensors and Dynamic neural networks in Python with strong GPU acceleration\n",
      "Home-page: https://pytorch.org/\n",
      "Author: PyTorch Team\n",
      "Author-email: packages@pytorch.org\n",
      "License: BSD-3\n",
      "Location: /Users/nalishjain/Acad Sem 6/NLP-Assignments/A4_16/.venv/lib/python3.10/site-packages\n",
      "Requires: filelock, fsspec, jinja2, networkx, sympy, typing-extensions\n",
      "Required-by: \n"
     ]
    }
   ],
   "source": [
    "!pip show torch"
   ]
  },
  {
   "cell_type": "code",
   "execution_count": 2,
   "metadata": {},
   "outputs": [],
   "source": [
    "with open(\"train_file.json\", \"r\") as train_file:\n",
    "    train_data = json.load(train_file)\n",
    "\n",
    "with open(\"val_file.json\", \"r\") as val_file:\n",
    "    val_data = json.load(val_file)"
   ]
  },
  {
   "cell_type": "code",
   "execution_count": 3,
   "metadata": {},
   "outputs": [
    {
     "data": {
      "text/plain": [
       "{'episode': 'utterance_3492',\n",
       " 'speakers': ['Phoebe', 'Eric', 'Phoebe', 'Eric', 'Phoebe'],\n",
       " 'emotions': ['surprise', 'fear', 'surprise', 'sadness', 'disgust'],\n",
       " 'utterances': ['You-you\\x85you had sex with Ursula?!',\n",
       "  'Uh, a little bit. She-she-she walked in and I thought she was you and I kissed her and',\n",
       "  \"You didn't notice she was wearing different clothes?!\",\n",
       "  'Well I was just so excited to see you.',\n",
       "  \"Oh. Ew! Ew! Ew! Ugh! Y'know what? This is too weird.\"],\n",
       " 'triggers': [1.0, 1.0, 0.0, 0.0, 0.0]}"
      ]
     },
     "execution_count": 3,
     "metadata": {},
     "output_type": "execute_result"
    }
   ],
   "source": [
    "train_data[0]"
   ]
  },
  {
   "cell_type": "code",
   "execution_count": 4,
   "metadata": {},
   "outputs": [],
   "source": [
    "class EmbeddingBert(nn.Module):\n",
    "    def __init__(self):\n",
    "        super(EmbeddingBert, self).__init__()\n",
    "        self.pre_trained = BertModel.from_pretrained(\"bert-base-uncased\")\n",
    "        # self.classifier =  nn.Linear(self.pre_trained.config.hidden_size, 1)\n",
    "\n",
    "    def forward(self, input_ids, attention_mask):\n",
    "        x = self.pre_trained(input_ids = input_ids, attention_mask = attention_mask)\n",
    "        x = x.pooler_output\n",
    "        return x\n",
    "model_name = \"bert-base-uncased\"\n",
    "tokenizer = BertTokenizer.from_pretrained(model_name)\n",
    "model_bert = EmbeddingBert()"
   ]
  },
  {
   "cell_type": "code",
   "execution_count": 5,
   "metadata": {},
   "outputs": [],
   "source": [
    "def remove_duplicates(data):\n",
    "    unique_data_list = []\n",
    "    seen = set()\n",
    "    for d in data:\n",
    "        d_tuple = {k: tuple(v) if isinstance(v, list) else v for k, v in d.items()}\n",
    "        t = tuple(sorted(d_tuple.items()))\n",
    "        if t not in seen:\n",
    "            unique_data_list.append(d)\n",
    "            seen.add(t)\n",
    "    return unique_data_list\n",
    "\n",
    "device = torch.device('cuda')\n",
    "def create_mapping(data, model):\n",
    "    mapping = {}\n",
    "    count = 0\n",
    "    maxi = 0\n",
    "    model = model.to(device)\n",
    "    for dialogue in data:\n",
    "\n",
    "        tokenised = tokenizer(dialogue['utterances'], return_tensors=\"pt\", max_length = 100, padding=\"max_length\", truncation=True, add_special_tokens = True)\n",
    "        # print(count, \"/\", len(data),tokenised['input_ids'].shape[0])\n",
    "        # print(tokenised['input_ids'].shape)\n",
    "        # maxi = max(maxi, tokenised['input_ids'].shape[0])\n",
    "        embeddings = []\n",
    "        for k in range(0, tokenised['input_ids'].shape[0], 16):\n",
    "          embedding = model(tokenised['input_ids'][k:k+16,:].to(device), tokenised['attention_mask'][k:k+16,:].to(device))\n",
    "          embeddings.extend(embedding.detach().cpu().numpy())\n",
    "          torch.cuda.empty_cache()\n",
    "        # print(len(embeddings), len(dialogue['utterances']))\n",
    "        mapping[count] = [dialogue['utterances'], embeddings, dialogue['emotions'], dialogue['triggers']]\n",
    "        # break\n",
    "        count += 1\n",
    "    # print(maxi)\n",
    "    return mapping"
   ]
  },
  {
   "cell_type": "code",
   "execution_count": null,
   "metadata": {},
   "outputs": [],
   "source": [
    "unique_train_data = remove_duplicates(train_data)\n",
    "unique_val_data = remove_duplicates(val_data)\n",
    "train_dict  = create_mapping(unique_train_data, model_bert)\n",
    "val_dict = create_mapping(unique_val_data, model_bert)\n"
   ]
  },
  {
   "cell_type": "code",
   "execution_count": 101,
   "metadata": {},
   "outputs": [
    {
     "data": {
      "text/plain": [
       "808"
      ]
     },
     "execution_count": 101,
     "metadata": {},
     "output_type": "execute_result"
    }
   ],
   "source": [
    "import pickle\n",
    "with open('/content/drive/MyDrive/train_dict.pkl', 'wb') as f:\n",
    "    pickle.dump(train_dict, f)\n",
    "\n",
    "with open('/content/drive/MyDrive/val_dict.pkl', 'wb') as f:\n",
    "    pickle.dump(val_dict, f)"
   ]
  },
  {
   "cell_type": "code",
   "execution_count": 6,
   "metadata": {},
   "outputs": [
    {
     "name": "stdout",
     "output_type": "stream",
     "text": [
      "808\n"
     ]
    }
   ],
   "source": [
    "unique_val_data_list = []\n",
    "seen = set()\n",
    "for d in val_data:\n",
    "    d_tuple = {k: tuple(v) if isinstance(v, list) else v for k, v in d.items()}\n",
    "    t = tuple(sorted(d_tuple.items()))\n",
    "    if t not in seen:\n",
    "        unique_val_data_list.append(d)\n",
    "        seen.add(t)\n",
    "\n",
    "print(len(unique_val_data_list))"
   ]
  },
  {
   "cell_type": "code",
   "execution_count": 111,
   "metadata": {},
   "outputs": [
    {
     "data": {
      "text/plain": [
       "15"
      ]
     },
     "execution_count": 111,
     "metadata": {},
     "output_type": "execute_result"
    }
   ],
   "source": [
    "len(train_data[1]['utterances'])"
   ]
  },
  {
   "cell_type": "code",
   "execution_count": 8,
   "metadata": {},
   "outputs": [
    {
     "data": {
      "text/plain": [
       "['Hey! Hold on a minute, hold on a second. Do you think these pearls are nice?',\n",
       " \"I'd really prefer a mountain bike.\",\n",
       " \"Janice's birthday is coming up, I want to get her something speacial. Come in here with me.\",\n",
       " 'Whoa, whoa, whoa, wait, whoa.',\n",
       " 'Do you ah, want to get her something speacial, get her flowers, get her candy, get her gum, girls love gum.',\n",
       " \"That's a good idea, \\x91Dear Janice have a Hubba-Bubba birthday'. I would like to get her something serious.\",\n",
       " 'Oh, you want something serious.',\n",
       " \"Y'know what you should do, you should get her one of those um, barium enemas.\",\n",
       " 'Those are dead serious.',\n",
       " \"All right. Look, I'm gonna go in here, and you don't buy me anything ever.\",\n",
       " \"No, no, you can't, you can't, okay, you can't, you can't buy her pearls, you just can't, you can't, you can't.\",\n",
       " 'Why not?!',\n",
       " \"Oh God. Uh, okay, here's the thing, this is the thing, okay, the thing is...\",\n",
       " 'What is the thing?',\n",
       " \"Okay. I went down to the \\x91Mattress King' showroom and, and I saw Janice, kissing her ex-husband.\",\n",
       " 'What?',\n",
       " 'They were in his office.']"
      ]
     },
     "execution_count": 8,
     "metadata": {},
     "output_type": "execute_result"
    }
   ],
   "source": [
    "unique_val_data_list[0]['utterances']"
   ]
  }
 ],
 "metadata": {
  "kernelspec": {
   "display_name": ".venv",
   "language": "python",
   "name": "python3"
  },
  "language_info": {
   "codemirror_mode": {
    "name": "ipython",
    "version": 3
   },
   "file_extension": ".py",
   "mimetype": "text/x-python",
   "name": "python",
   "nbconvert_exporter": "python",
   "pygments_lexer": "ipython3",
   "version": "3.10.10"
  }
 },
 "nbformat": 4,
 "nbformat_minor": 2
}
