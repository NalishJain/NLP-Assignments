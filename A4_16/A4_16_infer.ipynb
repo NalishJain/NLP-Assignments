{
 "cells": [
  {
   "cell_type": "code",
   "execution_count": 7,
   "metadata": {},
   "outputs": [],
   "source": [
    "import torch\n",
    "import torch.nn as nn\n",
    "import torch.optim as optim\n",
    "from torch.utils.data import DataLoader, Dataset\n",
    "import json\n",
    "from sklearn.metrics import f1_score\n",
    "import numpy as np\n",
    "import pickle\n",
    "import matplotlib.pyplot as plt\n",
    "from tqdm import tqdm\n",
    "import math\n",
    "import torch.nn.functional as F\n"
   ]
  },
  {
   "cell_type": "code",
   "execution_count": 18,
   "metadata": {},
   "outputs": [],
   "source": [
    "with open('/Users/nalishjain/Acad Sem 6/NLP-Assignments/A4_16/val_dict.pkl', 'rb') as f:\n",
    "    val_data =  pickle.load(f, encoding='latin1')\n",
    "\n",
    "with open('/Users/nalishjain/Acad Sem 6/NLP-Assignments/A4_16/val_dict_speakers.pkl', 'rb') as f:\n",
    "    val_speaker_data =  pickle.load(f, encoding='latin1')\n",
    "    \n",
    "emotion_ids = {'neutral' : 0, 'joy' : 1, 'anger' : 2, 'surprise' : 3, 'sadness' : 4, 'fear' : 5, 'disgust' : 6}"
   ]
  },
  {
   "cell_type": "code",
   "execution_count": 19,
   "metadata": {},
   "outputs": [],
   "source": [
    "def remove_nan():\n",
    "    # max_length = 25\n",
    "    # pad_word = 'PAD'\n",
    "    # pad_emotion = 'neutral'\n",
    "    data = [val_data, val_speaker_data]\n",
    "\n",
    "    for task_data in data:\n",
    "        remove_keys = []\n",
    "        for key in task_data:\n",
    "            # checking_nan\n",
    "            for step in range(len(task_data[key][3])):\n",
    "                if task_data[key][3][step] is None:\n",
    "                    remove_keys.append(key)\n",
    "            # for step in range(len(task_data[key][0]), max_length):\n",
    "            #     task_data[key][0].append(pad_word)\n",
    "            #     task_data[key][1].append(np.zeros(768))\n",
    "            #     task_data[key][2].append(pad_emotion)\n",
    "            #     task_data[key][3].append(0)\n",
    "        \n",
    "        for key in remove_keys:\n",
    "            if key in task_data:\n",
    "                del task_data[key]  \n",
    "    # print(dict_)\n",
    "\n",
    "remove_nan()\n",
    "val_data = {new_key: val_data[old_key] for new_key, (old_key, _) in enumerate(val_data.items())}\n",
    "val_speaker_data = {new_key: val_speaker_data[old_key] for new_key, (old_key, _) in enumerate(val_speaker_data.items())}\n"
   ]
  },
  {
   "cell_type": "markdown",
   "metadata": {},
   "source": [
    "## Model Classes"
   ]
  },
  {
   "cell_type": "code",
   "execution_count": 20,
   "metadata": {},
   "outputs": [],
   "source": [
    "# M3\n",
    "class GRUModel(nn.Module):\n",
    "    def __init__(self, embedding_dim, output_size):\n",
    "        super(GRUModel, self).__init__()\n",
    "        self.gru1 = nn.GRU(embedding_dim, 256, num_layers=1, batch_first=True)\n",
    "        self.gru2 = nn.GRU(256, 64, num_layers=1, batch_first=True)\n",
    "        # self.gru3 = nn.GRU(128, 64, num_layers=1, batch_first=True)\n",
    "        self.gru4 = nn.GRU(64, 16, num_layers=1, batch_first=True)\n",
    "        self.fc1 = nn.Linear(16, 4)\n",
    "        self.fc2 = nn.Linear(4, output_size)\n",
    "\n",
    "    def forward(self, x):\n",
    "        out, _ = self.gru1(x)\n",
    "        out, _ = self.gru2(out)\n",
    "        # out, _ = self.gru3(out)\n",
    "        out, _ = self.gru4(out)\n",
    "        out = self.fc1(out)   \n",
    "        out = self.fc2(out)      \n",
    "        return out\n",
    "    \n",
    "# M4\n",
    "class GRUModel_emotions(nn.Module):\n",
    "    def __init__(self, embedding_dim, output_size):\n",
    "        super(GRUModel_emotions, self).__init__()\n",
    "        self.gru1 = nn.GRU(embedding_dim, 256, num_layers=1, batch_first=True)\n",
    "        self.gru2 = nn.GRU(256, 64, num_layers=1, batch_first=True)\n",
    "        # self.gru3 = nn.GRU(128, 64, num_layers=1, batch_first=True)\n",
    "        self.gru4 = nn.GRU(64, 32, num_layers=1, batch_first=True)\n",
    "        self.one_hot_projection = nn.Linear(7, 16)\n",
    "        self.fc1 = nn.Linear(32, 16)\n",
    "        self.fc2 = nn.Linear(16, output_size)\n",
    "\n",
    "    def forward(self, x, emotions):\n",
    "        out, _ = self.gru1(x)\n",
    "        out, _ = self.gru2(out)\n",
    "        # out, _ = self.gru3(out)\n",
    "        out, _ = self.gru4(out)\n",
    "        out = self.fc1(out) \n",
    "        out += self.one_hot_projection(emotions.float()) #Fusing emotions\n",
    "        out = self.fc2(out)      \n",
    "        return out"
   ]
  },
  {
   "cell_type": "markdown",
   "metadata": {},
   "source": [
    "# Dataset Class"
   ]
  },
  {
   "cell_type": "code",
   "execution_count": 33,
   "metadata": {},
   "outputs": [],
   "source": [
    "class ErfDataset(Dataset):\n",
    "    def __init__(self, data, emo_index):\n",
    "        self.data = data\n",
    "        self.length = len(self.data)\n",
    "        self.emo_index =  emo_index\n",
    "\n",
    "    def __len__(self):\n",
    "        return self.length\n",
    "\n",
    "    def __getitem__(self, index):\n",
    "        sentence_embeddings = np.array(self.data[index][1] , dtype='float32')\n",
    "        emotion_sequence = self.data[index][2]\n",
    "        # print(emotion_sequence)\n",
    "        emotion_labels = [self.emo_index[emotion] for emotion in emotion_sequence]\n",
    "        output_labels = np.array(self.data[index][3], dtype='float32')\n",
    "        return torch.tensor(sentence_embeddings, dtype= torch.float32), torch.tensor(emotion_labels), torch.tensor(output_labels, dtype= torch.float32)"
   ]
  },
  {
   "cell_type": "code",
   "execution_count": 34,
   "metadata": {},
   "outputs": [],
   "source": [
    "val_dataset = ErfDataset(val_data, emotion_ids)\n",
    "device = torch.device(\"cuda:0\" if torch.cuda.is_available() else \"cpu\")\n",
    "\n",
    "# Add test dataset here"
   ]
  },
  {
   "cell_type": "markdown",
   "metadata": {},
   "source": [
    "## Testing Functions"
   ]
  },
  {
   "cell_type": "code",
   "execution_count": 35,
   "metadata": {},
   "outputs": [],
   "source": [
    "def test_model_3(test_dataset, model, device):\n",
    "    test_dataloader = None\n",
    "    test_dataloader = DataLoader(test_dataset, batch_size=1, shuffle=True)\n",
    "\n",
    "\n",
    "    total_test_loss = 0\n",
    "    all_test_predictions = []\n",
    "    all_test_targets = []\n",
    "\n",
    "    with torch.no_grad():\n",
    "        for test_inputs, test_emotions, test_targets in test_dataloader:\n",
    "            # one_hot_emotions = F.one_hot(test_emotions, num_classes=7)\n",
    "            test_inputs, test_targets = test_inputs.to(device), test_targets.to(device)\n",
    "            test_outputs = model(test_inputs)\n",
    "\n",
    "            all_test_predictions.extend(test_outputs.argmax(dim=2).view(-1).cpu().numpy())\n",
    "            all_test_targets.extend(test_targets.view(-1).cpu().numpy())\n",
    "\n",
    "        avg_test_loss = total_test_loss / len(test_dataloader)\n",
    "        test_macro_f1 = f1_score(all_test_targets, all_test_predictions, average='weighted')\n",
    "    print(f'Test Loss: {avg_test_loss}, Test Weighted F1-Score: {test_macro_f1}')\n",
    "\n",
    "def test_model_4(test_dataset, model, device):\n",
    "    test_dataloader = None\n",
    "    test_dataloader = DataLoader(test_dataset, batch_size=1, shuffle=True)\n",
    "\n",
    "\n",
    "    total_test_loss = 0\n",
    "    all_test_predictions = []\n",
    "    all_test_targets = []\n",
    "\n",
    "    with torch.no_grad():\n",
    "        for test_inputs, test_emotions, test_targets in test_dataloader:\n",
    "            one_hot_emotions = F.one_hot(test_emotions, num_classes=7)\n",
    "            test_inputs, one_hot_emotions, test_targets = test_inputs.to(device), one_hot_emotions.to(device), test_targets.to(device)\n",
    "            test_outputs = model(test_inputs, one_hot_emotions)\n",
    "\n",
    "            all_test_predictions.extend(test_outputs.argmax(dim=2).view(-1).cpu().numpy())\n",
    "            all_test_targets.extend(test_targets.view(-1).cpu().numpy())\n",
    "\n",
    "        avg_test_loss = total_test_loss / len(test_dataloader)\n",
    "        test_macro_f1 = f1_score(all_test_targets, all_test_predictions, average='weighted')\n",
    "    print(f'Test Loss: {avg_test_loss}, Test Weighted F1-Score: {test_macro_f1}')"
   ]
  },
  {
   "cell_type": "markdown",
   "metadata": {},
   "source": [
    "# Model 3 Results"
   ]
  },
  {
   "cell_type": "code",
   "execution_count": 28,
   "metadata": {},
   "outputs": [
    {
     "name": "stdout",
     "output_type": "stream",
     "text": [
      "Test Loss: 0.0, Test Weighted F1-Score: 0.30591673359002275\n"
     ]
    }
   ],
   "source": [
    "loaded_model = GRUModel(768, 2).to(device) \n",
    "loaded_model.load_state_dict(torch.load('model_3_dict.pt'))\n",
    "test_model_3(val_dataset, loaded_model, device)"
   ]
  },
  {
   "cell_type": "markdown",
   "metadata": {},
   "source": [
    "# Model 4 Results"
   ]
  },
  {
   "cell_type": "code",
   "execution_count": 36,
   "metadata": {},
   "outputs": [
    {
     "name": "stdout",
     "output_type": "stream",
     "text": [
      "Test Loss: 0.0, Test Weighted F1-Score: 0.6880068166184801\n"
     ]
    }
   ],
   "source": [
    "loaded_model = GRUModel_emotions(768, 2).to(device) \n",
    "loaded_model.load_state_dict(torch.load('model_4_dict.pt'))\n",
    "test_model_4(val_dataset, loaded_model, device)"
   ]
  }
 ],
 "metadata": {
  "kernelspec": {
   "display_name": ".venv",
   "language": "python",
   "name": "python3"
  },
  "language_info": {
   "codemirror_mode": {
    "name": "ipython",
    "version": 3
   },
   "file_extension": ".py",
   "mimetype": "text/x-python",
   "name": "python",
   "nbconvert_exporter": "python",
   "pygments_lexer": "ipython3",
   "version": "3.10.10"
  }
 },
 "nbformat": 4,
 "nbformat_minor": 2
}
