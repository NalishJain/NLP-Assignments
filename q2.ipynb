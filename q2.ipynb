{
 "cells": [
  {
   "cell_type": "code",
   "execution_count": 1,
   "metadata": {},
   "outputs": [],
   "source": [
    "# !pip install transformers\n",
    "# !pip install numpy\n",
    "# !pip install tensorflow"
   ]
  },
  {
   "cell_type": "code",
   "execution_count": 81,
   "metadata": {},
   "outputs": [
    {
     "name": "stderr",
     "output_type": "stream",
     "text": [
      "Some layers from the model checkpoint at bhadresh-savani/distilbert-base-uncased-emotion were not used when initializing TFDistilBertForSequenceClassification: ['dropout_19']\n",
      "- This IS expected if you are initializing TFDistilBertForSequenceClassification from the checkpoint of a model trained on another task or with another architecture (e.g. initializing a BertForSequenceClassification model from a BertForPreTraining model).\n",
      "- This IS NOT expected if you are initializing TFDistilBertForSequenceClassification from the checkpoint of a model that you expect to be exactly identical (initializing a BertForSequenceClassification model from a BertForSequenceClassification model).\n",
      "Some layers of TFDistilBertForSequenceClassification were not initialized from the model checkpoint at bhadresh-savani/distilbert-base-uncased-emotion and are newly initialized: ['dropout_79']\n",
      "You should probably TRAIN this model on a down-stream task to be able to use it for predictions and inference.\n",
      "/Users/nalishjain/Documents/GitHub/NLP-Assignments/.venv/lib/python3.10/site-packages/transformers/pipelines/text_classification.py:105: UserWarning: `return_all_scores` is now deprecated,  if want a similar functionality use `top_k=None` instead of `return_all_scores=True` or `top_k=1` instead of `return_all_scores=False`.\n",
      "  warnings.warn(\n"
     ]
    }
   ],
   "source": [
    "import tensorflow\n",
    "import numpy as np \n",
    "from transformers import pipeline\n",
    "\n",
    "classifier = pipeline(\"text-classification\",model='bhadresh-savani/distilbert-base-uncased-emotion', return_all_scores=True,)"
   ]
  },
  {
   "cell_type": "code",
   "execution_count": 82,
   "metadata": {},
   "outputs": [],
   "source": [
    "\n",
    "class BigramLM:\n",
    "    def __init__(self):\n",
    "        self.vocab_size = 0\n",
    "        self.vocabulary_index = {}\n",
    "        self.word_count = {}\n",
    "        self.index_vocabulary = {}\n",
    "        self.bigram_counts = None\n",
    "        self.bigram_probabilities = None\n",
    "        self.dataset = None\n",
    "\n",
    "\n",
    "    def build_corpus(self, file_path):\n",
    "        with open(file_path, 'r', encoding='utf-8') as file:\n",
    "            sentences = [line.strip().split() for line in file]\n",
    "        self.dataset =  sentences\n",
    "    \n",
    "    def build_vocab(self):\n",
    "        for line in self.dataset:\n",
    "            for word in line:\n",
    "                if word not in self.vocabulary_index:\n",
    "                    self.vocabulary_index[word] = self.vocab_size\n",
    "                    self.index_vocabulary[self.vocab_size] = word\n",
    "                    self.word_count[word] = 0\n",
    "                    self.vocab_size += 1\n",
    "                self.word_count[word] += 1\n",
    "    def learn(self, file_path):\n",
    "        # Build vocabulary and initialize bigram counts\n",
    "        self.build_corpus(file_path)\n",
    "        self.build_vocab()\n",
    "\n",
    "        self.bigram_counts = np.zeros((self.vocab_size, self.vocab_size), dtype=int)\n",
    "\n",
    "        for line in self.dataset:\n",
    "            for index in range(len(line) - 1):\n",
    "                first_word_index = self.vocabulary_index[line[index]]\n",
    "                second_word_index = self.vocabulary_index[line[index + 1]]\n",
    "                self.bigram_counts[first_word_index, second_word_index] += 1\n",
    "\n",
    "    def calculate_probability(self, word1, word2):\n",
    "        return self.bigram_counts[self.vocabulary_index[word1], self.vocabulary_index[word2]]/self.word_count[word1]\n",
    "    \n",
    "    def laplace_smoothing(self, word1, word2):\n",
    "        return (self.bigram_counts[self.vocabulary_index[word1], self.vocabulary_index[word2]] + 1)/(self.word_count[word1] + self.vocab_size)\n",
    "\n",
    "    def kneser_ney_smoothing(self, word1, word2, discount = 0):\n",
    "        discounted_prob = max(self.bigram_counts[self.vocabulary_index[word1], self.vocabulary_index[word2]]-discount, 0)/self.word_count[word1]\n",
    "        alpha_word1 = (discount* np.sum(self.bigram_counts[self.vocabulary_index[word1], :] > 0))/self.word_count[word1]\n",
    "        cont_prob = np.sum(self.bigram_counts[:, self.vocabulary_index[word2]] > 0)/np.sum(self.bigram_counts > 0)\n",
    "        print(\"alpha_word1\", alpha_word1)\n",
    "        print(\"discounted_prob\",discounted_prob )\n",
    "        print(\"self.word_count[word1]\", self.word_count[word1])\n",
    "        print(\"np.sum(self.bigram_counts[self.vocabulary_index[word1], :] > 0))\", np.sum(self.bigram_counts[self.vocabulary_index[word1], :] > 0))\n",
    "        print(\"np.sum(self.bigram_counts[:, self.vocabulary_index[word2]] > 0)\", np.sum(self.bigram_counts[:, self.vocabulary_index[word2]] > 0))\n",
    "        print(\"np.sum(self.bigram_counts > 0)\", np.sum(self.bigram_counts > 0))\n",
    "\n",
    "        return discounted_prob + alpha_word1*cont_prob\n",
    "    \n",
    "    def emotion_scores(self, sample): \n",
    "        emotion=classifier(sample)\n",
    "        return emotion[0]\n",
    "\n",
    "    def calculate_probability_emotion(self, word1, word2, emotion_id):\n",
    "        emo_prob = self.emotion_scores(word1 + \" \" +word2)\n",
    "        return self.bigram_counts[self.vocabulary_index[word1], self.vocabulary_index[word2]]/self.word_count[word1] + emo_prob[emotion_id]['score']\n",
    "    \n",
    "    def build_probability_matrix(self, mode, discount = 0, emotion_id = 0):\n",
    "        self.bigram_probabilities =  np.zeros((self.vocab_size, self.vocab_size), dtype=float)\n",
    "        if mode == 0:\n",
    "            for i in range(self.vocab_size):\n",
    "                for j in range(self.vocab_size):\n",
    "                    self.bigram_probabilities[i, j] =  self.calculate_probability(self.index_vocabulary[i], self.index_vocabulary[j])\n",
    "\n",
    "        elif mode == 1:\n",
    "            for i in range(self.vocab_size):\n",
    "                for j in range(self.vocab_size):\n",
    "                    self.bigram_probabilities[i, j] =  self.laplace_smoothing(self.index_vocabulary[i], self.index_vocabulary[j])\n",
    "                    \n",
    "        elif mode == 2:\n",
    "            for i in range(self.vocab_size):\n",
    "                for j in range(self.vocab_size):\n",
    "                    print(i, j)\n",
    "                    self.bigram_probabilities[i, j] =  self.kneser_ney_smoothing(self.index_vocabulary[i], self.index_vocabulary[j], discount= discount) \n",
    "\n",
    "        else:\n",
    "            for i in range(self.vocab_size):\n",
    "                for j in range(self.vocab_size):\n",
    "                    print(i, j)\n",
    "                    self.bigram_probabilities[i, j] =  self.calculate_probability_emotion(self.index_vocabulary[i], self.index_vocabulary[j], emotion_id= emotion_id)                              \n",
    "# Display the formed corpus\n"
   ]
  },
  {
   "cell_type": "code",
   "execution_count": null,
   "metadata": {},
   "outputs": [],
   "source": []
  },
  {
   "cell_type": "code",
   "execution_count": 79,
   "metadata": {},
   "outputs": [],
   "source": [
    "bigramLM = BigramLM()\n",
    "bigramLM.learn(\"corpus.txt\")\n"
   ]
  },
  {
   "cell_type": "code",
   "execution_count": 68,
   "metadata": {},
   "outputs": [],
   "source": [
    "total = 5429*5429"
   ]
  },
  {
   "cell_type": "code",
   "execution_count": 69,
   "metadata": {},
   "outputs": [
    {
     "data": {
      "text/plain": [
       "3"
      ]
     },
     "execution_count": 69,
     "metadata": {},
     "output_type": "execute_result"
    }
   ],
   "source": [
    "bigramLM.vocabulary_index[\"feel\"]"
   ]
  },
  {
   "cell_type": "code",
   "execution_count": 83,
   "metadata": {},
   "outputs": [
    {
     "data": {
      "text/plain": [
       "4"
      ]
     },
     "execution_count": 83,
     "metadata": {},
     "output_type": "execute_result"
    }
   ],
   "source": [
    "bigramLM.bigram_counts[0,113]"
   ]
  },
  {
   "cell_type": "code",
   "execution_count": 84,
   "metadata": {},
   "outputs": [
    {
     "data": {
      "text/plain": [
       "24436"
      ]
     },
     "execution_count": 84,
     "metadata": {},
     "output_type": "execute_result"
    }
   ],
   "source": [
    "total - np.count_nonzero(bigramLM.bigram_counts == 0)"
   ]
  },
  {
   "cell_type": "code",
   "execution_count": 85,
   "metadata": {},
   "outputs": [
    {
     "data": {
      "text/plain": [
       "[{'label': 'sadness', 'score': 0.0006333347409963608},\n",
       " {'label': 'joy', 'score': 0.00038153710193000734},\n",
       " {'label': 'love', 'score': 0.00023734646674711257},\n",
       " {'label': 'anger', 'score': 0.9974260926246643},\n",
       " {'label': 'fear', 'score': 0.0011390680447220802},\n",
       " {'label': 'surprise', 'score': 0.00018260569777339697}]"
      ]
     },
     "execution_count": 85,
     "metadata": {},
     "output_type": "execute_result"
    }
   ],
   "source": [
    "bigramLM.emotion_scores('violent')\n",
    "# 0 -> sadness\n",
    "# 1 -> joy\n",
    "# 2 ->'love\n",
    "# 3 -> 'anger\n",
    "# 4-> fear\n",
    "# 5-> surprise\n"
   ]
  },
  {
   "cell_type": "code",
   "execution_count": 86,
   "metadata": {},
   "outputs": [
    {
     "name": "stdout",
     "output_type": "stream",
     "text": [
      "{'i': 0, 'stand': 1, 'here': 2, 'feel': 3, 'empty': 4, 'a': 5, 'class': 6, 'post': 7, 'count': 8, 'link': 9, 'href': 10, 'http': 11, 'mooshilu': 12, 'literally': 13, 'just': 14, 'text': 15, 'tychelle': 16, 'to': 17, 'see': 18, 'if': 19, 'she': 20, 'wants': 21, 'hang': 22, 'out': 23, 'because': 24, 'reading': 25, 'what': 26, 'wrote': 27, 'about': 28, 'my': 29, 'nonexistent': 30, 'social': 31, 'life': 32, 'made': 33, 'me': 34, 'so': 35, 'pathetic': 36, 'really': 37, 'regretful': 38, 'when': 39, 'hearing': 40, 'that': 41, 'shinae': 42, 'got': 43, 'married': 44, 'another': 45, 'man': 46, 'oh': 47, 'it': 48, 's': 49, 'sad': 50, 'hope': 51, 'alex': 52, 'and': 53, 'can': 54, 'be': 55, 'couple': 56, 'in': 57, 'real': 58, 'they': 59, 're': 60, 'perfect': 61, 'for': 62, 'each': 63, 'other': 64, 'believed': 65, 'was': 66, 'true': 67, 'love': 68, 'devastated': 69, 'wanted': 70, 'settle': 71, 'down': 72, 'have': 73, 'the': 74, 'whole': 75, 'marriage': 76, 'kids': 77, 'thing': 78, 'with': 79, 'him': 80, 'unimportant': 81, 'inadequate': 82, 'very': 83, 'low': 84, 'already': 85, 'horrible': 86, 'again': 87, 'personifying': 88, 'an': 89, 'act': 90, 'were': 91, 'not': 92, 'cause': 93, 'of': 94, 'their': 95, 'progeny': 96, 'who': 97, 'should': 98, 'genuflecting': 99, 'at': 100, 'her': 101, 'wronged': 102, 'woman': 103, 'feet': 104, 'ill': 105, 'paraphrase': 106, 'ranted': 107, 'being': 108, 'able': 109, 'trust': 110, 'anybody': 111, 'hurt': 112, 'feeling': 113, 'rejected': 114, 'etc': 115, 'aching': 116, 'all': 117, 'times': 118, 'day': 119, 'dumb': 120, 'first': 121, 'run': 122, 'through': 123, 'seems': 124, 'over': 125, 'head': 126, 'amp': 127, 'little': 128, 'too': 129, 'much': 130, 'struggling': 131, 'brain': 132, 'mention': 133, 'this': 134, 'one': 135, 'doesn': 136, 't': 137, 'fake': 138, 'im': 139, 'more': 140, 'scared': 141, 'like': 142, 'dramas': 143, 'or': 144, 'thrillers': 145, 'are': 146, 'actually': 147, 'capable': 148, 'happening': 149, 'leave': 150, 'disturbed': 151, 'groggy': 152, 'super': 153, 'tired': 154, 'during': 155, 'most': 156, 'fall': 157, 'we': 158, 'ended': 159, 'up': 160, 'staying': 161, 'home': 162, 'thanksgiving': 163, 'instead': 164, 'making': 165, 'hour': 166, 'trip': 167, 'jimmys': 168, 'family': 169, 'awkward': 170, 'havent': 171, 'been': 172, 'lately': 173, 'am': 174, 'seriously': 175, 'depressed': 176, 'is': 177, 'unfortunate': 178, 'had': 179, 'take': 180, 'these': 181, 'drastic': 182, 'measures': 183, 'notice': 184, 'as': 185, 'truly': 186, 'loved': 187, 'posting': 188, 'new': 189, 'work': 190, 'flickr': 191, 'interacting': 192, 'people': 193, 'from': 194, 'world': 195, 'still': 196, 'disappointed': 197, 'though': 198, 'thought': 199, 'exhausted': 200, 'emotions': 201, 'held': 202, 'frustration': 203, 'confusion': 204, 'having': 205, 'give': 206, 'look': 207, 'blank': 208, 'white': 209, 'piece': 210, 'paper': 211, 'want': 212, 'fill': 213, 'colours': 214, 'motion': 215, 'but': 216, 'left': 217, 'place': 218, 'heartbroken': 219, 'didnt': 220, 'respond': 221, 'some': 222, 'days': 223, 'cant': 224, 'put': 225, 'on': 226, 'smile': 227, 'pretend': 228, 'great': 229, 'let': 230, 'negativity': 231, 'creep': 232, 'ok': 233, 'how': 234, 'things': 235, 'no': 236, 'where': 237, 'crying': 238, 'sorry': 239, 'myself': 240, 'shame': 241, 'dirty': 242, 'src': 243, 'stop': 244, 'shitty': 245, 'general': 246, 'now': 247, 'write': 248, 'continuously': 249, 'used': 250, 'defective': 251, 'younger': 252, 'yet': 253, 'did': 254, 'sometimes': 255, 'discouraged': 256, 'why': 257, 'shadows': 258, 'come': 259, 'heart': 260, 'lonely': 261, 'long': 262, 'heaven': 263, 'jesus': 264, 'portion': 265, 'constant': 266, 'friend': 267, 'he': 268, 'his': 269, 'eye': 270, 'sparrow': 271, 'know': 272, 'watches': 273, 'do': 274, 'allow': 275, 'sit': 276, 'cycle': 277, 'today': 278, 'will': 279, 'nasty': 280, 'big': 281, 'blow': 282, 'fight': 283, 'public': 284, 'humiliated': 285, 'proven': 286, 'right': 287, 'unstable': 288, 'bad': 289, 'person': 290, 'victimized': 291, 'by': 292, 'drag': 293, 'our': 294, 'country': 295, 'heads': 296, 'sand': 297, 'traditionalists': 298, 'hesitate': 299, 'call': 300, 'them': 301, 'conservatives': 302, 'fear': 303, 'offending': 304, 'honest': 305, 'god': 306, 'think': 307, 'created': 308, 'years': 309, 'ago': 310, 'stuff': 311, 'skeletal': 312, 'remains': 313, 'kind': 314, 'hoax': 315, 'need': 316, 'find': 317, 'way': 318, 'get': 319, 'hopeless': 320, 'going': 321, 'say': 322, 'makes': 323, 'unloved': 324, 'shit': 325, 'thats': 326, 'overly': 327, 'dramatic': 328, 'pretty': 329, 'joan': 330, 'saw': 331, 'disappointment': 332, 'lifted': 333, 'spirit': 334, 'corinthians': 335, 'trying': 336, 'sound': 337, 'once': 338, 'while': 339, 'human': 340, 'morning': 341, 'headache': 342, 'extremely': 343, 'physically': 344, 'punished': 345, 'something': 346, 'didn': 347, 'even': 348, 'start': 349, 'taking': 350, 'm': 351, 'working': 352, 'cope': 353, 'awful': 354, 'hospital': 355, 'night': 356, 'helpless': 357, 'lot': 358, 'almost': 359, 'every': 360, 'does': 361, 'blog': 362, 'timely': 363, 'miss': 364, 'guilt': 365, 'reacted': 366, 'terrible': 367, 'said': 368, 'sake': 369, 'saying': 370, 'excited': 371, 'introduced': 372, 'library': 373, 'environment': 374, 'same': 375, 'time': 376, 'stressed': 377, 'means': 378, 'getting': 379, 'holiday': 380, 'dont': 381, 'its': 382, 'devestated': 383, 'would': 384, 'grave': 385, 'disservice': 386, 'feelings': 387, 'never': 388, 'recall': 389, 'quite': 390, 'worthless': 391, 'ugly': 392, 'afaerytaleinmakebelieve': 393, 'melancholy': 394, 'tonight': 395, 'kinda': 396, 'paint': 397, 'door': 398, 'ive': 399, 'needy': 400, 'wound': 401, 'driving': 402, 'butterflies': 403, 'teenager': 404, 'kissed': 405, 'then': 406, 'rotten': 407, 'week': 408, 'after': 409, 'expecting': 410, 'your': 411, 'son': 412, 'uhuru': 413, 'persecuted': 414, 'men': 415, 'martha': 416, 'karua': 417, 'carrying': 418, 'bags': 419, 'unwelcome': 420, 'often': 421, 'back': 422, 'ashamed': 423, 'done': 424, 'earlier': 425, 'sick': 426, 'care': 427, 'puppy': 428, 'living': 429, 'mother': 430, 'sentimental': 431, 'distinctly': 432, 'remember': 433, 'child': 434, 'celebrating': 435, 'parents': 436, 'th': 437, 'birthdays': 438, 'seemed': 439, 'trouble': 440, 'sleeping': 441, 'anxiety': 442, 'causing': 443, 'suffer': 444, 'lack': 445, 'motivation': 446, 'drive': 447, 'quickly': 448, 'becoming': 449, 'chore': 450, 'satisfied': 451, 'dull': 452, 'uninteresting': 453, 'neglectful': 454, 'alive': 455, 'happy': 456, 'any': 457, 'good': 458, 'anyone': 459, 'tought': 460, 'try': 461, 'hard': 462, 'girlfriend': 463, 'sure': 464, 'struggled': 465, 'subpar': 466, 'various': 467, 'areas': 468, 'always': 469, 'next': 470, 'relish': 471, 'hate': 472, 'also': 473, 'afraid': 474, 'extended': 475, 'feels': 476, 'knowing': 477, 'alone': 478, 'crappy': 479, 'happen': 480, 'studying': 481, 'discovering': 482, 'words': 483, 'crossed': 484, 'mind': 485, 'portray': 486, 'exact': 487, 'meaning': 488, 'missed': 489, 'destashing': 490, 'cuts': 491, 'fabric': 492, 'id': 493, 'bought': 494, 'make': 495, 'clothing': 496, 'has': 497, 'sat': 498, 'around': 499, 'certified': 500, 'via': 501, 'ace': 502, 'sort': 503, 'lame': 504, 'wasnt': 505, 'probably': 506, 'wouldnt': 507, 'told': 508, 'you': 509, 'moment': 510, 'only': 511, 'master': 512, 'weekends': 513, 'submissive': 514, 'bit': 515, 'disheartened': 516, 'wise': 517, 'recently': 518, 'unhappy': 519, 'grabbed': 520, 'shoes': 521, 'socks': 522, 'lazy': 523, 'car': 524, 'teacher': 525, 'greeted': 526, 'omg': 527, 'nice': 528, 'miserable': 529, 'ever': 530, 'since': 531, 'graduated': 532, 'high': 533, 'school': 534, 'felt': 535, 'better': 536, 'thursday': 537, 'friday': 538, 'enough': 539, 'into': 540, 'foggy': 541, 'last': 542, 'year': 543, 'nowhere': 544, 'near': 545, 'closing': 546, 'type': 547, 'could': 548, 'homesick': 549, 'contagious': 550, 'desperately': 551, 'wanting': 552, 'cuddle': 553, 'selfish': 554, 'physical': 555, 'needed': 556, 'front': 557, 'seat': 558, 'pain': 559, 'larger': 560, 'point': 561, 'disadvantaged': 562, 'believe': 563, 'there': 564, 'humanity': 565, 'subjects': 566, 'potential': 567, 'communication': 568, 'sharing': 569, 'ideas': 570, 'common': 571, 'ground': 572, 'language': 573, 'adolescence': 574, 'situation': 575, 'revert': 576, 'shy': 577, 'self': 578, 'esteem': 579, 'began': 580, 'contractions': 581, 'intensity': 582, 'creature': 583, 'two': 584, 'came': 585, 'close': 586, 'packing': 587, 'heading': 588, 'wondered': 589, 'less': 590, 'worse': 591, 'least': 592, 'far': 593, 'concerned': 594, 'blue': 595, 'ache': 596, 'listless': 597, 'nowadays': 598, 'useless': 599, 'standing': 600, 'sidelines': 601, 'wet': 602, 'lettuce': 603, 'someone': 604, 'flowers': 605, 'wuss': 606, 'rely': 607, 'certain': 608, 'add': 609, 'ons': 610, 'available': 611, 'midori': 612, 'ad': 613, 'cringe': 614, 'help': 615, 'troubled': 616, 'don': 617, 'disrespected': 618, 'easily': 619, 'agitated': 620, 'indecisive': 621, 'effing': 622, 'mil': 623, 'hated': 624, 'moving': 625, 'slower': 626, 'generally': 627, 'lethargic': 628, 'than': 629, 'ride': 630, 'trail': 631, 'hide': 632, 'secret': 633, 'inside': 634, 'away': 635, 'everyone': 636, 'assistance': 637, 'floated': 638, 'below': 639, 'surface': 640, 'couldnt': 641, 'seem': 642, 'bring': 643, 'above': 644, 'water': 645, 'knew': 646, 'shaking': 647, 'many': 648, 'reasons': 649, 'cyst': 650, 'drama': 651, 'started': 652, 'cold': 653, 'fast': 654, 'drained': 655, 'whiney': 656, 'celebrates': 657, 'eid': 658, 'somewhat': 659, 'spent': 660, 'weeks': 661, 'zombie': 662, 'mode': 663, 'numb': 664, 'overcome': 665, 'voice': 666, 'telling': 667, 'consistently': 668, 'firmly': 669, 'disgusting': 670, 'huge': 671, 'walked': 672, 'those': 673, 'believing': 674, 'hill': 675, 'entire': 676, 'maintain': 677, 'mood': 678, 'youre': 679, 'seen': 680, 'bigger': 681, 'bothered': 682, 'might': 683, 'changed': 684, 'us': 685, 'dismayed': 686, 'pleased': 687, 'tells': 688, 'taken': 689, 'staff': 690, 'blanked': 691, 'lesson': 692, 'seamlessly': 693, 'jumped': 694, 'support': 695, 'without': 696, 'stupid': 697, 'inferring': 698, 'guilty': 699, 'share': 700, 'challenges': 701, 'thrown': 702, 'financially': 703, 'emotionally': 704, 'medically': 705, 'fact': 706, 'abused': 707, 'adore': 708, 'gift': 709, 'list': 710, 'knows': 711, 'surprises': 712, 'ungrateful': 713, 'hellip': 714, 'lying': 715, 'kid': 716, 'hell': 717, 'stoop': 718, 'pending': 719, 'himself': 720, 'unreasonable': 721, 'lie': 722, 'towards': 723, 'seeing': 724, 'problems': 725, 'stems': 726, 'therapeutic': 727, 'completely': 728, 'terms': 729, 'step': 730, 'plate': 731, 'herself': 732, 'ready': 733, 'weepy': 734, 'emotional': 735, 'attachment': 736, 'simply': 737, 'else': 738, 'understand': 739, 'logic': 740, 'student': 741, 'congress': 742, 'boring': 743, 'faux': 744, 'diamond': 745, 'rings': 746, 'may': 747, 'rant': 748, 'burdened': 749, 'store': 750, 'defeated': 751, 'tell': 752, 'mom': 753, 'crazy': 754, 'printing': 755, 'service': 756, 'hair': 757, 'improved': 758, 'stickiness': 759, 'lingering': 760, 'go': 761, 'sense': 762, 'issue': 763, 'ones': 764, 'strong': 765, 'deal': 766, 'become': 767, 'jaded': 768, 'waiting': 769, 'summer': 770, 'moments': 771, 've': 772, 'resigned': 773, 'extent': 774, 'chapter': 775, 'st': 776, 'paul': 777, 'cannot': 778, 'anything': 779, 'such': 780, 'daughter': 781, 'brandish': 782, 'article': 783, 'fun': 784, 'bed': 785, 'late': 786, 'whenever': 787, 'tragic': 788, 'until': 789, 'picked': 790, 'moved': 791, 'czech': 792, 'republic': 793, 'chris': 794, 'sent': 795, 'package': 796, 'food': 797, 'music': 798, 'remind': 799, 'pull': 800, 'reread': 801, 'starting': 802, 'surreal': 803, 'reminders': 804, 'lulls': 805, 'whether': 806, 'awesome': 807, 'workouts': 808, 'finally': 809, 'realise': 810, 'effects': 811, 'weird': 812, 'confident': 813, 'zimmerman': 814, 'wont': 815, 'worried': 816, 'nervous': 817, 'job': 818, 'best': 819, 'heavenly': 820, 'father': 821, 'lost': 822, 'depression': 823, 'pit': 824, 'failure': 825, 'criticized': 826, 'resentful': 827, 'broke': 828, 'children': 829, 'twitter': 830, 'vain': 831, 'outfit': 832, 'alright': 833, 'nothing': 834, 'tv': 835, 'fix': 836, 'seventy': 837, 'happened': 838, 'classes': 839, 'teachers': 840, 'mean': 841, 'friends': 842, 'cop': 843, 'terrified': 844, 'minute': 845, 'partner': 846, 'view': 847, 'hundreds': 848, 'jackets': 849, 'obtain': 850, 'caught': 851, 'surgeons': 852, 'evaluating': 853, 'area': 854, 'sterile': 855, 'clean': 856, 'smelling': 857, 'brimming': 858, 'numerous': 859, 'devices': 860, 'realize': 861, 'met': 862, 'none': 863, 'goals': 864, 'explain': 865, 'embarrassed': 866, 'describe': 867, 'painful': 868, 'breakup': 869, 'went': 870, 'looking': 871, 'anguished': 872, 'betrayed': 873, 'disillusioned': 874, 'attend': 875, 'important': 876, 'lives': 877, 'blogging': 878, 'disgusted': 879, 'brush': 880, 'returning': 881, 'spain': 882, 'sob': 883, 'release': 884, 'techniques': 885, 'using': 886, 'expert': 887, 'face': 888, 'liquid': 889, 'foundation': 890, 'sephora': 891, 'mineral': 892, 'powder': 893, 'collection': 894, 'bones': 895, 'nobody': 896, 'cares': 897, 'gone': 898, 'either': 899, 'kills': 900, 'doesnt': 901, 'treat': 902, 'ghost': 903, 'sigh': 904, 'damn': 905, 'begin': 906, 'unpleasant': 907, 'anime': 908, 'fandom': 909, 'turned': 910, 'radio': 911, 'hoping': 912, 'lift': 913, 'spirits': 914, 'incapable': 915, 'questioning': 916, 'everything': 917, 'admitting': 918, 'gloating': 919, 'which': 920, 'speak': 921, 'online': 922, 'drop': 923, 'lists': 924, 'disregarded': 925, 'quit': 926, 'screw': 927, 'frame': 928, 'shop': 929, 'besides': 930, 'british': 931, 'mine': 932, 'beaten': 933, 'evil': 934, 'rest': 935, 'tried': 936, 'spend': 937, 'usually': 938, 'offers': 939, 'ignored': 940, 'youd': 941, 'mountain': 942, 'together': 943, 'motivated': 944, 'learn': 945, 'lessons': 946, 'history': 947, 'otherwise': 948, 'doomed': 949, 'repeat': 950, 'mistakes': 951, 'universe': 952, 'thinks': 953, 'handle': 954, 'giving': 955, 'suffering': 956, 'rejection': 957, 'shirley': 958, 'maclaine': 959, 'chick': 960, 'flick': 961, 'julia': 962, 'roberts': 963, 'demands': 964, 'drugs': 965, 'remorseful': 966, 'decision': 967, 'kicking': 968, 'cheap': 969, 'own': 970, 'amount': 971, 'sleep': 972, 'choice': 973, 'zero': 974, 'energy': 975, 'meds': 976, 'vitamins': 977, 'lots': 978, 'fluids': 979, 'hopes': 980, 'tomorrow': 981, 'suppose': 982, 'magazine': 983, 'presenting': 984, 'practical': 985, 'tips': 986, 'readers': 987, 'editors': 988, 'spice': 989, 'order': 990, 'denying': 991, 'temporarily': 992, 'wounded': 993, 'idiot': 994, 'yoga': 995, 'smallest': 996, 'responsibility': 997, 'large': 998, 'responsibilities': 999, 'agreed': 1000, 'burrowing': 1001, 'tickling': 1002, 'subconscious': 1003, 'hours': 1004, 'bastard': 1005, 'old': 1006, 'sexual': 1007, 'demon': 1008, 'returns': 1009, 'banishes': 1010, 'despair': 1011, 'mad': 1012, 'displays': 1013, 'wild': 1014, 'exhibitionism': 1015, 'april': 1016, 'part': 1017, 'newrhinegargoyle': 1018, 'hold': 1019, 'arm': 1020, 'paralysed': 1021, 'wind': 1022, 'beautiful': 1023, 'pictures': 1024, 'doing': 1025, 'thinking': 1026, 'monday': 1027, 'half': 1028, 'term': 1029, 'sounding': 1030, 'surprisingly': 1031, 'site': 1032, 'wish': 1033, 'liked': 1034, 'mud': 1035, 'wrestling': 1036, 'outrageous': 1037, 'rather': 1038, 'dare': 1039, 'average': 1040, 'band': 1041, 'fighting': 1042, 'keep': 1043, 'strangely': 1044, 'axilla': 1045, 'ached': 1046, 'enter': 1047, 'semipro': 1048, 'dao': 1049, 'ness': 1050, 'realised': 1051, 'unwanted': 1052, 'daycare': 1053, 'constantly': 1054, 'parent': 1055, 'isolated': 1056, 'meet': 1057, 'nighters': 1058, 'commit': 1059, 'suicide': 1060, 'second': 1061, 'users': 1062, 'continue': 1063, 'slow': 1064, 'death': 1065, 'spiral': 1066, 'stated': 1067, 'discussions': 1068, 'discourages': 1069, 'use': 1070, 'reference': 1071, 'progress': 1072, 'pics': 1073, 'wear': 1074, 'sleeve': 1075, 'arent': 1076, 'theyre': 1077, 'finished': 1078, 'foolish': 1079, 'expectations': 1080, 'story': 1081, 'found': 1082, 'stayed': 1083, 'letting': 1084, 'shared': 1085, 'previously': 1086, 'program': 1087, 'minor': 1088, 'disagreement': 1089, 'before': 1090, 'theres': 1091, 'itll': 1092, 'pass': 1093, 'happens': 1094, 'regret': 1095, 'luck': 1096, 'baby': 1097, 'normal': 1098, 'attention': 1099, 'given': 1100, 'well': 1101, 'forward': 1102, 'joy': 1103, 'americas': 1104, 'heat': 1105, 'wave': 1106, 'live': 1107, 'hot': 1108, 'middle': 1109, 'east': 1110, 'shits': 1111, 'early': 1112, 'sex': 1113, 'nightmare': 1114, 'husband': 1115, 'gloomy': 1116, 'blah': 1117, 'lunajubilee': 1118, 'wine': 1119, 'tartandheathered': 1120, 'breeds': 1121, 'loneliness': 1122, 'discontent': 1123, 'onto': 1124, 'economy': 1125, 'recession': 1126, 'stressful': 1127, 'money': 1128, 'unemployment': 1129, 'caused': 1130, 'topic': 1131, 'divorce': 1132, 'expressed': 1133, 'blessed': 1134, 'boy': 1135, 'value': 1136, 'perpetually': 1137, 'breaking': 1138, 'valuable': 1139, 'skinny': 1140, 'thin': 1141, 'thinner': 1142, 'disappear': 1143, 'past': 1144, 'months': 1145, 'few': 1146, 'short': 1147, 'including': 1148, 'grateful': 1149, 'writers': 1150, 'drecky': 1151, 'pay': 1152, 'cover': 1153, 'wall': 1154, 'needs': 1155, 'pop': 1156, 'color': 1157, 'secretary': 1158, 'called': 1159, 'fran': 1160, 'landed': 1161, 'dublin': 1162, 'whim': 1163, 'surprise': 1164, 'permanent': 1165, 'chance': 1166, 'holyhead': 1167, 'bathroom': 1168, 'pee': 1169, 'per': 1170, 'instructions': 1171, 'books': 1172, 'provided': 1173, 'leveled': 1174, 'grey': 1175, 'running': 1176, 'fearful': 1177, 'usual': 1178, 'progression': 1179, 'sinus': 1180, 'infection': 1181, 'walking': 1182, 'pneumonia': 1183, 'pounding': 1184, 'www': 1185, 'especially': 1186, 'lower': 1187, 'awoke': 1188, 'guess': 1189, 'isnt': 1190, 'exciting': 1191, 'meant': 1192, 'strangers': 1193, 'turn': 1194, 'funny': 1195, 'roundly': 1196, 'poor': 1197, 'tongue': 1198, 'ravaged': 1199, 'hops': 1200, 'challenge': 1201, 'taste': 1202, 'sensation': 1203, 'passionate': 1204, 'invisible': 1205, 'weekend': 1206, 'number': 1207, 'definition': 1208, 'engaging': 1209, 'evening': 1210, 'reason': 1211, 'aim': 1212, 'achieved': 1213, 'unsuccessful': 1214, 'recommend': 1215, 'strongly': 1216, 'interested': 1217, 'fashioned': 1218, 'diverse': 1219, 'americana': 1220, 'nap': 1221, 'afternoon': 1222, 'woke': 1223, 'maybe': 1224, 'sign': 1225, 'steve': 1226, 'irwins': 1227, 'accident': 1228, 'park': 1229, 'listening': 1230, 'listed': 1231, 'thatd': 1232, 'admit': 1233, 'cubicle': 1234, 'unless': 1235, 'guy': 1236, 'hasnt': 1237, 'texted': 1238, 'calling': 1239, 'efforts': 1240, 'contrary': 1241, 'chiharu': 1242, 'episode': 1243, 'blind': 1244, 'levi': 1245, 'certainly': 1246, 'race': 1247, 'against': 1248, 'typical': 1249, 'peers': 1250, 'win': 1251, 'muscles': 1252, 'break': 1253, 'sweat': 1254, 'focus': 1255, 'upset': 1256, 'loss': 1257, 'material': 1258, 'possession': 1259, 'flaw': 1260, 'possess': 1261, 'condemned': 1262, 'tempted': 1263, 'numbing': 1264, 'pleasures': 1265, 'deprived': 1266, 'opportunity': 1267, 'victoria': 1268, 'rubies': 1269, 'mentally': 1270, 'ridiculous': 1271, 'discovered': 1272, 'pap': 1273, 'smears': 1274, 'medicine': 1275, 'moods': 1276, 'annoying': 1277, 'unliked': 1278, 'roster': 1279, 'looks': 1280, 'messy': 1281, 'characters': 1282, 'members': 1283, 'housekeep': 1284, 'risk': 1285, 'albeit': 1286, 'small': 1287, 'ebayed': 1288, 'toon': 1289, 'turning': 1290, 'guild': 1291, 'outcast': 1292, 'belonging': 1293, 'insist': 1294, 'jumble': 1295, 'letters': 1296, 'inhalers': 1297, 'took': 1298, 'college': 1299, 'culprit': 1300, 'permanently': 1301, 'damaged': 1302, 'haven': 1303, 'side': 1304, 'hes': 1305, 'medications': 1306, 'genetic': 1307, 'talking': 1308, 'book': 1309, 'pity': 1310, 'implies': 1311, 'justice': 1312, 'uncomfortable': 1313, 'except': 1314, 'pulled': 1315, 'doorknob': 1316, 'cloest': 1317, 'fairly': 1318, 'considerate': 1319, 'possible': 1320, 'others': 1321, 'soul': 1322, 'collective': 1323, 'ego': 1324, 'society': 1325, 'critical': 1326, 'soap': 1327, 'natural': 1328, 'squeeze': 1329, 'five': 1330, 'memories': 1331, 'promising': 1332, 'elses': 1333, 'pub': 1334, 'morose': 1335, 'end': 1336, 'popular': 1337, 'la': 1338, 'granted': 1339, 'trepidation': 1340, 'statistics': 1341, 'ian': 1342, 'date': 1343, 'final': 1344, 'faking': 1345, 'rupture': 1346, 'reader': 1347, 'writer': 1348, 'relationship': 1349, 'won': 1350, 'stores': 1351, 'iphone': 1352, 'internet': 1353, 'must': 1354, 'haves': 1355, 'lets': 1356, 'overreacting': 1357, 'perhaps': 1358, 'amplified': 1359, 'reaction': 1360, 'tone': 1361, 'rare': 1362, 'cases': 1363, 'figure': 1364, 'loves': 1365, 'matter': 1366, 'michelle': 1367, 'goes': 1368, 'ballistic': 1369, 'holding': 1370, 'obviously': 1371, 'independence': 1372, 'future': 1373, 'muscle': 1374, 'pains': 1375, 'abit': 1376, 'match': 1377, 'black': 1378, 'red': 1379, 'chills': 1380, 'off': 1381, 'deeply': 1382, 'condemn': 1383, 'mothers': 1384, 'finding': 1385, 'fulfillment': 1386, 'wtf': 1387, 'kiss': 1388, 'stranger': 1389, 'aspect': 1390, 'fell': 1391, 'appropriately': 1392, 'shamed': 1393, 'incredibly': 1394, 'open': 1395, 'website': 1396, 'feature': 1397, 'expected': 1398, 'restart': 1399, 'gallery': 1400, 'gorgeous': 1401, 'totally': 1402, 'cross': 1403, 'finish': 1404, 'line': 1405, 'tend': 1406, 'discomforting': 1407, 'emotion': 1408, 'plays': 1409, 'interpreted': 1410, 'show': 1411, 'asking': 1412, 'ryan': 1413, 'ben': 1414, 'cut': 1415, 'body': 1416, 'advances': 1417, 'reminds': 1418, 'despite': 1419, 'ra': 1420, 'tries': 1421, 'finds': 1422, 'sexually': 1423, 'attractive': 1424, 'brains': 1425, 'atleast': 1426, 'concerns': 1427, 'jens': 1428, 'mobility': 1429, 'declined': 1430, 'uses': 1431, 'crutches': 1432, 'doctor': 1433, 'suggested': 1434, 'occupational': 1435, 'therapy': 1436, 'contact': 1437, 'local': 1438, 'therapist': 1439, 'merry': 1440, 'continued': 1441, 'aroused': 1442, 'anymore': 1443, 'reflects': 1444, 'fraction': 1445, 'along': 1446, 'lines': 1447, 'dishes': 1448, 'anger': 1449, 'wed': 1450, 'basically': 1451, 'companies': 1452, 'success': 1453, 'decided': 1454, 'beauty': 1455, 'products': 1456, 'd': 1457, 'pagetitle': 1458, 'superman': 1459, 'mereka': 1460, 'penyeri': 1461, 'sheet': 1462, 'difference': 1463, 'anticipating': 1464, 'videos': 1465, 'estrangement': 1466, 'between': 1467, 'playing': 1468, 'unlike': 1469, 'batman': 1470, 'cry': 1471, 'hobble': 1472, 'bike': 1473, 'rack': 1474, 'shoe': 1475, 'barefoot': 1476, 'fucking': 1477, 'desperate': 1478, 'hello': 1479, 'fellow': 1480, 'uncle': 1481, 'pulp': 1482, 'barely': 1483, 'distance': 1484, 'relationships': 1485, 'invested': 1486, 'fuck': 1487, 'uncharacteristically': 1488, 'carrry': 1489, 'moronic': 1490, 'name': 1491, 'ism': 1492, 'espouse': 1493, 'stuck': 1494, 'proved': 1495, 'reminder': 1496, 'building': 1497, 'habits': 1498, 'beyond': 1499, 'plagued': 1500, 'personally': 1501, 'invest': 1502, 'friendships': 1503, 'perceive': 1504, 'investment': 1505, 'returned': 1506, 'neither': 1507, 'positively': 1508, 'window': 1509, 'state': 1510, 'clearly': 1511, 'adomen': 1512, 'contract': 1513, 'everytime': 1514, 'cough': 1515, 'exercise': 1516, 'haha': 1517, 'comparison': 1518, 'bloggers': 1519, 'proud': 1520, 'x': 1521, 'weight': 1522, 'hurl': 1523, 'cave': 1524, 'sadness': 1525, 'devour': 1526, 'beginning': 1527, 'touch': 1528, 'flusher': 1529, 'position': 1530, 'seated': 1531, 'kept': 1532, 'drinking': 1533, 'bull': 1534, 'consciously': 1535, 'sees': 1536, 'hits': 1537, 'exist': 1538, 'isn': 1539, 'somehow': 1540, 'holds': 1541, 'puts': 1542, 'o': 1543, 'scream': 1544, 'carry': 1545, 'photography': 1546, 'worked': 1547, 'system': 1548, 'persuade': 1549, 'remain': 1550, 'retired': 1551, 'wedding': 1552, 'photographer': 1553, 'kicked': 1554, 'repeatedly': 1555, 'dream': 1556, 'crushing': 1557, 'awake': 1558, 'thank': 1559, 'utterly': 1560, 'belittled': 1561, 'keyed': 1562, 'trigger': 1563, 'points': 1564, 'inarticulate': 1565, 'laughable': 1566, 'flattened': 1567, 'knowledgeable': 1568, 'drastically': 1569, 'swirling': 1570, 'acceptable': 1571, 'glad': 1572, 'thaliad': 1573, 'celebrate': 1574, 'calming': 1575, 'colors': 1576, 'dunno': 1577, 'pleasant': 1578, 'sounds': 1579, 'include': 1580, 'idea': 1581, 'healing': 1582, 'holistic': 1583, 'radiant': 1584, 'vibrant': 1585, 'enthusiastic': 1586, 'age': 1587, 'supposed': 1588, 'stay': 1589, 'lively': 1590, 'room': 1591, 'explorer': 1592, 'enuff': 1593, 'offer': 1594, 'move': 1595, 'stairs': 1596, 'bedrooms': 1597, 'baffroom': 1598, 'content': 1599, 'seconds': 1600, 'pressure': 1601, 'upon': 1602, 'useful': 1603, 'conor': 1604, 'sincere': 1605, 'trusted': 1606, 'mike': 1607, 'personal': 1608, 'information': 1609, 'delighted': 1610, 'rewarded': 1611, 'pragmatic': 1612, 'advice': 1613, 'outcomes': 1614, 'involved': 1615, 'regular': 1616, 'gain': 1617, 'rational': 1618, 'responses': 1619, 'enquiries': 1620, 'particularly': 1621, 'notifying': 1622, 'shadow': 1623, 'ministers': 1624, 'outcome': 1625, 'revelation': 1626, 'reassured': 1627, 'wouldn': 1628, 'hear': 1629, 'cool': 1630, 'several': 1631, 'flab': 1632, 'fab': 1633, 'cried': 1634, 'convinced': 1635, 'plan': 1636, 'purpose': 1637, 'grounded': 1638, 'reality': 1639, 'minuscule': 1640, 'growth': 1641, 'tampons': 1642, 'period': 1643, 'cramps': 1644, 'firs': 1645, 'dad': 1646, 'carefree': 1647, 'apply': 1648, 'learned': 1649, 'thus': 1650, 'mission': 1651, 'privileged': 1652, 'read': 1653, 'stories': 1654, 'received': 1655, 'enjoyed': 1656, 'crafting': 1657, 'zealand': 1658, 'women': 1659, 'screenwriters': 1660, 'films': 1661, 'refer': 1662, 'weak': 1663, 'exactly': 1664, 'reflect': 1665, 'accomplished': 1666, 'dun': 1667, 'forgive': 1668, 'team': 1669, 'losing': 1670, 'trafford': 1671, 'stamford': 1672, 'bridge': 1673, 'range': 1674, 'russell': 1675, 'crowe': 1676, 'robin': 1677, 'hood': 1678, 'merida': 1679, 'brave': 1680, 'event': 1681, 'welcomed': 1682, 'evolve': 1683, 'dress': 1684, 'pants': 1685, 'comfortable': 1686, 'wearing': 1687, 'skirts': 1688, 'distant': 1689, 'month': 1690, 'opener': 1691, 'productive': 1692, 'organized': 1693, 'free': 1694, 'lucky': 1695, 'four': 1696, 'leaf': 1697, 'clover': 1698, 'fine': 1699, 'arrived': 1700, 'gym': 1701, 'ball': 1702, 'sunshine': 1703, 'although': 1704, 'dorky': 1705, 'unfit': 1706, 'rotund': 1707, 'sloth': 1708, 'fit': 1709, 'buffed': 1710, 'fierce': 1711, 'bloke': 1712, 'anyway': 1713, 'push': 1714, 'embrace': 1715, 'encourage': 1716, 'enriched': 1717, 'entertained': 1718, 'eager': 1719, 'dazzling': 1720, 'cert': 1721, 'whilst': 1722, 'phone': 1723, 'mum': 1724, 'obligation': 1725, 'duty': 1726, 'expectation': 1727, 'trusting': 1728, 'intuition': 1729, 'guide': 1730, 'actual': 1731, 'direction': 1732, 'valued': 1733, 'supported': 1734, 'cigarette': 1735, 'deep': 1736, 'rooted': 1737, 'memory': 1738, 'enjoying': 1739, 'sucking': 1740, 'carcenogenic': 1741, 'smoke': 1742, 'lungs': 1743, 'pleasantness': 1744, 'illusion': 1745, 'cars': 1746, 'attempt': 1747, 'owning': 1748, 'respected': 1749, 'lbs': 1750, 'virtuous': 1751, 'worth': 1752, 'delicious': 1753, 'artisan': 1754, 'cocktail': 1755, 'return': 1756, 'please': 1757, 'email': 1758, 'dinner': 1759, 'coffee': 1760, 'positive': 1761, 'desp': 1762, 'joyful': 1763, 'negative': 1764, 'thoughts': 1765, 'effect': 1766, 'cute': 1767, 'flirty': 1768, 'bright': 1769, 'coloured': 1770, 'lipsticks': 1771, 'bold': 1772, 'terrific': 1773, 'nonetheless': 1774, 'managed': 1775, 'carcass': 1776, 'nordstroms': 1777, 'solo': 1778, 'follower': 1779, 'queer': 1780, 'performing': 1781, 'lovebox': 1782, 'vital': 1783, 'full': 1784, 'passed': 1785, 'boards': 1786, 'determined': 1787, 'hopeful': 1788, 'truth': 1789, 'wendy': 1790, 'brown': 1791, 'alexa': 1792, 'generous': 1793, 'dog': 1794, 'em': 1795, 'animals': 1796, 'eyes': 1797, 'machines': 1798, 'spirituality': 1799, 'nature': 1800, 'enthusiasm': 1801, 'keeps': 1802, 'strikes': 1803, 'fancy': 1804, 'fantastic': 1805, 'beast': 1806, 'magical': 1807, 'dramatically': 1808, 'lit': 1809, 'transformations': 1810, 'exited': 1811, 'trimester': 1812, 'emerged': 1813, 'relaxed': 1814, 'ambulatory': 1815, 'possibly': 1816, 'educate': 1817, 'breast': 1818, 'exams': 1819, 'yearly': 1820, 'check': 1821, 'ups': 1822, 'save': 1823, 'plunge': 1824, 'icy': 1825, 'depths': 1826, 'invigorated': 1827, 'invincible': 1828, 'potted': 1829, 'fuchsia': 1830, 'grown': 1831, 'cutting': 1832, 'cuttings': 1833, 'clubs': 1834, 'guys': 1835, 'intimated': 1836, 'clever': 1837, 'however': 1838, 'unknown': 1839, 'tinge': 1840, 'imbibed': 1841, 'thereby': 1842, 'produce': 1843, 'incalculable': 1844, 'mischief': 1845, 'clench': 1846, 'corners': 1847, 'assured': 1848, 'impossible': 1849, 'poked': 1850, 'progressively': 1851, 'hit': 1852, 'wire': 1853, 'festive': 1854, 'fire': 1855, 'imagination': 1856, 'radiator': 1857, 'pleasantly': 1858, 'mellow': 1859, 'regardless': 1860, 'phrases': 1861, 'sentences': 1862, 'themselves': 1863, 'wonderful': 1864, 'watch': 1865, 'lucas': 1866, 'grows': 1867, 'girls': 1868, 'tolerating': 1869, 'paying': 1870, 'likeable': 1871, 'stages': 1872, 'nervousness': 1873, 'sheer': 1874, 'terror': 1875, 'preform': 1876, 'poems': 1877, 'honestly': 1878, 'closer': 1879, 'amazing': 1880, 'breath': 1881, 'immensely': 1882, 'thankful': 1883, 'dwelling': 1884, 'boyfriend': 1885, 'crowded': 1886, 'growing': 1887, 'bother': 1888, 'doubt': 1889, 'mica': 1890, 'graceful': 1891, 'willing': 1892, 'wrong': 1893, 'jan': 1894, 'fabulous': 1895, 'bag': 1896, 'smart': 1897, 'easier': 1898, 'balks': 1899, 'soup': 1900, 'divine': 1901, 'gives': 1902, 'table': 1903, 'talented': 1904, 'teeth': 1905, 'pills': 1906, 'showered': 1907, 'eaten': 1908, 'breakfast': 1909, 'varsities': 1910, 'muse': 1911, 'songs': 1912, 'christmas': 1913, 'trees': 1914, 'spurring': 1915, 'question': 1916, 'edge': 1917, 'bringing': 1918, 'dharma': 1919, 'necessary': 1920, 'schools': 1921, 'shots': 1922, 'directing': 1923, 'painless': 1924, 'baking': 1925, 'facebook': 1926, 'babies': 1927, 'squirts': 1928, 'forever': 1929, 'heels': 1930, 'set': 1931, 'wax': 1932, 'draw': 1933, 'unibrow': 1934, 'rid': 1935, 'spare': 1936, 'hairs': 1937, 'creeping': 1938, 'toward': 1939, 'eyelid': 1940, 'jasmine': 1941, 'green': 1942, 'tea': 1943, 'teapot': 1944, 'cheese': 1945, 'tomato': 1946, 'sandwich': 1947, 'pretzel': 1948, 'donut': 1949, 'img': 1950, 'breeze': 1951, 'degrees': 1952, 'humid': 1953, 'outside': 1954, 'easy': 1955, 'yummy': 1956, 'sandwiches': 1957, 'leftovers': 1958, 'faithful': 1959, 'viewing': 1960, 'glories': 1961, 'holy': 1962, 'horror': 1963, 'darkness': 1964, 'dread': 1965, 'hath': 1966, 'overwhelmed': 1967, 'writin': 1968, 'journal': 1969, 'jane': 1970, 'austen': 1971, 'novel': 1972, 'aided': 1973, 'mr': 1974, 'gs': 1975, 'computer': 1976, 'features': 1977, 'hairstye': 1978, 'elegant': 1979, 'round': 1980, 'lose': 1981, 'getaway': 1982, 'precious': 1983, 'powerful': 1984, 'special': 1985, 'gifts': 1986, 'walk': 1987, 'laps': 1988, 'gut': 1989, 'genuinely': 1990, 'successful': 1991, 'further': 1992, 'education': 1993, 'course': 1994, 'glamourous': 1995, 'naked': 1996, 'neglect': 1997, 'intelligent': 1998, 'rampant': 1999, 'parenting': 2000, 'style': 2001, 'zooming': 2002, 'trinity': 2003, 'peaceful': 2004, 'easygoing': 2005, 'exhaustion': 2006, 'writing': 2007, 'exceptionally': 2008, 'smug': 2009, 'cos': 2010, 'lovely': 2011, 'plans': 2012, 'homes': 2013, 'grew': 2014, 'leadership': 2015, 'inspired': 2016, 'runner': 2017, 'results': 2018, 'fixed': 2019, 'ways': 2020, 'creative': 2021, 'activist': 2022, 'worker': 2023, 'cousins': 2024, 'gods': 2025, 'oddly': 2026, 'saturday': 2027, 'behind': 2028, 'aunt': 2029, 'uncles': 2030, 'cousin': 2031, 'under': 2032, 'ecstatic': 2033, 'smirking': 2034, 'different': 2035, 'express': 2036, 'appreciative': 2037, 'coming': 2038, 'heavy': 2039, 'gave': 2040, 'grasp': 2041, 'sensed': 2042, 'behaviour': 2043, 'frankly': 2044, 'rude': 2045, 'immature': 2046, 'card': 2047, 'cards': 2048, 'papermakeupstamps': 2049, 'serving': 2050, 'keeping': 2051, 'committing': 2052, 'casual': 2053, 'conversation': 2054, 'gathering': 2055, 'transported': 2056, 'dark': 2057, 'spot': 2058, 'posts': 2059, 'comments': 2060, 'chuffed': 2061, 'honored': 2062, 'legend': 2063, 'admire': 2064, 'similarities': 2065, 'contented': 2066, 'sadhana': 2067, 'fulfilled': 2068, 'feminist': 2069, 'issues': 2070, 'periods': 2071, 'target': 2072, 'experience': 2073, 'feedback': 2074, 'constructively': 2075, 'both': 2076, 'within': 2077, 'studies': 2078, 'burying': 2079, 'crotch': 2080, 'branding': 2081, 'taylor': 2082, 'swift': 2083, 'inspiring': 2084, 'song': 2085, 'represent': 2086, 'fans': 2087, 'mircowaved': 2088, 'entirely': 2089, 'throw': 2090, 'habanero': 2091, 'spring': 2092, 'onions': 2093, 'incomes': 2094, 'contribute': 2095, 'causes': 2096, 'grief': 2097, 'slam': 2098, 'boat': 2099, 'denmark': 2100, 'worry': 2101, 'gosh': 2102, 'strongest': 2103, 'connection': 2104, 'thrilled': 2105, 'presence': 2106, 'belief': 2107, 'peace': 2108, 'sincerity': 2109, 'argument': 2110, 'bal': 2111, 'thackerey': 2112, 'allowing': 2113, 'pakistan': 2114, 'play': 2115, 'indian': 2116, 'soil': 2117, 'till': 2118, 'action': 2119, 'creed': 2120, 'friendly': 2121, 'relations': 2122, 'india': 2123, 'artistic': 2124, 'artwork': 2125, 'optimistic': 2126, 'organic': 2127, 'added': 2128, 'ingredients': 2129, 'potentially': 2130, 'bouncy': 2131, 'appts': 2132, 'butt': 2133, 'gracious': 2134, 'perception': 2135, 'keen': 2136, 'badly': 2137, 'ability': 2138, 'pegged': 2139, 'exhilarated': 2140, 'chosen': 2141, 'batch': 2142, 'slicing': 2143, 'knife': 2144, 'creamy': 2145, 'cheesecake': 2146, 'imagine': 2147, 'mouth': 2148, 'emergence': 2149, 'abundance': 2150, 'keenly': 2151, 'worthwhile': 2152, 'uplifted': 2153, 'martinez': 2154, 'association': 2155, 'occupy': 2156, 'street': 2157, 'shred': 2158, 'escape': 2159, 'tears': 2160, 'sweet': 2161, 'sister': 2162, 'dunstable': 2163, 'field': 2164, 'watching': 2165, 'preposterous': 2166, 'motors': 2167, 'grass': 2168, 'slopes': 2169, 'trialling': 2170, 'iming': 2171, 'outgoing': 2172, 'pokes': 2173, 'mrs': 2174, 'lightning': 2175, 'rod': 2176, 'lived': 2177, 'process': 2178, 'flung': 2179, 'suitcase': 2180, 'crossing': 2181, 'explode': 2182, 'pressurized': 2183, 'cabin': 2184, 'splendid': 2185, 'matches': 2186, 'tiggers': 2187, 'personality': 2188, 'perfection': 2189, 'largely': 2190, 'resolved': 2191, 'itself': 2192, 'pair': 2193, 'designer': 2194, 'box': 2195, 'trimmings': 2196, 'humble': 2197, 'comes': 2198, 'adventure': 2199, 'ton': 2200, 'photo': 2201, 'wasn': 2202, 'rich': 2203, 'title': 2204, 'biggie': 2205, 'kevin': 2206, 'hart': 2207, 'wiz': 2208, 'khalifa': 2209, 'bu': 2210, 'thaim': 2211, 'jay': 2212, 'z': 2213, 'energetic': 2214, 'led': 2215, 'socially': 2216, 'accepted': 2217, 'lip': 2218, 'curl': 2219, 'amused': 2220, 'blend': 2221, 'minutes': 2222, 'trainer': 2223, 'vibration': 2224, 'test': 2225, 'programs': 2226, 'supremely': 2227, 'notes': 2228, 'bars': 2229, 'smell': 2230, 'fragrance': 2231, 'fail': 2232, 'providing': 2233, 'girl': 2234, 'breastfeeding': 2235, 'zenos': 2236, 'casually': 2237, 'mentioned': 2238, 'canvas': 2239, 'calm': 2240, 'focused': 2241, 'laughed': 2242, 'closed': 2243, 'doors': 2244, 'conclusions': 2245, 'rat': 2246, 'morally': 2247, 'serve': 2248, 'consuming': 2249, 'charmed': 2250, 'dylan': 2251, 'whatever': 2252, 'planning': 2253, 'stripped': 2254, 'blessings': 2255, 'pronounced': 2256, 'realized': 2257, 'accordance': 2258, 'faithfulness': 2259, 'scene': 2260, 'career': 2261, 'choices': 2262, 'video': 2263, 'gaming': 2264, 'industry': 2265, 'impostor': 2266, 'talk': 2267, 'behavior': 2268, 'contracts': 2269, 'reinforcement': 2270, 'cognitive': 2271, 'reframing': 2272, 'activity': 2273, 'diminishing': 2274, 'dissolving': 2275, 'deferring': 2276, 'honoured': 2277, 'appeared': 2278, 'xbla': 2279, 'sony': 2280, 'handheld': 2281, 'reiterate': 2282, 'clear': 2283, 'despondent': 2284, 'incidents': 2285, 'mermaidhaire': 2286, 'questioned': 2287, 'wondering': 2288, 'jubilant': 2289, 'adventurous': 2290, 'definitely': 2291, 'visit': 2292, 'bayou': 2293, 'swamp': 2294, 'enjoy': 2295, 'cypress': 2296, 'wildlife': 2297, 'truthful': 2298, 'hiccups': 2299, 'reach': 2300, 'ultimate': 2301, 'goal': 2302, 'healthy': 2303, 'kg': 2304, 'height': 2305, 'noticed': 2306, 'hgtv': 2307, 'strategy': 2308, 'historical': 2309, 'imply': 2310, 'method': 2311, 'study': 2312, 'subject': 2313, 'superior': 2314, 'caps': 2315, 'stronger': 2316, 'curiosity': 2317, 'killing': 2318, 'encouraging': 2319, 'craving': 2320, 'chat': 2321, 'rustie': 2322, 'dean': 2323, 'hometown': 2324, 'moose': 2325, 'jaw': 2326, 'hanging': 2327, 'burgeoning': 2328, 'garden': 2329, 'spending': 2330, 'parties': 2331, 'celebrations': 2332, 'house': 2333, 'plants': 2334, 'handful': 2335, 'remaining': 2336, 'sets': 2337, 'hers': 2338, 'asked': 2339, 'jewellery': 2340, 'buys': 2341, 'inquire': 2342, 'incheswhyinches': 2343, 'relocating': 2344, 'droves': 2345, 'security': 2346, 'metal': 2347, 'relieving': 2348, 'quiet': 2349, 'birding': 2350, 'comprehend': 2351, 'painstakingly': 2352, 'rigorous': 2353, 'experiments': 2354, 'ingenious': 2355, 'theories': 2356, 'scores': 2357, 'tracking': 2358, 'terribly': 2359, 'tranquil': 2360, 'exspress': 2361, 'appriciation': 2362, 'vomity': 2363, 'shocked': 2364, 'jealousy': 2365, 'soon': 2366, 'ran': 2367, 'miles': 2368, 'custom': 2369, 'orthotics': 2370, 'suspect': 2371, 'professional': 2372, 'pressures': 2373, 'foment': 2374, 'saddle': 2375, 'officially': 2376, 'clay': 2377, 'limits': 2378, 'expression': 2379, 'became': 2380, 'mastery': 2381, 'total': 2382, 'partnership': 2383, 'raging': 2384, 'bitch': 2385, 'angry': 2386, 'cranky': 2387, 'restless': 2388, 'beloved': 2389, 'season': 2390, 'calls': 2391, 'hyde': 2392, 'seasons': 2393, 'bookmark': 2394, 'emanating': 2395, 'reaching': 2396, 'longingly': 2397, 'probing': 2398, 'tip': 2399, 'hardness': 2400, 'sam': 2401, 'oblige': 2402, 'drove': 2403, 'aware': 2404, 'ask': 2405, 'knock': 2406, 'darlings': 2407, 'hugh': 2408, 'laurie': 2409, 'aka': 2410, 'dr': 2411, 'ambition': 2412, 'bee': 2413, 'leg': 2414, 'yours': 2415, 'wrap': 2416, 'arms': 2417, 'safe': 2418, 'nod': 2419, 'personalized': 2420, 'appreciate': 2421, 'sell': 2422, 'folk': 2423, 'portland': 2424, 'land': 2425, 'struggle': 2426, 'humiliating': 2427, 'guffaw': 2428, 'whats': 2429, 'learns': 2430, 'communicates': 2431, 'differently': 2432, 'figuring': 2433, 'longevity': 2434, 'devoted': 2435, 'niggling': 2436, 'complacent': 2437, 'abilities': 2438, 'purchase': 2439, 'supporting': 2440, 'monitor': 2441, 'truck': 2442, 'chest': 2443, 'breathe': 2444, 'intubate': 2445, 'survive': 2446, 'develop': 2447, 'deteriorate': 2448, 'art': 2449, 'moral': 2450, 'ethical': 2451, 'views': 2452, 'cupcakes': 2453, 'velvet': 2454, 'complaining': 2455, 'bump': 2456, 'belly': 2457, 'triumphant': 2458, 'hypocrite': 2459, 'palin': 2460, 'reached': 2461, 'conclusion': 2462, 'likely': 2463, 'unencumberedness': 2464, 'comment': 2465, 'visited': 2466, 'giraffes': 2467, 'majestic': 2468, 'appealing': 2469, 'spinning': 2470, 'activities': 2471, 'demos': 2472, 'talks': 2473, 'panel': 2474, 'exhibitions': 2475, 'conversations': 2476, 'fair': 2477, 'communal': 2478, 'meals': 2479, 'exchange': 2480, 'vendor': 2481, 'passage': 2482, 'send': 2483, 'church': 2484, 'warning': 2485, 'sending': 2486, 'disciples': 2487, 'mane': 2488, 'releases': 2489, 'lp': 2490, 'diary': 2491, 'trap': 2492, 'computers': 2493, 'pour': 2494, 'code': 2495, 'extensions': 2496, 'goddamned': 2497, 'hopelessly': 2498, 'romantic': 2499, 'creativity': 2500, 'prone': 2501, 'fits': 2502, 'stereotypical': 2503, 'artist': 2504, 'bullshit': 2505, 'grain': 2506, 'salt': 2507, 'dreamed': 2508, 'tugs': 2509, 'lips': 2510, 'subaru': 2511, 'stops': 2512, 'innocent': 2513, 'presented': 2514, 'begins': 2515, 'young': 2516, 'kicks': 2517, 'ass': 2518, 'core': 2519, 'melody': 2520, 'lyrics': 2521, 'starter': 2522, 'allowed': 2523, 'interact': 2524, 'specifically': 2525, 'plight': 2526, 'print': 2527, 'choose': 2528, 'gutted': 2529, 'enraged': 2530, 'afterward': 2531, 'naturally': 2532, 'fade': 2533, 'hairstyle': 2534, 'starts': 2535, 'droop': 2536, 'frizz': 2537, 'relieved': 2538, 'clearing': 2539, 'cobwebs': 2540, 'psychopathology': 2541, 'affects': 2542, 'manage': 2543, 'shower': 2544, 'headed': 2545, 'bsc': 2546, 'loop': 2547, 'allies': 2548, 'club': 2549, 'helped': 2550, 'marvellous': 2551, 'prank': 2552, 'continually': 2553, 'legions': 2554, 'supporters': 2555, 'established': 2556, 'indy': 2557, 'careers': 2558, 'digital': 2559, 'grandiosely': 2560, 'shopping': 2561, 'patriotism': 2562, 'twice': 2563, 'jolly': 2564, 'igniting': 2565, 'brand': 2566, 'influence': 2567, 'seasonal': 2568, 'active': 2569, 'poking': 2570, 'rain': 2571, 'squeal': 2572, 'glee': 2573, 'squishing': 2574, 'toes': 2575, 'takes': 2576, 'outdoors': 2577, 'apologizes': 2578, 'control': 2579, 'thirty': 2580, 'putting': 2581, 'empowered': 2582, 'changes': 2583, 'energized': 2584, 'breathing': 2585, 'fully': 2586, 'extra': 2587, 'effort': 2588, 'overall': 2589, 'wifi': 2590, 'accessibility': 2591, 'fitness': 2592, 'facilities': 2593, 'quality': 2594, 'shake': 2595, 'warfighter': 2596, 'nor': 2597, 'conscious': 2598, 'community': 2599, 'unheard': 2600, 'indeed': 2601, 'weather': 2602, 'toddler': 2603, 'possessing': 2604, 'winter': 2605, 'coat': 2606, 'polar': 2607, 'fleece': 2608, 'fluffy': 2609, 'lined': 2610, 'snow': 2611, 'boots': 2612, 'mark': 2613, 'shot': 2614, 'kill': 2615, 'screamed': 2616, 'loud': 2617, 'die': 2618, 'seldom': 2619, 'pale': 2620, 'birthday': 2621, 'looooong': 2622, 'agree': 2623, 'lupron': 2624, 'palm': 2625, 'blowing': 2626, 'gets': 2627, 'ears': 2628, 'reaches': 2629, 'crap': 2630, 'laugh': 2631, 'gush': 2632, 'receive': 2633, 'farm': 2634, 'everyday': 2635, 'confidence': 2636, 'across': 2637, 'instincts': 2638, 'intellect': 2639, 'appreciated': 2640, 'makeup': 2641, 'minimum': 2642, 'apart': 2643, 'eyeliner': 2644, 'eyelash': 2645, 'curler': 2646, 'lashes': 2647, 'classy': 2648, 'hyper': 2649, 'playful': 2650, 'immersed': 2651, 'join': 2652, 'journey': 2653, 'word': 2654, 'suffocated': 2655, 'pauses': 2656, 'exhibit': 2657, 'tasty': 2658, 'goodness': 2659, 'abound': 2660, 'santa': 2661, 'cruz': 2662, 'unseen': 2663, 'ambient': 2664, 'pot': 2665, 'swear': 2666, 'laid': 2667, 'town': 2668, 'university': 2669, 'california': 2670, 'renowned': 2671, 'nov': 2672, 'dukes': 2673, 'watcher': 2674, 'filled': 2675, 'change': 2676, 'talked': 2677, 'shes': 2678, 'finishing': 2679, 'apron': 2680, 'sisters': 2681, 'regard': 2682, 'educating': 2683, 'assume': 2684, 'visitor': 2685, 'wally': 2686, 'lamb': 2687, 'respect': 2688, 'supermarket': 2689, 'tomatoes': 2690, 'imitates': 2691, 'wanna': 2692, 'three': 2693, 'burst': 2694, 'devastating': 2695, 'space': 2696, 'dumping': 2697, 'scoffing': 2698, 'christians': 2699, 'happpy': 2700, 'academics': 2701, 'athletics': 2702, 'smaller': 2703, 'rescue': 2704, 'party': 2705, 'casting': 2706, 'director': 2707, 'wonderfully': 2708, 'youthful': 2709, 'traffic': 2710, 'recognition': 2711, 'hows': 2712, 'halfway': 2713, 'climb': 2714, 'dam': 2715, 'hearts': 2716, 'minds': 2717, 'thanks': 2718, 'facilitating': 2719, 'welcoming': 2720, 'supportive': 2721, 'marie': 2722, 'horny': 2723, 'thigh': 2724, 'nylons': 2725, 'loving': 2726, 'sweaty': 2727, 'dance': 2728, 'rehearsals': 2729, 'greet': 2730, 'guides': 2731, 'obsessively': 2732, 'exceptions': 2733, 'longing': 2734, 'blessing': 2735, 'leaves': 2736, 'bunion': 2737, 'tender': 2738, 'loyal': 2739, 'lucy': 2740, 'awaken': 2741, 'mild': 2742, 'fever': 2743, 'remove': 2744, 'blankets': 2745, 'excel': 2746, 'bundle': 2747, 'logan': 2748, 'admired': 2749, 'earth': 2750, 'strutting': 2751, 'road': 2752, 'kneels': 2753, 'older': 2754, 'ni': 2755, 'ya': 2756, 'surprised': 2757, 'kisses': 2758, 'planted': 2759, 'hips': 2760, 'inner': 2761, 'thighs': 2762, 'buy': 2763, 'model': 2764, 'consumers': 2765, 'compassionate': 2766, 'bodys': 2767, 'limitations': 2768, 'accustomed': 2769, 'aging': 2770, 'whinging': 2771, 'temperature': 2772, 'ridiculously': 2773, 'fulfill': 2774, 'ma': 2775, 'desire': 2776, 'forgetting': 2777, 'handss': 2778, 'aahhh': 2779, 'magic': 2780, 'audience': 2781, 'vendors': 2782, 'platform': 2783, 'linux': 2784, 'distribution': 2785, 'case': 2786, 'gamer': 2787, 'intent': 2788, 'backed': 2789, 'leo': 2790, 'clara': 2791, 'dying': 2792, 'refreshed': 2793, 'afterwards': 2794, 'gentle': 2795, 'straight': 2796, 'rugby': 2797, 'prep': 2798, 'caring': 2799, 'jt': 2800, 'chances': 2801, 'broken': 2802, 'bitter': 2803, 'cynical': 2804, 'ur': 2805, 'noticing': 2806, 'obsession': 2807, 'expensive': 2808, 'profit': 2809, 'um': 2810, 'sympathetic': 2811, 'suggest': 2812, 'listen': 2813, 'nostalgic': 2814, 'essence': 2815, 'business': 2816, 'consignment': 2817, 'hand': 2818, 'shops': 2819, 'goodwill': 2820, 'fond': 2821, 'tightly': 2822, 'unusually': 2823, 'adoring': 2824, 'stood': 2825, 'chabad': 2826, 'sukkah': 2827, 'sunlight': 2828, 'filter': 2829, 'woven': 2830, 'schach': 2831, 'roof': 2832, 'lattice': 2833, 'walls': 2834, 'relax': 2835, 'roomates': 2836, 'shermin': 2837, 'joey': 2838, 'slutty': 2839, 'matt': 2840, 'major': 2841, 'orgasm': 2842, 'moves': 2843, 'looked': 2844, 'quilts': 2845, 'display': 2846, 'non': 2847, 'wearers': 2848, 'ourselves': 2849, 'knowledge': 2850, 'absolute': 2851, 'favourite': 2852, 'topics': 2853, 'auster': 2854, 'binge': 2855, 'vertigo': 2856, 'fly': 2857, 'sang': 2858, 'meeting': 2859, 'beware': 2860, 'spoilers': 2861, 'wife': 2862, 'ie': 2863, 'angel': 2864, 'typing': 2865, 'clamouring': 2866, 'exicting': 2867, 'disney': 2868, 'vacation': 2869, 'dogs': 2870, 'page': 2871, 'feelin': 2872, 'finals': 2873, 'signals': 2874, 'agreement': 2875, 'provide': 2876, 'mock': 2877, 'draft': 2878, 'forth': 2879, 'emphasise': 2880, 'speculation': 2881, 'educated': 2882, 'volunteer': 2883, 'organization': 2884, 'packs': 2885, 'rations': 2886, 'families': 2887, 'jongwoon': 2888, 'teases': 2889, 'ryeowook': 2890, 'touches': 2891, 'spine': 2892, 'warm': 2893, 'ghosting': 2894, 'ear': 2895, 'urge': 2896, 'create': 2897, 'companion': 2898, 'disappoint': 2899, 'miracles': 2900, 'individually': 2901, 'heals': 2902, 'helpful': 2903, 'reflection': 2904, 'pause': 2905, 'chaos': 2906, 'comfort': 2907, 'washing': 2908, 'gel': 2909, 'oil': 2910, 'residue': 2911, 'brownish': 2912, 'tint': 2913, 'blinded': 2914, 'torn': 2915, 'essential': 2916, 'puzzle': 2917, 'scabbed': 2918, 'raw': 2919, 'unhealed': 2920, 'underneath': 2921, 'befriending': 2922, 'complete': 2923, 'loser': 2924, 'blink': 2925, 'known': 2926, 'affectionate': 2927, 'leonard': 2928, 'cohen': 2929, 'wood': 2930, 'works': 2931, 'flaws': 2932, 'comings': 2933, 'scar': 2934, 'covered': 2935, 'beating': 2936, 'rhythm': 2937, 'delicate': 2938, 'fingers': 2939, 'searching': 2940, 'beneath': 2941, 'sacrifice': 2942, 'nation': 2943, 'begleiter': 2944, 'answer': 2945, 'understanding': 2946, 'differences': 2947, 'disabilities': 2948, 'cherish': 2949, 'asleep': 2950, 'amazingly': 2951, 'promotion': 2952, 'greater': 2953, 'developed': 2954, 'aversion': 2955, 'pie': 2956, 'confess': 2957, 'hat': 2958, 'julie': 2959, 'grandmother': 2960, 'born': 2961, 'key': 2962, 'opening': 2963, 'treasured': 2964, 'hitting': 2965, 'ds': 2966, 'rd': 2967, 'grade': 2968, 'dd': 2969, 'preschool': 2970, 'forgiving': 2971, 'frustrated': 2972, 'follow': 2973, 'luke': 2974, 'everywhere': 2975, 'naughty': 2976, 'bury': 2977, 'permanence': 2978, 'keys': 2979, 'fingertips': 2980, 'comedies': 2981, 'mixed': 2982, 'woody': 2983, 'allen': 2984, 'jim': 2985, 'brooks': 2986, 'earl': 2987, 'billy': 2988, 'wilder': 2989, 'apartment': 2990, 'capture': 2991, 'polish': 2992, 'owe': 2993, 'lj': 2994, 'entry': 2995, 'bless': 2996, 'recipes': 2997, 'kindness': 2998, 'couldn': 2999, 'netflix': 3000, 'army': 3001, 'misinformed': 3002, 'denounced': 3003, 'recent': 3004, 'price': 3005, 'hike': 3006, 'jump': 3007, 'bunch': 3008, 'hoops': 3009, 'enable': 3010, 'befuddled': 3011, 'bengals': 3012, 'mistake': 3013, 'shatter': 3014, 'crystal': 3015, 'flower': 3016, 'slipped': 3017, 'roslin': 3018, 'reaffirmed': 3019, 'importance': 3020, 'learning': 3021, 'okay': 3022, 'yourself': 3023, 'inclusive': 3024, 'photos': 3025, 'halloween': 3026, 'costumes': 3027, 'fashion': 3028, 'costume': 3029, 'grandchild': 3030, 'attempting': 3031, 'smother': 3032, 'blanket': 3033, 'pressed': 3034, 'smiled': 3035, 'grandmothers': 3036, 'accent': 3037, 'dads': 3038, 'alice': 3039, 'watched': 3040, 'idol': 3041, 'extremly': 3042, 'vow': 3043, 'gasp': 3044, 'nicer': 3045, 'select': 3046, 'marybeth': 3047, 'isabella': 3048, 'lol': 3049, 'private': 3050, 'morsel': 3051, 'appease': 3052, 'appetite': 3053, 'unusual': 3054, 'cared': 3055, 'asset': 3056, 'bands': 3057, 'musicianship': 3058, 'latest': 3059, 'record': 3060, 'level': 3061, 'genres': 3062, 'hardcore': 3063, 'fluffed': 3064, 'girly': 3065, 'desserts': 3066, 'suits': 3067, 'customers': 3068, 'thoughtful': 3069, 'munching': 3070, 'craisins': 3071, 'worthy': 3072, 'bridal': 3073, 'note': 3074, 'lauper': 3075, 'sing': 3076, 'lane': 3077, 'mass': 3078, 'hence': 3079, 'mile': 3080, 'australians': 3081, 'image': 3082, 'interesting': 3083, 'yes': 3084, 'kay': 3085, 'sunrise': 3086, 'pearly': 3087, 'snaps': 3088, 'soft': 3089, 'comfy': 3090, 'disturb': 3091, 'traditional': 3092, 'holidays': 3093, 'based': 3094, 'pregnancy': 3095, 'scheduling': 3096, 'center': 3097, 'top': 3098, 'notch': 3099, 'desires': 3100, 'shove': 3101, 'tops': 3102, 'reshaped': 3103, 'workout': 3104, 'slightly': 3105, 'upper': 3106, 'trips': 3107, 'lend': 3108, 'greg': 3109, 'weismans': 3110, 'pick': 3111, 'series': 3112, 'dvd': 3113, 'walmart': 3114, 'maceys': 3115, 'values': 3116, 'sundays': 3117, 'consumer': 3118, 'slowly': 3119, 'peoples': 3120, 'standards': 3121, 'aesthetics': 3122, 'present': 3123, 'disoriented': 3124, 'mercy': 3125, 'professors': 3126, 'students': 3127, 'prepared': 3128, 'fuzzy': 3129, 'treachery': 3130, 'unfolds': 3131, 'thebalm': 3132, 'nude': 3133, 'tude': 3134, 'palette': 3135, 'eating': 3136, 'fresh': 3137, 'figs': 3138, 'prettier': 3139, 'dried': 3140, 'uploading': 3141, 'lovers': 3142, 'stimulating': 3143, 'animated': 3144, 'dessert': 3145, 'irritated': 3146, 'lash': 3147, 'blocked': 3148, 'ica': 3149, 'quiltcon': 3150, 'lizzy': 3151, 'brought': 3152, 'pushed': 3153, 'aside': 3154, 'pursue': 3155, 'canada': 3156, 'taiwan': 3157, 'depending': 3158, 'devised': 3159, 'esp': 3160, 'bank': 3161, 'harder': 3162, 'careful': 3163, 'discussing': 3164, 'chinas': 3165, 'copyright': 3166, 'violations': 3167, 'machiavellian': 3168, 'noon': 3169, 'leaving': 3170, 'status': 3171, 'quo': 3172, 'balance': 3173, 'lunge': 3174, 'crumble': 3175, 'progressive': 3176, 'longer': 3177, 'ryder': 3178, 'struggles': 3179, 'friendship': 3180, 'twas': 3181, 'according': 3182, 'clock': 3183, 'bedside': 3184, 'racing': 3185, 'steak': 3186, 'reminded': 3187, 'heartache': 3188, 'nudge': 3189, 'antique': 3190, 'underwears': 3191, 'edgy': 3192, 'reserved': 3193, 'loads': 3194, 'swings': 3195, 'eh': 3196, 'gaia': 3197, 'followers': 3198, 'butterfly': 3199, 'mommy': 3200, 'absolutely': 3201, 'cup': 3202, 'keyboard': 3203, 'warn': 3204, 'impending': 3205, 'crises': 3206, 'facing': 3207, 'montana': 3208, 'helping': 3209, 'current': 3210, 'imprinted': 3211, 'skin': 3212, 'vibrates': 3213, 'stomach': 3214, 'clenches': 3215, 'legs': 3216, 'forget': 3217, 'ought': 3218, 'percolated': 3219, 'synonym': 3220, 'heres': 3221, 'classic': 3222, 'iframe': 3223, 'allowfullscreen': 3224, 'frameborder': 3225, 'lulled': 3226, 'fantasy': 3227, 'remote': 3228, 'location': 3229, 'preferably': 3230, 'beach': 3231, 'sunset': 3232, 'cliched': 3233, 'blair': 3234, 'sitting': 3235, 'heartsick': 3236, 'connections': 3237, 'feed': 3238, 'compassion': 3239, 'contain': 3240, 'undercurrent': 3241, 'subtle': 3242, 'blinds': 3243, 'elvive': 3244, 'strayed': 3245, 'sls': 3246, 'formula': 3247, 'hive': 3248, 'wash': 3249, 'soothing': 3250, 'pink': 3251, 'bonus': 3252, 'wonder': 3253, 'update': 3254, 'region': 3255, 'manager': 3256, 'assistant': 3257, 'questionable': 3258, 'uber': 3259, 'separates': 3260, 'ends': 3261, 'impatience': 3262, 'humans': 3263, 'lover': 3264, 'whisper': 3265, 'lifestyle': 3266, 'polyvore': 3267, 'advent': 3268, 'nail': 3269, 'design': 3270, 'leads': 3271, 'sin': 3272, 'cara': 3273, 'sides': 3274, 'tbt': 3275, 'hop': 3276, 'kleinkinders': 3277, 'sh': 3278, 'mines': 3279, 'europe': 3280, 'stored': 3281, 'hurts': 3282, 'pent': 3283, 'rage': 3284, 'insecure': 3285, 'marginalized': 3286, 'anywhere': 3287, 'condemning': 3288, 'seal': 3289, 'hunt': 3290, 'akin': 3291, 'hitler': 3292, 'kiyoshi': 3293, 'follows': 3294, 'favorite': 3295, 'tour': 3296, 'confused': 3297, 'floating': 3298, 'falling': 3299, 'tackling': 3300, 'hedge': 3301, 'doctors': 3302, 'whos': 3303, 'indifferent': 3304, 'bloom': 3305, 'nerd': 3306, 'convention': 3307, 'setting': 3308, 'pimp': 3309, 'raini': 3310, 'rocky': 3311, 'whoever': 3312, 'yarn': 3313, 'stash': 3314, 'busting': 3315, 'elementary': 3316, 'coerce': 3317, 'third': 3318, 'graders': 3319, 'single': 3320, 'file': 3321, 'lunchroom': 3322, 'fault': 3323, 'failing': 3324, 'womb': 3325, 'todd': 3326, 'rylin': 3327, 'christ': 3328, 'foods': 3329, 'yash': 3330, 'sooo': 3331, 'compare': 3332, 'fateh': 3333, 'loreal': 3334, 'max': 3335, 'factor': 3336, 'names': 3337, 'instantly': 3338, 'organise': 3339, 'deserves': 3340, 'cheering': 3341, 'spoon': 3342, 'panic': 3343, 'rolls': 3344, 'necessity': 3345, 'harmful': 3346, 'context': 3347, 'problem': 3348, 'treasure': 3349, 'centered': 3350, 'statements': 3351, 'confessions': 3352, 'planner': 3353, 'bridezillas': 3354, 'grooms': 3355, 'ease': 3356, 'communing': 3357, 'teach': 3358, 'noticer': 3359, 'discover': 3360, 'source': 3361, 'allows': 3362, 'solution': 3363, 'grappling': 3364, 'awareness': 3365, 'shine': 3366, 'tatsuma': 3367, 'aoi': 3368, 'hilariously': 3369, 'cleaning': 3370, 'masters': 3371, 'eerily': 3372, 'parallels': 3373, 'interests': 3374, 'yearning': 3375, 'simpler': 3376, 'simple': 3377, 'tons': 3378, 'pages': 3379, 'descriptions': 3380, 'stars': 3381, 'clung': 3382, 'verse': 3383, 'lord': 3384, 'revamped': 3385, 'strength': 3386, 'impulse': 3387, 'nurture': 3388, 'resonating': 3389, 'string': 3390, 'sophist': 3391, 'examples': 3392, 'peacefulness': 3393, 'hands': 3394, 'knelt': 3395, 'mutual': 3396, 'communicated': 3397, 'pure': 3398, 'silence': 3399, 'belong': 3400, 'emily': 3401, 'eat': 3402, 'responsible': 3403, 'burned': 3404, 'sun': 3405, 'sensitive': 3406, 'opposite': 3407, 'socializing': 3408, 'rememberiing': 3409, 'needle': 3410, 'marks': 3411, 'bum': 3412, 'cracks': 3413, 'insane': 3414, 'hacking': 3415, 'systems': 3416, 'numbers': 3417, 'mixer': 3418, 'extension': 3419, 'selfs': 3420, 'graduate': 3421, 'psych': 3422, 'defined': 3423, 'yahoo': 3424, 'verrrrrrrryyyy': 3425, 'n': 3426, 'amorous': 3427, 'ntoward': 3428, 'turkish': 3429, 'vet': 3430, 'hesitant': 3431, 'equation': 3432, 'romantically': 3433, 'rippling': 3434, 'pools': 3435, 'australia': 3436, 'sympathy': 3437, 'xx': 3438, 'xelliealicex': 3439, 'atmosphere': 3440, 'literature': 3441, 'cited': 3442, 'section': 3443, 'scarce': 3444, 'sight': 3445, 'watchers': 3446, 'wake': 3447, 'gosman': 3448, 'touristy': 3449, 'montauk': 3450, 'infrequent': 3451, 'visitors': 3452, 'harbor': 3453, 'cawing': 3454, 'seagulls': 3455, 'lapping': 3456, 'pilings': 3457, 'relaxing': 3458, 'overeat': 3459, 'pattern': 3460, 'addiction': 3461, 'specialness': 3462, 'holli': 3463, 'reese': 3464, 'kick': 3465, 'platonic': 3466, 'zoned': 3467, 'dissolve': 3468, 'mask': 3469, 'missgivings': 3470, 'expect': 3471, 'listing': 3472, 'verses': 3473, 'haunt': 3474, 'decade': 3475, 'hesei': 3476, 'kamen': 3477, 'riders': 3478, 'admiration': 3479, 'di': 3480, 'spazzola': 3481, 'prima': 3482, 'andare': 3483, 'dormire': 3484, 'hundred': 3485, 'strokes': 3486, 'film': 3487, 'consequently': 3488, 'obligated': 3489, 'vision': 3490, 'admiring': 3491, 'feeding': 3492, 'odd': 3493, 'superficial': 3494, 'male': 3495, 'treated': 3496, 'princess': 3497, 'youll': 3498, 'panorma': 3499, 'indonesia': 3500, 'meditating': 3501, 'dancing': 3502, 'someday': 3503, 'abandoning': 3504, 'says': 3505, 'clammy': 3506, 'flashes': 3507, 'hogmanay': 3508, 'meetings': 3509, 'scratches': 3510, 'wrinkles': 3511, 'evidence': 3512, 'hb': 3513, 'nakahara': 3514, 'mai': 3515, 'nicely': 3516, 'careess': 3517, 'curled': 3518, 'shoulders': 3519, 'performances': 3520, 'pedestrian': 3521, 'critically': 3522, 'flawed': 3523, 'wherever': 3524, 'following': 3525, 'beside': 3526, 'p': 3527, 'sometime': 3528, 'u': 3529, 'relative': 3530, 'coworker': 3531, 'chocolate': 3532, 'square': 3533, 'raising': 3534, 'funds': 3535, 'jag': 3536, 'jointly': 3537, 'achieving': 3538, 'charity': 3539, 'waited': 3540, 'comparing': 3541, 'everybodys': 3542, 'remembering': 3543, 'fiction': 3544, 'powers': 3545, 'versus': 3546, 'excitement': 3547, 'harmonious': 3548, 'increasingly': 3549, 'coppers': 3550, 'zach': 3551, 'traumatised': 3552, 'pestilence': 3553, 'cook': 3554, 'unhealthy': 3555, 'convenience': 3556, 'avoid': 3557, 'starvation': 3558, 'drinks': 3559, 'later': 3560, 'bellingham': 3561, 'acne': 3562, 'copping': 3563, 'somewhere': 3564, 'wished': 3565, 'moisturizer': 3566, 'oily': 3567, 'product': 3568, 'designed': 3569, 'moisturizing': 3570, 'oils': 3571, 'upload': 3572, 'amusement': 3573, 'gatsby': 3574, 'evident': 3575, 'yearned': 3576, 'homey': 3577, 'river': 3578, 'warming': 3579, 'jean': 3580, 'shorts': 3581, 'energetics': 3582, 'cinnamon': 3583, 'tree': 3584, 'saddened': 3585, 'acceptance': 3586, 'grieve': 3587, 'irritate': 3588, 'mindful': 3589, 'minister': 3590, 'beforehand': 3591, 'ba': 3592, 'attire': 3593, 'primer': 3594, 'normally': 3595, 'attainable': 3596, 'hatter': 3597, 'bi': 3598, 'jealous': 3599, 'resorted': 3600, 'yesterday': 3601, 'peak': 3602, 'illness': 3603, 'housebound': 3604, 'peckish': 3605, 'brew': 3606, 'dumpee': 3607, 'slighted': 3608, 'unable': 3609, 'stem': 3610, 'replacement': 3611, 'credit': 3612, 'equals': 3613, 'debt': 3614, 'interest': 3615, 'dissatisfied': 3616, 'petty': 3617, 'rushed': 3618, 'schindlers': 3619, 'chambers': 3620, 'ghosts': 3621, 'tortured': 3622, 'unfairly': 3623, 'airport': 3624, 'aggressive': 3625, 'attack': 3626, 'individuals': 3627, 'attitudes': 3628, 'perform': 3629, 'submarine': 3630, 'cartwheel': 3631, 'violent': 3632, 'tug': 3633, 'ankle': 3634, 'board': 3635, 'hauled': 3636, 'fucked': 3637, 'stubborn': 3638, 'intense': 3639, 'insulted': 3640, 'insulting': 3641, 'avenue': 3642, 'q': 3643, 'emo': 3644, 'rebellious': 3645, 'goin': 3646, 'moshav': 3647, 'dancin': 3648, 'beatles': 3649, 'twist': 3650, 'explanation': 3651, 'century': 3652, 'envious': 3653, 'perfumes': 3654, 'distracted': 3655, 'someones': 3656, 'pissed': 3657, 'description': 3658, 'conducive': 3659, 'philosophy': 3660, 'movie': 3661, 'sharknado': 3662, 'intelligence': 3663, 'monthe': 3664, 'settled': 3665, 'weariness': 3666, 'gradually': 3667, 'pacified': 3668, 'coordinate': 3669, 'nonsense': 3670, 'thatrupert': 3671, 'polite': 3672, 'tenge': 3673, 'impatient': 3674, 'alaska': 3675, 'snowy': 3676, 'pine': 3677, 'mountains': 3678, 'destined': 3679, 'southern': 3680, 'imagined': 3681, 'zombies': 3682, 'intend': 3683, 'riku': 3684, 'opposed': 3685, 'due': 3686, 'plot': 3687, 'ish': 3688, 'grouchy': 3689, 'par': 3690, 'mental': 3691, 'faculties': 3692, 'crosswords': 3693, 'shouldnt': 3694, 'pregant': 3695, 'co': 3696, 'workers': 3697, 'apologise': 3698, 'advance': 3699, 'angered': 3700, 'ehb': 3701, 'ow': 3702, 'locking': 3703, 'dear': 3704, 'office': 3705, 'shall': 3706, 'irate': 3707, 'york': 3708, 'outraged': 3709, 'city': 3710, 'bothersome': 3711, 'annoyed': 3712, 'experienced': 3713, 'vegetarian': 3714, 'vegan': 3715, 'meat': 3716, 'eater': 3717, 'toxins': 3718, 'irritable': 3719, 'grumpy': 3720, 'whom': 3721, 'split': 3722, 'visiting': 3723, 'confrontation': 3724, 'parts': 3725, 'reviews': 3726, 'boys': 3727, 'victim': 3728, 'blaming': 3729, 'slut': 3730, 'shaming': 3731, 'directly': 3732, 'momma': 3733, 'willed': 3734, 'tx': 3735, 'sassiness': 3736, 'experiencing': 3737, 'headaches': 3738, 'remotional': 3739, 'outbursts': 3740, 'dangerous': 3741, 'cookie': 3742, 'jot': 3743, 'hussein': 3744, 'viewed': 3745, 'thug': 3746, 'actions': 3747, 'administration': 3748, 'affirmation': 3749, 'energetically': 3750, 'pursuing': 3751, 'tryin': 3752, 'gud': 3753, 'pal': 3754, 'understad': 3755, 'abt': 3756, 'dats': 3757, 'problemn': 3758, 'carin': 3759, 'sum': 3760, 'crime': 3761, 'rte': 3762, 'emoticons': 3763, 'sarcastic': 3764, 'greedy': 3765, 'pound': 3766, 'overweight': 3767, 'american': 3768, 'offensive': 3769, 'nearly': 3770, 'realistic': 3771, 'hostile': 3772, 'accusing': 3773, 'confirm': 3774, 'spiteful': 3775, 'media': 3776, 'campaign': 3777, 'egypt': 3778, 'track': 3779, 'stopped': 3780, 'machine': 3781, 'stole': 3782, 'chose': 3783, 'clothes': 3784, 'insanely': 3785, 'immediately': 3786, 'belittle': 3787, 'spoiled': 3788, 'jack': 3789, 'acquainted': 3790, 'ensure': 3791, 'profile': 3792, 'kingdom': 3793, 'occasion': 3794, 'un': 3795, 'reacting': 3796, 'abyss': 3797, 'resident': 3798, 'nose': 3799, 'morla': 3800, 'sinks': 3801, 'odkh': 3802, 'milk': 3803, 'entering': 3804, 'offended': 3805, 'bitchy': 3806, 'attitude': 3807, 'sorts': 3808, 'snobbish': 3809, 'musical': 3810, 'tastes': 3811, 'obnoxious': 3812, 'ate': 3813, 'hateful': 3814, 'handed': 3815, 'murt': 3816, 'dreaming': 3817, 'apocalypses': 3818, 'alien': 3819, 'dragons': 3820, 'tubes': 3821, 'attacking': 3822, 'cynicism': 3823, 'fortunate': 3824, 'clubbed': 3825, 'upside': 3826, 'dose': 3827, 'daydream': 3828, 'bet': 3829, 'saint': 3830, 'rate': 3831, 'yall': 3832, 'shut': 3833, 'apples': 3834, 'folks': 3835, 'understood': 3836, 'baffled': 3837, 'steal': 3838, 'jaws': 3839, 'steady': 3840, 'theyve': 3841, 'ambulance': 3842, 'flashing': 3843, 'lights': 3844, 'hurry': 3845, 'shouldn': 3846, 'hurtful': 3847, 'report': 3848, 'mostly': 3849, 'countless': 3850, 'showing': 3851, 'irrational': 3852, 'adulthood': 3853, 'concieve': 3854, 'everchanging': 3855, 'sailormoon': 3856, 'gateway': 3857, 'prove': 3858, 'hating': 3859, 'loathe': 3860, 'stuffed': 3861, 'punch': 3862, 'platitudes': 3863, 'sources': 3864, 'apathy': 3865, 'whose': 3866, 'faith': 3867, 'tab': 3868, 'instant': 3869, 'boost': 3870, 'helps': 3871, 'refocus': 3872, 'angels': 3873, 'intermarrying': 3874, 'worst': 3875, 'gotten': 3876, 'hoped': 3877, 'weakness': 3878, 'joke': 3879, 'strange': 3880, 'appalled': 3881, 'tax': 3882, 'mail': 3883, 'letter': 3884, 'jasons': 3885, 'employer': 3886, 'snooty': 3887, 'gauche': 3888, 'drunk': 3889, 'destroying': 3890, 'tension': 3891, 'unease': 3892, 'heartless': 3893, 'naman': 3894, 'na': 3895, 'therefore': 3896, 'government': 3897, 'catch': 3898, 'criminals': 3899, 'crimes': 3900, 'continues': 3901, 'liable': 3902, 'bite': 3903, 'posted': 3904, 'picture': 3905, 'instagram': 3906, 'plane': 3907, 'appreciation': 3908, 'utter': 3909, 'gratefulness': 3910, 'downright': 3911, 'souls': 3912, 'poetry': 3913, 'hausa': 3914, 'motorcyclist': 3915, 'bears': 3916, 'resemblance': 3917, 'north': 3918, 'idiocy': 3919, 'bored': 3920, 'fastforwarding': 3921, 'scenes': 3922, 'consequences': 3923, 'harrass': 3924, 'oppressed': 3925, 'bias': 3926, 'bible': 3927, 'themed': 3928, 'anthology': 3929, 'vicious': 3930, 'eaters': 3931, 'waning': 3932, 'portrayals': 3933, 'soothe': 3934, 'dontknow': 3935, 'linus': 3936, 'integrity': 3937, 'dignity': 3938, 'intact': 3939, 'morbid': 3940, 'savage': 3941, 'wouldve': 3942, 'turkey': 3943, 'enacting': 3944, 'succumb': 3945, 'docs': 3946, 'insults': 3947, 'arrogance': 3948, 'favor': 3949, 'clarify': 3950, 'health': 3951, 'challenging': 3952, 'brings': 3953, 'closure': 3954, 'cheated': 3955, 'encounter': 3956, 'mensa': 3957, 'member': 3958, 'conversing': 3959, 'recognize': 3960, 'essentially': 3961, 'america': 3962, 'rights': 3963, 'seek': 3964, 'conscience': 3965, 'optimism': 3966, 'youth': 3967, 'refusal': 3968, 'accept': 3969, 'fate': 3970, 'forced': 3971, 'balloons': 3972, 'rules': 3973, 'regimented': 3974, 'roll': 3975, 'seemingly': 3976, 'disposable': 3977, 'income': 3978, 'mall': 3979, 'hoards': 3980, 'dropping': 3981, 'mosquito': 3982, 'passionately': 3983, 'pianos': 3984, 'piano': 3985, 'hyperventilating': 3986, 'actively': 3987, 'borne': 3988, 'plenty': 3989, 'pms': 3990, 'entered': 3991, 'division': 3992, 'everybody': 3993, 'arun': 3994, 'solutions': 3995, 'gfs': 3996, 'bf': 3997, 'criminal': 3998, 'details': 3999, 'deny': 4000, 'named': 4001, 'abusive': 4002, 'b': 4003, 'c': 4004, 'uw': 4005, 'dubstep': 4006, 'request': 4007, 'rachel': 4008, 'ignore': 4009, 'lurker': 4010, 'obrian': 4011, 'characterisation': 4012, 'evidenced': 4013, 'main': 4014, 'extend': 4015, 'crew': 4016, 'mourn': 4017, 'relating': 4018, 'grandparents': 4019, 'triangle': 4020, 'object': 4021, 'identity': 4022, 'unconsciously': 4023, 'subconsciously': 4024, 'vile': 4025, 'coupled': 4026, 'senior': 4027, 'pastor': 4028, 'glaring': 4029, 'inexperience': 4030, 'resent': 4031, 'dollars': 4032, 'procedure': 4033, 'wore': 4034, 'glasses': 4035, 'haze': 4036, 'pavement': 4037, 'chapters': 4038, 'receiving': 4039, 'tch': 4040, 'christian': 4041, 'banter': 4042, 'seth': 4043, 'locks': 4044, 'll': 4045, 'radical': 4046, 'advantage': 4047, 'boyfriends': 4048, 'sloppy': 4049, 'behaviors': 4050, 'def': 4051, 'cure': 4052, 'cell': 4053, 'bio': 4054, 'fed': 4055, 'lab': 4056, 'resistant': 4057, 'disgust': 4058, 'doubtful': 4059, 'popped': 4060, 'dealing': 4061, 'knot': 4062, 'shoelace': 4063, 'broom': 4064, 'scrubbing': 4065, 'vinegar': 4066, 'newspapers': 4067, 'rise': 4068, 'rounds': 4069, 'floors': 4070, 'pounds': 4071, 'trash': 4072, 'ffs': 4073, 'blogs': 4074, 'staring': 4075, 'quivering': 4076, 'lapse': 4077, 'shivering': 4078, 'vigorous': 4079, 'accelerated': 4080, 'flickering': 4081, 'sky': 4082, 'heralding': 4083, 'picnic': 4084, 'james': 4085, 'slate': 4086, 'unilaterally': 4087, 'intentionally': 4088, 'carelessness': 4089, 'perceived': 4090, 'abuses': 4091, 'heard': 4092, 'treatment': 4093, 'jail': 4094, 'inhuman': 4095, 'netherlands': 4096, 'millions': 4097, 'task': 4098, 'separately': 4099, 'prayer': 4100, 'growled': 4101, 'roommates': 4102, 'flirtiing': 4103, 'insincere': 4104, 'argued': 4105, 'author': 4106, 'verdicts': 4107, 'empathize': 4108, 'bittersweet': 4109, 'heated': 4110, 'discussion': 4111, 'spouse': 4112, 'concerning': 4113, 'initially': 4114, 'rmb': 4115, 'grandfather': 4116, 'maternal': 4117, 'engineering': 4118, 'comeback': 4119, 'sting': 4120, 'catalyst': 4121, 'neferet': 4122, 'character': 4123, 'chained': 4124, 'desk': 4125, 'matters': 4126, 'opinion': 4127, 'phrase': 4128, 'dumps': 4129, 'mildly': 4130, 'upsetting': 4131, 'news': 4132, 'aligncenter': 4133, 'size': 4134, 'wp': 4135, 'mrdanbaird': 4136, 'essay': 4137, 'cantankerous': 4138, 'slave': 4139, 'heavily': 4140, 'alcohol': 4141, 'marijuana': 4142, 'separation': 4143, 'sanity': 4144, 'air': 4145, 'refresh': 4146, 'skips': 4147, 'beat': 4148, 'pacing': 4149, 'virginia': 4150, 'florida': 4151, 'swing': 4152, 'states': 4153, 'barrage': 4154, 'busy': 4155, 'whore': 4156, 'sniiiiifff': 4157, 'honey': 4158, 'oregon': 4159, 'retail': 4160, 'soda': 4161, 'awfully': 4162, 'positions': 4163, 'pumpkin': 4164, 'latte': 4165, 'misery': 4166, 'concentrate': 4167, 'apathetic': 4168, 'stress': 4169, 'breaths': 4170, 'burn': 4171, 'exhaling': 4172, 'clouds': 4173, 'vapor': 4174, 'suck': 4175, 'fangirls': 4176, 'wide': 4177, 'lenghth': 4178, 'pp': 4179, 'sympathizing': 4180, 'demons': 4181, 'played': 4182, 'fps': 4183, 'games': 4184, 'switch': 4185, 'callous': 4186, 'unfaithful': 4187, 'pray': 4188, 'anxious': 4189, 'manner': 4190, 'dragged': 4191, 'hadnt': 4192, 'throughout': 4193, 'deciding': 4194, 'unwell': 4195, 'mustered': 4196, 'christmassy': 4197, 'timing': 4198, 'crone': 4199, 'honkerblonked': 4200, 'ending': 4201, 'signs': 4202, 'addictive': 4203, 'passing': 4204, 'hollow': 4205, 'smiths': 4206, 'remorse': 4207, 'defeat': 4208, 'securities': 4209, 'challenged': 4210, 'witness': 4211, 'sadistic': 4212, 'acts': 4213, 'sliding': 4214, 'constructive': 4215, 'instance': 4216, 'research': 4217, 'require': 4218, 'neglecting': 4219, 'impoverished': 4220, 'surely': 4221, 'folds': 4222, 'unexpected': 4223, 'outing': 4224, 'gender': 4225, 'drink': 4226, 'xango': 4227, 'juice': 4228, 'stiff': 4229, 'sore': 4230, 'motivating': 4231, 'executed': 4232, 'mirror': 4233, 'puzzles': 4234, 'topping': 4235, 'boss': 4236, 'battle': 4237, 'slice': 4238, 'furious': 4239, 'perspective': 4240, 'wasted': 4241, 'failed': 4242, 'entrance': 4243, 'exam': 4244, 'medical': 4245, 'biochemistry': 4246, 'prospects': 4247, 'zambia': 4248, 'dharavi': 4249, 'mumbai': 4250, 'annual': 4251, 'turnovers': 4252, 'lacking': 4253, 'emptied': 4254, 'module': 4255, 'interacted': 4256, 'definite': 4257, 'development': 4258, 'sxe': 4259, 'chocolating': 4260, 'apology': 4261, 'continuing': 4262, 'roommate': 4263, 'directions': 4264, 'sane': 4265, 'yelling': 4266, 'cancer': 4267, 'reduce': 4268, 'commands': 4269, 'jew': 4270, 'religious': 4271, 'obey': 4272, 'prohibition': 4273, 'sip': 4274, 'iced': 4275, 'capp': 4276, 'disco': 4277, 'swimming': 4278, 'goddamn': 4279, 'wrapped': 4280, 'log': 4281, 'lifes': 4282, 'charged': 4283, 'indicated': 4284, 'weve': 4285, 'refrigerator': 4286, 'cleaned': 4287, 'bride': 4288, 'hubby': 4289, 'reeeeeeeeally': 4290, 'marry': 4291, 'disorganised': 4292, 'questions': 4293, 'block': 4294, 'logical': 4295, 'answers': 4296, 'uuuugh': 4297, 'firey': 4298, 'sweetness': 4299, 'recess': 4300, 'pressing': 4301, 'torso': 4302, 'siwons': 4303, 'faces': 4304, 'cramping': 4305, 'determination': 4306, 'poo': 4307, 'circle': 4308, 'referred': 4309, 'runnin': 4310, 'fears': 4311, 'gotta': 4312, 'bein': 4313, 'confined': 4314, 'stic': 4315, 'clearer': 4316, 'executing': 4317, 'apprehensive': 4318, 'frightened': 4319, 'assaulted': 4320, 'flakiness': 4321, 'flames': 4322, 'singed': 4323, 'frail': 4324, 'foul': 4325, 'concoction': 4326, 'burnt': 4327, 'flesh': 4328, 'intimidated': 4329, 'clash': 4330, 'alarmed': 4331, 'planet': 4332, 'laconic': 4333, 'timid': 4334, 'six': 4335, 'sixty': 4336, 'reluctance': 4337, 'federal': 4338, 'authorities': 4339, 'employ': 4340, 'tear': 4341, 'gas': 4342, 'plain': 4343, 'force': 4344, 'threatened': 4345, 'ganging': 4346, 'uptight': 4347, 'happiness': 4348, 'spreading': 4349, 'chatter': 4350, 'lighten': 4351, 'unsure': 4352, 'childhood': 4353, 'clues': 4354, 'lightly': 4355, 'skeptical': 4356, 'sold': 4357, 'frantic': 4358, 'uncertain': 4359, 'stock': 4360, 'market': 4361, 'rally': 4362, 'overcoming': 4363, 'pressured': 4364, 'longest': 4365, 'prints': 4366, 'leopard': 4367, 'dreams': 4368, 'paranoid': 4369, 'conspiracy': 4370, 'unsolved': 4371, 'hugely': 4372, 'vulnerable': 4373, 'indulge': 4374, 'lve': 4375, 'yu': 4376, 'game': 4377, 'poem': 4378, 'checked': 4379, 'dorm': 4380, 'inspected': 4381, 'distressed': 4382, 'marathon': 4383, 'rainbows': 4384, 'backlogs': 4385, 'tragedy': 4386, 'completing': 4387, 'relying': 4388, 'vunerable': 4389, 'instinctively': 4390, 'passer': 4391, 'reluctant': 4392, 'impressionable': 4393, 'benefit': 4394, 'wets': 4395, 'earliest': 4396, 'pool': 4397, 'comforted': 4398, 'gun': 4399, 'protection': 4400, 'foot': 4401, 'shaky': 4402, 'contemplating': 4403, 'wrapping': 4404, 'prom': 4405, 'invitation': 4406, 'couldve': 4407, 'regards': 4408, 'path': 4409, 'tempting': 4410, 'catapulted': 4411, 'awhile': 4412, 'picking': 4413, 'threaten': 4414, 'conducting': 4415, 'tango': 4416, 'maks': 4417, 'finger': 4418, 'shaken': 4419, 'hungry': 4420, 'neurotic': 4421, 'chill': 4422, 'ativan': 4423, 'unsettled': 4424, 'awoken': 4425, 'hallucinations': 4426, 'figures': 4427, 'vibrations': 4428, 'cautious': 4429, 'shades': 4430, 'boob': 4431, 'noise': 4432, 'reporting': 4433, 'energies': 4434, 'somethings': 4435, 'exposing': 4436, 'favours': 4437, 'buzzy': 4438, 'panicky': 4439, 'limited': 4440, 'arrangment': 4441, 'rebuilding': 4442, 'amazingness': 4443, 'perfectly': 4444, 'snippy': 4445, 'group': 4446, 'followed': 4447, 'bird': 4448, 'erm': 4449, 'unsafe': 4450, 'dizzy': 4451, 'meal': 4452, 'parallel': 4453, 'displaced': 4454, 'gross': 4455, 'snail': 4456, 'mucus': 4457, 'plus': 4458, 'texture': 4459, 'cream': 4460, 'distraught': 4461, 'wimpy': 4462, 'unprotected': 4463, 'safety': 4464, 'net': 4465, 'exercised': 4466, 'throat': 4467, 'fat': 4468, 'stalker': 4469, 'toy': 4470, 'detatched': 4471, 'biannual': 4472, 'mammogram': 4473, 'exiting': 4474, 'freakishly': 4475, 'accepting': 4476, 'application': 4477, 'reveal': 4478, 'impressive': 4479, 'background': 4480, 'clinic': 4481, 'possibility': 4482, 'examination': 4483, 'tool': 4484, 'entail': 4485, 'talent': 4486, 'etsy': 4487, 'occured': 4488, 'preparing': 4489, 'midterm': 4490, 'welfare': 4491, 'unprepared': 4492, 'manageable': 4493, 'figt': 4494, 'neutral': 4495, 'changing': 4496, 'someway': 4497, 'measuring': 4498, 'unfocused': 4499, 'basks': 4500, 'writes': 4501, 'norm': 4502, 'bashful': 4503, 'defending': 4504, 'neck': 4505, 'unrest': 4506, 'events': 4507, 'assuage': 4508, 'coz': 4509, 'project': 4510, 'diy': 4511, 'pregnant': 4512, 'redeem': 4513, 'pulse': 4514, 'loose': 4515, 'f': 4516, 'ed': 4517, 'xmas': 4518, 'stare': 4519, 'dragging': 4520, 'combo': 4521, 'barrier': 4522, 'schedules': 4523, 'footing': 4524, 'input': 4525, 'dinks': 4526, 'double': 4527, 'prettymuch': 4528, 'acronym': 4529, 'structure': 4530, 'routine': 4531, 'overdo': 4532, 'politicians': 4533, 'tomfoolery': 4534, 'shenanigans': 4535, 'washington': 4536, 'advocate': 4537, 'emm': 4538, 'cox': 4539, 'clinique': 4540, 'judged': 4541, 'browsers': 4542, 'booth': 4543, 'stepped': 4544, 'kitchen': 4545, 'whip': 4546, 'crunchy': 4547, 'horse': 4548, 'shies': 4549, 'hasn': 4550, 'texts': 4551, 'sweeteners': 4552, 'refined': 4553, 'sugars': 4554, 'demonstrate': 4555, 'vienna': 4556, 'emptiness': 4557, 'baggage': 4558, 'adn': 4559, 'inferior': 4560, 'someobdy': 4561, 'labour': 4562, 'closest': 4563, 'hp': 4564, 'plugged': 4565, 'laptop': 4566, 'charging': 4567, 'flying': 4568, 'suddenly': 4569, 'startled': 4570, 'paulie': 4571, 'visibly': 4572, 'result': 4573, 'performance': 4574, 'police': 4575, 'officer': 4576, 'repeating': 4577, 'bus': 4578, 'squeak': 4579, 'baachan': 4580, 'trolley': 4581, 'jades': 4582, 'particular': 4583, 'spencers': 4584, 'travel': 4585, 'stoned': 4586, 'endorphin': 4587, 'seizing': 4588, 'petrified': 4589, 'medication': 4590, 'triggering': 4591, 'vomiting': 4592, 'sentinel': 4593, 'hanford': 4594, 'councilman': 4595, 'dan': 4596, 'chins': 4597, 'proposed': 4598, 'policy': 4599, 'committee': 4600, 'summed': 4601, 'stereotype': 4602, 'nerdy': 4603, 'sciences': 4604, 'bondmusings': 4605, 'excitment': 4606, 'xdd': 4607, 'hohoho': 4608, 'foward': 4609, 'tmr': 4610, 'xd': 4611, 'cya': 4612, 'completeness': 4613, 'sobered': 4614, 'freedom': 4615, 'guitar': 4616, 'inhibited': 4617, 'circles': 4618, 'repay': 4619, 'freaked': 4620, 'welling': 4621, 'homis': 4622, 'tasks': 4623, 'intolerably': 4624, 'virtual': 4625, 'impractical': 4626, 'mainly': 4627, 'uncoiling': 4628, 'swim': 4629, 'china': 4630, 'allah': 4631, 'puff': 4632, 'circumstance': 4633, 'deke': 4634, 'fuckin': 4635, 'killed': 4636, 'mistresses': 4637, 'frames': 4638, 'couch': 4639, 'floor': 4640, 'gently': 4641, 'chatting': 4642, 'clue': 4643, 'singapore': 4644, 'planned': 4645, 'misunderstood': 4646, 'cambodia': 4647, 'lax': 4648, 'provocative': 4649, 'owl': 4650, 'e': 4651, 'intention': 4652, 'shape': 4653, 'templates': 4654, 'owls': 4655, 'ring': 4656, 'regrets': 4657, 'tummy': 4658, 'incase': 4659, 'gown': 4660, 'plastic': 4661, 'slippers': 4662, 'dopey': 4663, 'wig': 4664, 'account': 4665, 'models': 4666, 'skills': 4667, 'arena': 4668, 'ptl': 4669, 'wandering': 4670, 'disaster': 4671, 'shoulder': 4672, 'cooped': 4673, 'islam': 4674, 'flow': 4675, 'involves': 4676, 'teasing': 4677, 'scrutiny': 4678, 'aa': 4679, 'insight': 4680, 'flight': 4681, 'weren': 4682, 'nick': 4683, 'internally': 4684, 'externally': 4685, 'rightly': 4686, 'noted': 4687, 'flee': 4688, 'baltic': 4689, 'sea': 4690, 'intrusion': 4691, 'pleasing': 4692, 'hurting': 4693, 'trauma': 4694, 'battered': 4695, 'toronto': 4696, 'bedroom': 4697, 'degrassi': 4698, 'junior': 4699, 'weep': 4700, 'reactions': 4701, 'opinions': 4702, 'scares': 4703, 'collected': 4704, 'aout': 4705, 'speech': 4706, 'retirement': 4707, 'lunch': 4708, 'shortly': 4709, 'tsa': 4710, 'croissants': 4711, 'boundaries': 4712, 'normalcy': 4713, 'comforting': 4714, 'trusty': 4715, 'louche': 4716, 'foreign': 4717, 'tourists': 4718, 'island': 4719, 'chronically': 4720, 'horribly': 4721, 'habitual': 4722, 'wh': 4723, 'initiation': 4724, 'r': 4725, 'mouse': 4726, 'among': 4727, 'warmth': 4728, 'mysterious': 4729, 'intimately': 4730, 'buoyed': 4731, 'surrender': 4732, 'transcendent': 4733, 'surge': 4734, 'devote': 4735, 'violence': 4736, 'maze': 4737, 'ranks': 4738, 'frugal': 4739, 'antics': 4740, 'improv': 4741, 'required': 4742, 'protective': 4743, 'lawyer': 4744, 'reilly': 4745, 'bounces': 4746, 'references': 4747, 'dawn': 4748, 'shaun': 4749, 'dlpt': 4750, 'downers': 4751, 'mess': 4752, 'headphones': 4753, 'needing': 4754, 'adopt': 4755, 'labels': 4756, 'identify': 4757, 'unclear': 4758, 'separate': 4759, 'joel': 4760, 'distrustful': 4761, 'approach': 4762, 'lifting': 4763, 'suspicious': 4764, 'moreso': 4765, 'welcome': 4766, 'surprising': 4767, 'relief': 4768, 'decluttering': 4769, 'closet': 4770, 'presentations': 4771, 'birth': 4772, 'ladies': 4773, 'examine': 4774, 'exempted': 4775, 'assessment': 4776, 'anxieties': 4777, 'senator': 4778, 'empathy': 4779, 'thereof': 4780, 'ward': 4781, 'investigators': 4782, 'ponder': 4783, 'temple': 4784, 'lords': 4785, 'nervs': 4786, 'min': 4787, 'stillness': 4788, 'loudly': 4789, 'stage': 4790, 'slink': 4791, 'dressed': 4792, 'psychologist': 4793, 'courtesy': 4794, 'journalism': 4795, 'sibling': 4796, 'bro': 4797, 'attending': 4798, 'hyenas': 4799, 'insomnia': 4800, 'ted': 4801, 'simplicity': 4802, 'uglier': 4803, 'deformed': 4804, 'filmmaker': 4805, 'speaking': 4806, 'higher': 4807, 'experts': 4808, 'radiation': 4809, 'david': 4810, 'contentedly': 4811, 'succeed': 4812, 'unattainable': 4813, 'prolonged': 4814, 'nauseous': 4815, 'drew': 4816, 'focalors': 4817, 'sigil': 4818, 'opium': 4819, 'incense': 4820, 'stick': 4821, 'grabbing': 4822, 'wooden': 4823, 'pulling': 4824, 'smack': 4825, 'meditated': 4826, 'nutritional': 4827, 'methods': 4828, 'solve': 4829, 'globe': 4830, 'dust': 4831, 'warp': 4832, 'wednesday': 4833, 'warms': 4834, 'midst': 4835, 'quirky': 4836, 'inter': 4837, 'generational': 4838, 'epic': 4839, 'feat': 4840, 'financial': 4841, 'law': 4842, 'partly': 4843, 'dependent': 4844, 'js': 4845, 'jilted': 4846, 'j': 4847, 'vows': 4848, 'passport': 4849, 'semester': 4850, 'authors': 4851, 'interviews': 4852, 'secretly': 4853, 'worries': 4854, 'convince': 4855, 'soulmate': 4856, 'regarding': 4857, 'chemistry': 4858, 'impression': 4859, 'missing': 4860, 'marginalised': 4861, 'frequently': 4862, 'roads': 4863, 'define': 4864, 'layout': 4865, 'bicycle': 4866, 'transport': 4867, 'learing': 4868, 'policemen': 4869, 'search': 4870, 'runs': 4871, 'wipe': 4872, 'dazed': 4873, 'alarming': 4874, 'connect': 4875, 'artists': 4876, 'amazed': 4877, 'awe': 4878, 'incoming': 4879, 'thrift': 4880, 'bliss': 4881, 'earning': 4882, 'claim': 4883, 'crown': 4884, 'waits': 4885, 'taryn': 4886, 'jumping': 4887, 'enclose': 4888, 'weigh': 4889, 'curious': 4890, 'disasters': 4891, 'swath': 4892, 'frequency': 4893, 'rolled': 4894, 'performed': 4895, 'lil': 4896, 'wayne': 4897, 'nikki': 4898, 'minaj': 4899, 'drake': 4900, 'dope': 4901, 'windows': 4902, 'passengered': 4903, 'vaguely': 4904, 'shock': 4905, 'dated': 4906, 'injustice': 4907, 'stumped': 4908, 'pen': 4909, 'spin': 4910, 'previous': 4911, 'readings': 4912, 'depth': 4913, 'constructivism': 4914, 'unit': 4915, 'lead': 4916, 'predictable': 4917, 'loki': 4918, 'fandoms': 4919, 'impressed': 4920, 'lenses': 4921, 'rabbits': 4922, 'dreamworld': 4923, 'bitterly': 4924, 'rapidly': 4925, 'towel': 4926, 'deodorant': 4927, 'snob': 4928, 'eight': 4929, 'sufficiently': 4930, 'rarely': 4931, 'handled': 4932, 'developers': 4933, 'sensory': 4934, 'overload': 4935, 'company': 4936, 'internal': 4937, 'continuous': 4938, 'wailing': 4939, 'siren': 4940, 'hears': 4941, 'stunned': 4942, 'naomi': 4943, 'klein': 4944, 'architectural': 4945, 'wonders': 4946, 'wowed': 4947, 'respecting': 4948, 'built': 4949, 'mightily': 4950, 'crashed': 4951, 'written': 4952, 'gonna': 4953, 'reproduce': 4954, 'academic': 4955, 'analyses': 4956, 'prominent': 4957, 'episodes': 4958, 'humor': 4959, 'snack': 4960, 'wearily': 4961, 'automation': 4962, 'memset': 4963, 'unfolding': 4964, 'comatose': 4965, 'tad': 4966, 'stopping': 4967, 'rep': 4968, 'reciting': 4969, 'memorized': 4970, 'spiel': 4971, 'mentioning': 4972, 'papamoka': 4973, 'shows': 4974, 'lyman': 4975, 'aspects': 4976, 'accidentally': 4977, 'blogspot': 4978, 'plant': 4979, 'silent': 4980, 'compared': 4981, 'currently': 4982, 'flipped': 4983, 'sasha': 4984, 'beyonc': 4985, 'impacted': 4986, 'endorsed': 4987, 'littered': 4988, 'backward': 4989, 'racist': 4990, 'capital': 4991, 'uttered': 4992, 'travelling': 4993, 'journeys': 4994, 'yearn': 4995, 'deceased': 4996, 'bonka': 4997, 'neva': 4998, 'thanked': 4999, 'fa': 5000, 'awards': 5001, 'legitimately': 5002, 'adrasteius': 5003, 'eulalias': 5004, 'adventures': 5005, 'tho': 5006, 'submit': 5007, 'fan': 5008, 'freaking': 5009, 'tastic': 5010, 'brother': 5011, 'mihm': 5012, 'mixture': 5013, 'gracias': 5014, 'por': 5015, 'todo': 5016, 'fb': 5017, 'enthralled': 5018, 'premature': 5019, 'graying': 5020, 'habit': 5021, 'occasionally': 5022, 'insatiably': 5023, 'marketing': 5024, 'significant': 5025, 'uncertainties': 5026, 'sorrows': 5027, 'lurking': 5028, 'rave': 5029, 'unappreciated': 5030, 'schemes': 5031, 'implement': 5032, 'organizational': 5033, 'spaces': 5034, 'masochist': 5035, 'unworthy': 5036, 'aimless': 5037, 'aren': 5038, 'joining': 5039, 'row': 5040, 'column': 5041, 'sale': 5042, 'ludicrous': 5043, 'waste': 5044, 'screenshot': 5045, 'hardly': 5046, 'wow': 5047, 'liv': 5048, 'concept': 5049, 'scientists': 5050, 'initial': 5051, 'conditions': 5052, 'tuned': 5053, 'flat': 5054, 'quote': 5055, 'nourished': 5056, 'sooner': 5057, 'manufacturing': 5058, 'finance': 5059, 'cuz': 5060, 'brd': 5061, 'armor': 5062, 'sucks': 5063, 'brds': 5064, 'statistic': 5065, 'population': 5066, 'hsps': 5067, 'hsp': 5068, 'inherent': 5069, 'goodbye': 5070, 'entertaining': 5071, 'hyphen': 5072, 'prefer': 5073, 'peep': 5074, 'toe': 5075, 'accessaries': 5076, 'spoken': 5077, 'lounge': 5078, 'clubbing': 5079, 'answering': 5080, 'management': 5081, 'choke': 5082, 'sl': 5083, 'realness': 5084, 'portrayal': 5085, 'condition': 5086, 'remembered': 5087, 'pieces': 5088, 'slumber': 5089, 'convoluted': 5090, 'exhausting': 5091, 'skdd': 5092, 'smiling': 5093, 'fool': 5094, 'laughing': 5095, 'reground': 5096, 'delivered': 5097, 'supportiveness': 5098, 'situations': 5099, 'greatness': 5100, 'sentence': 5101, 'typed': 5102, 'december': 5103, 'protein': 5104, 'diet': 5105, 'listens': 5106, 'unique': 5107, 'vibe': 5108, 'korean': 5109, 'translated': 5110, 'spite': 5111, 'demanding': 5112, 'tossed': 5113, 'rag': 5114, 'doll': 5115, 'darling': 5116, 'retrospect': 5117, 'newsprint': 5118, 'carried': 5119, 'articles': 5120, 'readership': 5121, 'intended': 5122, 'related': 5123, 'mira': 5124, 'castle': 5125, 'nemo': 5126, 'tech': 5127, 'turns': 5128, 'sorrow': 5129, 'satan': 5130, 'streets': 5131, 'jurer': 5132, 'constructions': 5133, 'catholic': 5134, 'mesh': 5135, 'thousands': 5136, 'stared': 5137, 'equally': 5138, 'lightheaded': 5139, 'elder': 5140, 'fitch': 5141, 'twin': 5142, 'padding': 5143, 'riding': 5144, 'serious': 5145, 'recollection': 5146, 'observant': 5147, 'cheerleader': 5148, 'cigarettes': 5149, 'wafts': 5150, 'charred': 5151, 'kenny': 5152, 'commented': 5153, 'bowled': 5154, 'velocity': 5155, 'gained': 5156, 'wishing': 5157, 'opened': 5158, 'fahad': 5159, 'leaning': 5160, 'skeleton': 5161, 'steps': 5162, 'humbled': 5163, 'slugging': 5164, 'jason': 5165, 'yardage': 5166, 'paternal': 5167, 'distinct': 5168, 'sally': 5169, 'mop': 5170, 'atop': 5171, 'bout': 5172, 'encountered': 5173, 'shield': 5174, 'lay': 5175, 'tween': 5176, 'moms': 5177, 'babysit': 5178, 'considering': 5179, 'waking': 5180, 'mccarthy': 5181, 'humanize': 5182, 'balancing': 5183, 'fighter': 5184, 'antisocial': 5185, 'difficult': 5186, 'cooperation': 5187, 'intensely': 5188, 'blonde': 5189, 'smooth': 5190, 'falsely': 5191, 'inflated': 5192, 'expressing': 5193, 'articulate': 5194, 'courage': 5195, 'graduation': 5196, 'yk': 5197, 'brag': 5198, 'fattie': 5199, 'pre': 5200, 'teen': 5201, 'ahead': 5202, 'judge': 5203, 'calorie': 5204, 'intake': 5205, 'spider': 5206, 'shirt': 5207, 'district': 5208, 'leader': 5209, 'explaining': 5210, 'fruits': 5211, 'baptized': 5212, 'weaknesses': 5213, 'vellas': 5214, 'eyed': 5215, 'gratitude': 5216, 'bqff': 5217, 'loaded': 5218, 'limbs': 5219, 'approve': 5220, 'disapprove': 5221, 'dot': 5222, 'com': 5223, 'marriages': 5224, 'psycho': 5225, 'fetish': 5226, 'experiment': 5227, 'sugar': 5228, 'hunger': 5229, 'individual': 5230, 'percieve': 5231, 'pride': 5232, 'waving': 5233, 'coeur': 5234, 'alene': 5235, 'surrounded': 5236, 'nuts': 5237, 'overworked': 5238, 'exclusively': 5239, 'appearance': 5240, 'stride': 5241, 'nonstop': 5242, 'ancestral': 5243, 'dryers': 5244, 'seattle': 5245, 'showcase': 5246, 'spiritual': 5247, 'generations': 5248, 'believer': 5249, 'whispered': 5250, 'cx': 5251, 'adams': 5252, 'amish': 5253, 'freaky': 5254, 'combined': 5255, 'ridden': 5256, 'whitley': 5257, 'influenced': 5258, 'hollywood': 5259, 'earthquake': 5260, 'christchurch': 5261, 'adjust': 5262, 'olds': 5263, 'enlist': 5264, 'aid': 5265, 'accomplishing': 5266, 'disbelieving': 5267, 'imagining': 5268, 'vortex': 5269, 'ia': 5270, 'died': 5271, 'alexander': 5272, 'gaze': 5273, 'remembrance': 5274, 'justin': 5275, 'aryiku': 5276, 'falls': 5277, 'latter': 5278, 'category': 5279, 'tings': 5280, 'forgot': 5281, 'washroom': 5282, 'deserted': 5283, 'adapt': 5284, 'ants': 5285, 'bore': 5286, 'testimony': 5287, 'impressions': 5288, 'volunteered': 5289, 'obligations': 5290, 'skinner': 5291, 'marred': 5292, 'prose': 5293, 'happier': 5294, 'chair': 5295, 'heater': 5296, 'muddling': 5297, 'wars': 5298, 'wot': 5299, 'jerked': 5300, 'touched': 5301, 'legacy': 5302, 'yuuki': 5303, 'international': 5304, 'speed': 5305, 'creeps': 5306, 'unnecessary': 5307, 'revealed': 5308, 'yard': 5309, 'contemplation': 5310, 'consolidation': 5311, 'stature': 5312, 'lauren': 5313, 'surf': 5314, 'waves': 5315, 'darren': 5316, 'poke': 5317, 'function': 5318, 'stable': 5319, 'dialog': 5320, 'stack': 5321, 'twenty': 5322, 'papers': 5323, 'selling': 5324, 'copies': 5325, 'minority': 5326, 'discuss': 5327, 'handing': 5328, 'mormon': 5329, 'neuropathy': 5330, 'fingernails': 5331, 'compensated': 5332, 'earn': 5333, 'blush': 5334, 'recreational': 5335, 'unwillingly': 5336, 'willingly': 5337, 'familiarity': 5338, 'politics': 5339, 'realm': 5340, 'usa': 5341, 'dancer': 5342, 'console': 5343, 'port': 5344, 'arcade': 5345, 'sequel': 5346, 'shinobi': 5347, 'revenge': 5348, 'racked': 5349, 'prick': 5350, 'paused': 5351, 'benjamin': 5352, 'button': 5353, 'forest': 5354, 'gump': 5355, 'review': 5356, 'stayviolation': 5357, 'anticipated': 5358, 'spontaneously': 5359, 'erratic': 5360, 'swoons': 5361, 'focusing': 5362, 'dip': 5363, 'dating': 5364, 'neighbors': 5365, 'montagues': 5366, 'tales': 5367, 'george': 5368, 'hobica': 5369, 'greatest': 5370, 'insecurities': 5371, 'clutter': 5372, 'ritalin': 5373, 'culture': 5374, 'flias': 5375, 'ini': 5376, 'generated': 5377, 'transformers': 5378, 'fluidly': 5379, 'integrated': 5380, 'hah': 5381, 'responded': 5382, 'urgency': 5383, 'introduce': 5384, 'touching': 5385, 'anna': 5386, 'iya': 5387, 'erik': 5388, 'reminding': 5389, 'pic': 5390, 'starved': 5391, 'bungalow': 5392, 'guests': 5393, 'psychological': 5394, 'noah': 5395, 'resonate': 5396, 'grow': 5397, 'complications': 5398, 'trials': 5399, 'obstacles': 5400, 'ol': 5401, 'feefyefo': 5402, 'blabber': 5403, 'transparent': 5404, 'emphasize': 5405, 'grant': 5406, 'norma': 5407, 'chiangmai': 5408, 'scad': 5409, 'itd': 5410, 'gay': 5411, 'slalom': 5412, 'training': 5413, 'isolation': 5414, 'creeped': 5415, 'existance': 5416, 'refrain': 5417, 'tools': 5418, 'sandblog': 5419, 'achieve': 5420, 'spritzer': 5421, 'nagalene': 5422, 'connecting': 5423, 'google': 5424, 'stellarium': 5425, 'theyd': 5426, 'peter': 5427, 'robbed': 5428}\n",
      "3789\n",
      "5429\n",
      "alpha_word1 0.05806281340723146\n",
      "discounted_prob 0.0\n",
      "self.word_count[word1] 3789\n",
      "np.sum(self.bigram_counts[self.vocabulary_index[word1], :] > 0)) 440\n",
      "np.sum(self.bigram_counts[:, self.vocabulary_index[word2]] > 0) 32\n",
      "np.sum(self.bigram_counts > 0) 24436\n",
      "7.603576808935205e-05\n"
     ]
    }
   ],
   "source": [
    "print(bigramLM.vocabulary_index)\n",
    "print(bigramLM.word_count[\"i\"])\n",
    "print(bigramLM.vocab_size)\n",
    "\n",
    "# print(bigramLM.bigram_counts[0,2])\n",
    "# print(bigramLM.calculate_probability(\"i\",\"i\"))\n",
    "# print(bigramLM.laplace_smoothing(\"i\",\"here\"))\n",
    "print(bigramLM.kneser_ney_smoothing(\"i\",\"here\", discount=0.5))\n",
    "# print(bigramLM.calculate_probability_emotion(\"i\", \"feel\", 0))"
   ]
  },
  {
   "cell_type": "code",
   "execution_count": 100,
   "metadata": {},
   "outputs": [],
   "source": [
    "class BigramLM_efficient:\n",
    "    def __init__(self):\n",
    "        self.vocab_size = 0\n",
    "        self.vocabulary_index = {}\n",
    "        self.word_count = {}\n",
    "        self.index_vocabulary = {}\n",
    "        self.bigram_counts = None\n",
    "        self.bigram_probabilities = None\n",
    "        self.dataset = None\n",
    "\n",
    "\n",
    "    def build_corpus(self, file_path):\n",
    "        with open(file_path, 'r', encoding='utf-8') as file:\n",
    "            sentences = [line.strip().split() for line in file]\n",
    "        self.dataset =  sentences\n",
    "    \n",
    "    def build_vocab(self):\n",
    "        for line in self.dataset:\n",
    "            for word in line:\n",
    "                if word not in self.vocabulary_index:\n",
    "                    self.vocabulary_index[word] = self.vocab_size\n",
    "                    self.index_vocabulary[self.vocab_size] = word\n",
    "                    self.word_count[word] = 0\n",
    "                    self.vocab_size += 1\n",
    "                self.word_count[word] += 1\n",
    "\n",
    "    def build_probability_matrix(self, mode, discount=0, emotion_id=0):\n",
    "        self.bigram_probabilities = np.zeros((self.vocab_size, self.vocab_size), dtype=float)\n",
    "\n",
    "        if mode == 0:\n",
    "            self.bigram_probabilities = self.calculate_probability_matrix()\n",
    "        elif mode == 1:\n",
    "            self.bigram_probabilities = self.laplace_smoothing_matrix()\n",
    "        elif mode == 2:\n",
    "            self.bigram_probabilities = self.kneser_ney_smoothing_matrix(discount=discount)\n",
    "        # else:\n",
    "        #     self.bigram_probabilities = self.calculate_probability_emotion_matrix(emotion_id=emotion_id)\n",
    "\n",
    "    def calculate_probability_matrix(self):\n",
    "        # Calculate bigram probabilities without smoothing or emotion\n",
    "        return self.bigram_counts / self.word_count_matrix[:, np.newaxis]\n",
    "\n",
    "    def laplace_smoothing_matrix(self):\n",
    "        # Apply Laplace smoothing to bigram probabilities\n",
    "        return (self.bigram_counts + 1) / (self.word_count_matrix[:, np.newaxis] + self.vocab_size)\n",
    "\n",
    "    def kneser_ney_smoothing_matrix(self, discount=0):\n",
    "        # Apply Kneser-Ney smoothing to bigram probabilities\n",
    "        discounted_probs = np.maximum(self.bigram_counts - discount, 0) / self.word_count_matrix[:, np.newaxis]\n",
    "        alpha_word1 = (discount * np.sum(self.bigram_counts > 0, axis=1)) / self.word_count_matrix\n",
    "        cont_probs = np.sum(self.bigram_counts > 0, axis=0) / np.sum(self.bigram_counts > 0)\n",
    "        return discounted_probs + alpha_word1[:, np.newaxis] * cont_probs\n",
    "\n",
    "    def calculate_probability_emotion_row(self, first_wrod, emotion_id=0):\n",
    "        # Calculate bigram probabilities with emotion scores\n",
    "        non_zero_indices = np.nonzero(self.bigram_counts[self.vocabulary_index[first_wrod], :])[0]\n",
    "        emo_probs = np.zeros((self.vocab_size, 6))\n",
    "        for second_word_index in non_zero_indices:\n",
    "            k = self.emotion_scores(first_wrod + \" \" +  self.index_vocabulary[second_word_index])\n",
    "            prob_score = []\n",
    "            for label_score in range(6):\n",
    "                prob_score.append(k[label_score]['score'])\n",
    "            emo_probs[second_word_index] = np.array(prob_score)\n",
    "        first_word_mat = self.bigram_counts / self.word_count_matrix[:, np.newaxis]\n",
    "        return first_word_mat[self.vocabulary_index[first_wrod],:] + emo_probs[:, emotion_id]\n",
    "    \n",
    "    # def calculate_emo_matrix(self, emotion_id = 0):\n",
    "    #     emo_prob_matrix = np.zeros((self.vocab_size, self.vocab_size))\n",
    "    #     for i in range(self.vocab_size):\n",
    "    #         print(i)\n",
    "    #         emo_prob_matrix[i] = self.calculate_probability_emotion_row(self.index_vocabulary[i], emotion_id)\n",
    "    #     return emo_prob_matrix\n",
    "\n",
    "    # def emotion_scores_matrix(self,emotion_id):\n",
    "    #     # Calculate emotion scores for all bigrams\n",
    "    #     all_bigrams = [f\"{self.index_vocabulary[i]} {self.index_vocabulary[j]}\" for i in range(self.vocab_size) for j in range(self.vocab_size)]\n",
    "    #     num_bigrams = len(all_bigrams)\n",
    "    #     # print(all_bigrams[0], len(all_bigrams))\n",
    "    #     emo_probs = np.zeros((num_bigrams, 6))\n",
    "\n",
    "    #     for idx, bigram in enumerate(all_bigrams):\n",
    "    #         print(idx, \"/\", num_bigrams)\n",
    "    #         k = self.emotion_scores(bigram)\n",
    "    #         prob_score = []\n",
    "    #         for label_score in range(6):\n",
    "    #             prob_score.append(k[label_score]['score'])\n",
    "\n",
    "    #         emo_probs[idx] =  np.array(prob_score)\n",
    "    #         # print(emo_probs[idx])\n",
    "    #         # print(prob_score)\n",
    "\n",
    "    #     print(emo_probs.shape)        \n",
    "    #     final =  emo_probs.reshape((self.vocab_size, self.vocab_size,6))\n",
    "    #     np.save(\"emo_bigram.npy\", final)\n",
    "    #     return final\n",
    "\n",
    "    def emotion_scores(self, sample): \n",
    "        emotion=classifier(sample)\n",
    "        return emotion[0]\n",
    "\n",
    "    def learn(self, file_path):\n",
    "        # Build vocabulary and initialize bigram counts\n",
    "        self.build_corpus(file_path)\n",
    "        self.build_vocab()\n",
    "\n",
    "        self.bigram_counts = np.zeros((self.vocab_size, self.vocab_size), dtype=int)\n",
    "        self.word_count_matrix = np.array(list(self.word_count.values()))\n",
    "\n",
    "        for line in self.dataset:\n",
    "            for index in range(len(line) - 1):\n",
    "                first_word_index = self.vocabulary_index[line[index]]\n",
    "                second_word_index = self.vocabulary_index[line[index + 1]]\n",
    "                self.bigram_counts[first_word_index, second_word_index] += 1\n",
    "                \n",
    "    def generate_samples(self, emotion_id = 0, num_samples = 50):\n",
    "            generated_samples = []\n",
    "            for _ in range(num_samples):\n",
    "                sample = self.generate_sample(emotion_id)\n",
    "                generated_samples.append(sample)\n",
    "            return generated_samples\n",
    "\n",
    "    def generate_sample(self, emotion_id = 0, max_length = 3):\n",
    "\n",
    "        start_word = np.random.choice(['i', 'im', 'ive'], p=[0.7, 0.2, 0.1])\n",
    "        current_word = start_word\n",
    "        sample = [current_word]\n",
    "\n",
    "        for _ in range(max_length - 1):\n",
    "            current_word_index = self.vocabulary_index[current_word]\n",
    "\n",
    "            probabilities = self.calculate_probability_emotion_row(current_word, emotion_id)\n",
    "\n",
    "            # Check if all probabilities are zero\n",
    "            if np.all(probabilities == 0):\n",
    "                break\n",
    "\n",
    "            # Normalize the probabilities only if they are not all zero\n",
    "            probabilities /= probabilities.sum()\n",
    "\n",
    "            # Sample the next word probabilistically\n",
    "            next_word_index = np.random.choice(self.vocab_size, p=probabilities)\n",
    "            next_word = self.index_vocabulary[next_word_index]\n",
    "\n",
    "            # Append the next word to the sample\n",
    "            sample.append(next_word)\n",
    "            current_word = next_word\n",
    "\n",
    "        return ' '.join(sample)                \n",
    "# Example usage:\n",
    "corpus_path = 'corpus.txt'\n",
    "bigram_model = BigramLM_efficient()\n",
    "bigram_model.learn(corpus_path)\n",
    "# bigram_model.build_probability_matrix(mode=1, discount=0.5)\n"
   ]
  },
  {
   "cell_type": "code",
   "execution_count": 74,
   "metadata": {},
   "outputs": [
    {
     "data": {
      "text/plain": [
       "(5429, 5429)"
      ]
     },
     "execution_count": 74,
     "metadata": {},
     "output_type": "execute_result"
    }
   ],
   "source": [
    "bigram_model.bigram_counts.shape"
   ]
  },
  {
   "cell_type": "code",
   "execution_count": 75,
   "metadata": {},
   "outputs": [],
   "source": [
    "total = 5429*5429\n"
   ]
  },
  {
   "cell_type": "code",
   "execution_count": 76,
   "metadata": {},
   "outputs": [
    {
     "data": {
      "text/plain": [
       "29449605"
      ]
     },
     "execution_count": 76,
     "metadata": {},
     "output_type": "execute_result"
    }
   ],
   "source": [
    "np.count_nonzero(bigram_model.bigram_counts==0)"
   ]
  },
  {
   "cell_type": "code",
   "execution_count": 102,
   "metadata": {},
   "outputs": [],
   "source": [
    "emotions = ['sadness', 'joy', 'love', 'anger', 'fear', 'surprise']\n",
    "\n",
    "for emotion in range(len(emotions)):\n",
    "    generated_samples = bigram_model.generate_samples(num_samples = 10, emotion_id=emotion)\n",
    "    output_file = f'gen_3_{emotions[emotion]}.txt'\n",
    "\n",
    "    with open(output_file, 'w', encoding='utf-8') as file:\n",
    "        for sample in generated_samples:\n",
    "            file.write(sample + '\\n')"
   ]
  },
  {
   "cell_type": "code",
   "execution_count": 64,
   "metadata": {},
   "outputs": [
    {
     "data": {
      "text/plain": [
       "[{'label': 'sadness', 'score': 0.2016565352678299},\n",
       " {'label': 'joy', 'score': 0.0017053603660315275},\n",
       " {'label': 'love', 'score': 0.0007887427927926183},\n",
       " {'label': 'anger', 'score': 0.002077906858175993},\n",
       " {'label': 'fear', 'score': 0.7899318933486938},\n",
       " {'label': 'surprise', 'score': 0.003839528188109398}]"
      ]
     },
     "execution_count": 64,
     "metadata": {},
     "output_type": "execute_result"
    }
   ],
   "source": [
    "bigram_model.emotion_scores(\"i caught in shock at whats so helpless in europe\")"
   ]
  },
  {
   "cell_type": "code",
   "execution_count": 15,
   "metadata": {},
   "outputs": [
    {
     "data": {
      "text/plain": [
       "7.603576808935205e-05"
      ]
     },
     "execution_count": 15,
     "metadata": {},
     "output_type": "execute_result"
    }
   ],
   "source": [
    "bigram_model.bigram_probabilities[0,2]"
   ]
  }
 ],
 "metadata": {
  "kernelspec": {
   "display_name": "Python 3",
   "language": "python",
   "name": "python3"
  },
  "language_info": {
   "codemirror_mode": {
    "name": "ipython",
    "version": 3
   },
   "file_extension": ".py",
   "mimetype": "text/x-python",
   "name": "python",
   "nbconvert_exporter": "python",
   "pygments_lexer": "ipython3",
   "version": "3.10.10"
  }
 },
 "nbformat": 4,
 "nbformat_minor": 2
}
