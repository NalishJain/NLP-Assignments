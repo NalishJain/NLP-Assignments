{
 "cells": [
  {
   "cell_type": "code",
   "execution_count": 1,
   "metadata": {},
   "outputs": [
    {
     "name": "stderr",
     "output_type": "stream",
     "text": [
      "[nltk_data] Downloading package punkt to\n",
      "[nltk_data]     /Users/nalishjain/nltk_data...\n",
      "[nltk_data]   Package punkt is already up-to-date!\n",
      "[nltk_data] Downloading package stopwords to\n",
      "[nltk_data]     /Users/nalishjain/nltk_data...\n",
      "[nltk_data]   Package stopwords is already up-to-date!\n"
     ]
    },
    {
     "data": {
      "text/plain": [
       "True"
      ]
     },
     "execution_count": 1,
     "metadata": {},
     "output_type": "execute_result"
    }
   ],
   "source": [
    "import json\n",
    "from sklearn.model_selection import train_test_split\n",
    "from nltk.tokenize import word_tokenize\n",
    "from nltk.corpus import stopwords\n",
    "import nltk\n",
    "import string\n",
    "import pickle\n",
    "from itertools import product\n",
    "\n",
    "# Ensure NLTK resources are downloaded\n",
    "nltk.download('punkt')\n",
    "nltk.download('stopwords')\n"
   ]
  },
  {
   "cell_type": "code",
   "execution_count": 3,
   "metadata": {},
   "outputs": [],
   "source": [
    "with open('Data task2/Laptop_Review_Train.json', 'r') as f:\n",
    "    train_dataset = json.load(f)\n",
    "\n",
    "with open('Data task2/Laptop_Review_Val.json', 'r') as f:\n",
    "    val_dataset = json.load(f)\n",
    "\n",
    "with open('Data task2/Laptop_Review_Test.json', 'r') as f:\n",
    "    test_dataset = json.load(f)"
   ]
  },
  {
   "cell_type": "code",
   "execution_count": 58,
   "metadata": {},
   "outputs": [],
   "source": [
    "def preprocess_text(text):\n",
    "    text = text.lower()\n",
    "    tokens = word_tokenize(text)\n",
    "    stop_words = set(stopwords.words('english'))\n",
    "\n",
    "    tokens = [word for word in tokens if word.lower() not in stop_words]\n",
    "    tokens = [word for word in tokens if word not in string.punctuation]\n",
    "    tokens = [word for word in tokens if word.strip() != '']\n",
    "\n",
    "    return tokens\n",
    "\n",
    "def bio_encoding(id, error, tokens, annotations):\n",
    "    bio_labels = ['O'] * len(tokens)\n",
    "    try:\n",
    "        # print(tokens)\n",
    "        index = 0\n",
    "            # print(annotation['value'])\n",
    "        for annotation in annotations:\n",
    "            label_words = annotation['term']\n",
    "            # print(label_words)\n",
    "            index = annotation['from']\n",
    "\n",
    "            for i in range(len(label_words)):\n",
    "                if i == 0:\n",
    "                    bio_labels[index] = 'B'\n",
    "                else:\n",
    "                    bio_labels[index] = 'I'\n",
    "                index +=1\n",
    "    except:\n",
    "        error.append(id)\n",
    "        return \"\"\n",
    "    return bio_labels"
   ]
  },
  {
   "cell_type": "code",
   "execution_count": 66,
   "metadata": {},
   "outputs": [
    {
     "name": "stdout",
     "output_type": "stream",
     "text": [
      "['The', 'battery', 'life', 'is', 'amazing', ',', 'the', 'versitility', 'is', 'outstanding', '.']\n",
      "[{'index': 0, 'from': 1, 'to': 3, 'polarity': 'POS', 'term': ['battery', 'life']}, {'index': 1, 'from': 7, 'to': 8, 'polarity': 'POS', 'term': ['versitility']}]\n"
     ]
    }
   ],
   "source": [
    "check_Id = 459\n",
    "print(train_dataset[check_Id]['words'])\n",
    "print(train_dataset[check_Id]['aspects'])"
   ]
  },
  {
   "cell_type": "code",
   "execution_count": 67,
   "metadata": {},
   "outputs": [
    {
     "name": "stdout",
     "output_type": "stream",
     "text": [
      "O The\n",
      "B battery\n",
      "I life\n",
      "O is\n",
      "O amazing\n",
      "O ,\n",
      "O the\n",
      "B versitility\n",
      "O is\n",
      "O outstanding\n",
      "O .\n"
     ]
    }
   ],
   "source": [
    "b = bio_encoding(0, [], train_dataset[check_Id]['words'], train_dataset[check_Id]['aspects'])\n",
    "for i in range(len(train_dataset[check_Id]['words'])):\n",
    "    print(b[i], train_dataset[check_Id]['words'][i] )\n"
   ]
  },
  {
   "cell_type": "code",
   "execution_count": 68,
   "metadata": {},
   "outputs": [
    {
     "name": "stdout",
     "output_type": "stream",
     "text": [
      "[]\n",
      "[]\n",
      "[]\n"
     ]
    }
   ],
   "source": [
    "train_processed_data = {}\n",
    "error1 = []\n",
    "for id in range(len(train_dataset)):\n",
    "    text = train_dataset[id]['words']\n",
    "    annotations = train_dataset[id]['aspects']\n",
    "    \n",
    "    labels = bio_encoding(id, error1, text, annotations)\n",
    "    if labels != \"\":\n",
    "        train_processed_data[id] = {'text': text, 'labels': labels}\n",
    "\n",
    "print(error1)\n",
    "\n",
    "val_processed_data = {}\n",
    "error2 = []\n",
    "for id in range(len(val_dataset)):\n",
    "    text = val_dataset[id]['words']\n",
    "    annotations = val_dataset[id]['aspects']\n",
    "    \n",
    "    labels = bio_encoding(id, error2, text, annotations)\n",
    "    if labels != \"\":\n",
    "        val_processed_data[id] = {'text': text, 'labels': labels}\n",
    "\n",
    "print(error2)\n",
    "\n",
    "test_processed_data = {}\n",
    "error = []\n",
    "for id in range(len(test_dataset)):\n",
    "    text = test_dataset[id]['words']\n",
    "    annotations = test_dataset[id]['aspects']\n",
    "    \n",
    "    labels = bio_encoding(id, error, text, annotations)\n",
    "    if labels != \"\":\n",
    "        test_processed_data[id] = {'text': text, 'labels': labels}\n",
    "\n",
    "print(error)"
   ]
  },
  {
   "cell_type": "code",
   "execution_count": 69,
   "metadata": {},
   "outputs": [],
   "source": [
    "with open('Json Task2/train_processed.json', 'w') as file:\n",
    "    json.dump(train_processed_data, file, indent=2)\n",
    "\n",
    "with open('Json Task2/val_processed.json', 'w') as file:\n",
    "    json.dump(val_processed_data, file, indent=2)\n",
    "\n",
    "with open('Json Task2/test_processed.json', 'w') as file:\n",
    "    json.dump(test_processed_data, file, indent=2)"
   ]
  }
 ],
 "metadata": {
  "kernelspec": {
   "display_name": ".venv",
   "language": "python",
   "name": "python3"
  },
  "language_info": {
   "codemirror_mode": {
    "name": "ipython",
    "version": 3
   },
   "file_extension": ".py",
   "mimetype": "text/x-python",
   "name": "python",
   "nbconvert_exporter": "python",
   "pygments_lexer": "ipython3",
   "version": "3.10.10"
  }
 },
 "nbformat": 4,
 "nbformat_minor": 2
}
