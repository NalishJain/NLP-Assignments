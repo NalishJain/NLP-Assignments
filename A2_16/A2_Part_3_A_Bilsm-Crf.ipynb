{
  "cells": [
    {
      "cell_type": "code",
      "execution_count": 4,
      "metadata": {
        "colab": {
          "base_uri": "https://localhost:8080/"
        },
        "id": "Zk8C7ArLYQPY",
        "outputId": "c1c7dec0-376e-4ca2-acb2-49015c95fe36"
      },
      "outputs": [],
      "source": [
        "import torch\n",
        "import json\n",
        "import gensim.downloader as api\n",
        "import numpy as np\n",
        "import pickle\n",
        "# from google.colab import drive\n",
        "import tensorflow as tf\n",
        "# from tensorflow.keras.utils import tf_utils\n",
        "from tensorflow import keras\n",
        "from keras.utils import to_categorical\n",
        "import numpy as np\n",
        "from keras.models import Sequential, Model\n",
        "from keras.layers import Embedding, Bidirectional, LSTM, Dense, TimeDistributed\n",
        "from keras.optimizers import Adam\n",
        "import keras.backend as K\n",
        "import keras.layers as L\n",
        "# import tensorflow_addons as tfa\n",
        "import matplotlib.pyplot as plt\n",
        "from tensorflow_addons.text import crf_log_likelihood, crf_decode\n",
        "from sklearn.metrics import f1_score\n",
        "\n",
        "# drive.mount('/content/drive')"
      ]
    },
    {
      "cell_type": "code",
      "execution_count": 5,
      "metadata": {
        "id": "u2weMAvnYQMz"
      },
      "outputs": [],
      "source": [
        "with open('Json Task1/NER_train.json', 'r') as f:\n",
        "    task1_train_data = json.load(f)\n",
        "\n",
        "with open('Json Task1/NER_val.json', 'r') as f:\n",
        "    task1_val_data = json.load(f)\n",
        "\n",
        "with open('Json Task1/NER_test.json', 'r') as f:\n",
        "    task1_test_data = json.load(f)\n",
        "\n",
        "with open('Json Task2/ATE_train.json', 'r') as f:\n",
        "    task2_train_data = json.load(f)\n",
        "\n",
        "with open('Json Task2/ATE_val.json', 'r') as f:\n",
        "    task2_val_data = json.load(f)\n",
        "\n",
        "with open('Json Task2/ATE_test.json', 'r') as f:\n",
        "    task2_test_data = json.load(f)\n",
        "\n",
        "with open('glove_embedding.pkl', 'rb') as pickle_file:\n",
        "    glove_embeddings = pickle.load(pickle_file)\n",
        "    \n",
        "with open('fast_text_embedding.pkl', 'rb') as pickle_file:\n",
        "    fast_text_embedding = pickle.load(pickle_file)\n",
        "\n",
        "with open('word2vec_embeddings.pkl', 'rb') as pickle_file:\n",
        "    word2vec_embeddings = pickle.load(pickle_file)\n",
        "\n",
        "bio_mapping_task1 = {'B_ORG': 0, 'I_ORG': 1, 'B_RESPONDENT': 2, 'I_RESPONDENT': 3, 'B_JUDGE': 4, 'I_JUDGE': 5,\n",
        "               'B_STATUTE': 6, 'I_STATUTE': 7, 'B_OTHER_PERSON': 8, 'I_OTHER_PERSON': 9, 'B_COURT': 10, 'I_COURT': 11,\n",
        "               'B_GPE': 12, 'I_GPE': 13, 'B_PETITIONER': 14, 'I_PETITIONER': 15, 'B_WITNESS': 16, 'I_WITNESS': 17,\n",
        "               'B_CASE_NUMBER': 18, 'I_CASE_NUMBER': 19, 'B_PRECEDENT': 20, 'I_PRECEDENT': 21, 'B_DATE': 22, 'I_DATE': 23,\n",
        "               'B_PROVISION': 24, 'I_PROVISION': 25, 'O': 26}\n",
        "bio_mapping_task2 = {'O' : 0, 'I' : 1, 'B' : 2}"
      ]
    },
    {
      "cell_type": "code",
      "execution_count": 6,
      "metadata": {},
      "outputs": [],
      "source": [
        "word_to_index_w2v = {}\n",
        "ind = 0\n",
        "word2vec_embeddings['<unk>'] = np.zeros((1, 300), dtype = 'float32')\n",
        "\n",
        "for word in word2vec_embeddings.keys():\n",
        "  word_to_index_w2v[word] = ind\n",
        "  ind = ind + 1\n",
        "\n",
        "vocab_size_w2v = len(word_to_index_w2v)"
      ]
    },
    {
      "cell_type": "code",
      "execution_count": 7,
      "metadata": {
        "id": "qbWndtH1YQFO"
      },
      "outputs": [],
      "source": [
        "word_to_index_glove = {}\n",
        "ind = 0\n",
        "glove_embeddings['<unk>'] = np.zeros((1, 300), dtype = 'float32')\n",
        "\n",
        "for word in glove_embeddings.keys():\n",
        "  word_to_index_glove[word] = ind\n",
        "  ind = ind + 1\n",
        "\n",
        "vocab_size_glove = len(word_to_index_glove)"
      ]
    },
    {
      "cell_type": "code",
      "execution_count": 8,
      "metadata": {
        "id": "yuVmc9fIYQC3"
      },
      "outputs": [],
      "source": [
        "word_to_index_fasttext = {}\n",
        "ind = 0\n",
        "fast_text_embedding['<unk>'] = np.zeros((1, 300), dtype = 'float32')\n",
        "\n",
        "for word in fast_text_embedding.keys():\n",
        "  word_to_index_fasttext[word] = ind\n",
        "  ind = ind + 1\n",
        "\n",
        "vocab_size_fasttext = len(word_to_index_fasttext)"
      ]
    },
    {
      "cell_type": "code",
      "execution_count": 9,
      "metadata": {
        "id": "Iu353ya2YP-f"
      },
      "outputs": [],
      "source": [
        "def process_data(dataset,task,split, embedding_type):\n",
        "    sentences = []\n",
        "    labels = []\n",
        "    max_length_train_1 = 80\n",
        "    max_length_train_2 = 83\n",
        "    # max_length_test_1 = 52\n",
        "    # max_length_test_2 = 71\n",
        "    max_seq_len = 0\n",
        "\n",
        "    if task == 1:\n",
        "        bio_mapping = bio_mapping_task1\n",
        "        max_seq_len = max_length_train_1\n",
        "    else:\n",
        "        bio_mapping = bio_mapping_task2\n",
        "        max_seq_len = max_length_train_2\n",
        "\n",
        "# choosing embedding type\n",
        "    if embedding_type == \"word2vec\":\n",
        "        word_to_index = word_to_index_w2v\n",
        "\n",
        "    if embedding_type == \"glove\":\n",
        "        word_to_index = word_to_index_glove\n",
        "\n",
        "    else:\n",
        "        word_to_index = word_to_index_fasttext\n",
        "\n",
        "    for index in dataset.keys():\n",
        "\n",
        "        dic = dataset[index]\n",
        "        tags = [bio_mapping[label] for label in dic['labels']]\n",
        "        sentence = dic['text'].split(' ')\n",
        "        sequence = []\n",
        "        for word in sentence:\n",
        "            if word in word_to_index:\n",
        "                sequence.append(word_to_index[word])\n",
        "            else:\n",
        "                sequence.append(word_to_index['<unk>'])\n",
        "        if(len(sequence) >= max_seq_len):\n",
        "            continue\n",
        "\n",
        "        if(len(sequence) < max_seq_len):\n",
        "            for i in range(len(sequence), max_seq_len):\n",
        "                sequence.append(word_to_index['<unk>'])\n",
        "                tags.append(bio_mapping['O'])\n",
        "                # tags.append(3)\n",
        "\n",
        "        sentences.append(sequence)\n",
        "        labels.append(tags)\n",
        "\n",
        "    tag_size = len(bio_mapping)\n",
        "    labels = [to_categorical(i, num_classes = tag_size) for i in labels]\n",
        "\n",
        "    return np.array(sentences), np.asarray(labels)"
      ]
    },
    {
      "cell_type": "code",
      "execution_count": 11,
      "metadata": {
        "id": "HpfSchmyYP2c"
      },
      "outputs": [
        {
          "name": "stdout",
          "output_type": "stream",
          "text": [
            "[[ 1921    88 16547 ... 26967 26967 26967]\n",
            " [ 1444    64     2 ... 26967 26967 26967]\n",
            " [ 2494    89  2029 ... 26967 26967 26967]\n",
            " ...\n",
            " [25023  1800  1720 ... 26967 26967 26967]\n",
            " [  339   283  1970 ... 26967 26967 26967]\n",
            " [ 7552   397  4043 ... 26967 26967 26967]] [[[0. 0. 0. ... 0. 0. 1.]\n",
            "  [0. 0. 0. ... 0. 0. 0.]\n",
            "  [0. 0. 0. ... 0. 0. 1.]\n",
            "  ...\n",
            "  [0. 0. 0. ... 0. 0. 1.]\n",
            "  [0. 0. 0. ... 0. 0. 1.]\n",
            "  [0. 0. 0. ... 0. 0. 1.]]\n",
            "\n",
            " [[0. 0. 0. ... 0. 0. 1.]\n",
            "  [0. 0. 0. ... 0. 0. 1.]\n",
            "  [0. 0. 0. ... 0. 0. 1.]\n",
            "  ...\n",
            "  [0. 0. 0. ... 0. 0. 1.]\n",
            "  [0. 0. 0. ... 0. 0. 1.]\n",
            "  [0. 0. 0. ... 0. 0. 1.]]\n",
            "\n",
            " [[0. 0. 0. ... 0. 0. 1.]\n",
            "  [0. 0. 0. ... 0. 0. 1.]\n",
            "  [0. 0. 0. ... 0. 0. 1.]\n",
            "  ...\n",
            "  [0. 0. 0. ... 0. 0. 1.]\n",
            "  [0. 0. 0. ... 0. 0. 1.]\n",
            "  [0. 0. 0. ... 0. 0. 1.]]\n",
            "\n",
            " ...\n",
            "\n",
            " [[0. 0. 0. ... 0. 0. 0.]\n",
            "  [0. 0. 0. ... 0. 0. 1.]\n",
            "  [0. 0. 0. ... 0. 0. 1.]\n",
            "  ...\n",
            "  [0. 0. 0. ... 0. 0. 1.]\n",
            "  [0. 0. 0. ... 0. 0. 1.]\n",
            "  [0. 0. 0. ... 0. 0. 1.]]\n",
            "\n",
            " [[0. 0. 0. ... 0. 0. 1.]\n",
            "  [0. 0. 0. ... 0. 0. 1.]\n",
            "  [0. 0. 0. ... 0. 0. 1.]\n",
            "  ...\n",
            "  [0. 0. 0. ... 0. 0. 1.]\n",
            "  [0. 0. 0. ... 0. 0. 1.]\n",
            "  [0. 0. 0. ... 0. 0. 1.]]\n",
            "\n",
            " [[0. 0. 0. ... 0. 0. 1.]\n",
            "  [0. 0. 0. ... 0. 0. 1.]\n",
            "  [0. 0. 0. ... 0. 0. 1.]\n",
            "  ...\n",
            "  [0. 0. 0. ... 0. 0. 1.]\n",
            "  [0. 0. 0. ... 0. 0. 1.]\n",
            "  [0. 0. 0. ... 0. 0. 1.]]]\n"
          ]
        }
      ],
      "source": [
        "X_train, y_train = process_data(task1_train_data, 1, split = \"train\", embedding_type = \"fast_text\")\n",
        "X_val, y_val = process_data(task1_val_data, 1, split = \"val\", embedding_type = \"fast_text\")\n",
        "X_test, y_test = process_data(task1_test_data, 1, split = \"test\", embedding_type = \"fast_text\")\n",
        "print(X_test, y_test)\n"
      ]
    },
    {
      "cell_type": "code",
      "execution_count": 16,
      "metadata": {
        "id": "cJqv900BYj1u"
      },
      "outputs": [],
      "source": [
        "class CRF(L.Layer):\n",
        "    def __init__(self, output_dim, **kwargs):\n",
        "        super(CRF, self).__init__(**kwargs)\n",
        "        self.output_dim = int(output_dim)\n",
        "        self.transitions = None\n",
        "\n",
        "    def build(self, input_shape):\n",
        "        self.transitions = self.add_weight(name = 'transitions', shape=[self.output_dim, self.output_dim],\n",
        "                                           initializer = 'glorot_uniform', trainable = True)\n",
        "\n",
        "    def call(self, inputs, sequence_lengths = None, training = None, **kwargs):\n",
        "        sequences = tf.convert_to_tensor(inputs, dtype = self.dtype)\n",
        "        if sequence_lengths is not None:\n",
        "            self.sequence_lengths = K.flatten(sequence_lengths)\n",
        "        else:\n",
        "            self.sequence_lengths = tf.ones(tf.shape(inputs)[0], dtype = tf.int32) * tf.shape(inputs)[1]\n",
        "\n",
        "        viterbi_sequence, _ = crf_decode(sequences, self.transitions, self.sequence_lengths)\n",
        "        output = K.one_hot(viterbi_sequence, self.output_dim)\n",
        "        return K.in_train_phase(sequences, output)\n",
        "\n",
        "    @property\n",
        "    def loss(self):\n",
        "        def crf_loss(y_true, y_pred):\n",
        "            log_likelihood, self.transitions = crf_log_likelihood(y_pred,\n",
        "                                                                  tf.cast(K.argmax(y_true), dtype=tf.int32),\n",
        "                                                                  self.sequence_lengths,\n",
        "                                                                  transition_params=self.transitions)\n",
        "            return tf.reduce_mean(-log_likelihood)\n",
        "        return crf_loss\n",
        "\n",
        "    @property\n",
        "    def accuracy(self):\n",
        "        def viterbi_accuracy(y_true, y_pred):\n",
        "            mask = K.cast(K.all(K.greater(y_pred, -1e10), axis=2), K.floatx())\n",
        "            shape = tf.shape(y_pred)\n",
        "            sequence_lengths = tf.ones(shape[0], dtype=tf.int32) * shape[1]\n",
        "            y_pred, _ = crf_decode(y_pred, self.transitions, sequence_lengths)\n",
        "            y_true = K.argmax(y_true, 2)\n",
        "            y_pred = K.cast(y_pred, 'int32')\n",
        "            y_true = K.cast(y_true, 'int32')\n",
        "            corrects = K.cast(K.equal(y_true, y_pred), K.floatx())\n",
        "            return K.sum(corrects * mask) / K.sum(mask)\n",
        "        return viterbi_accuracy"
      ]
    },
    {
      "cell_type": "code",
      "execution_count": 17,
      "metadata": {
        "id": "AV8XTzheYkNa"
      },
      "outputs": [],
      "source": [
        "def build_1(vocab_size, word_index, emb_type):\n",
        "    if emb_type == \"word2vec\":\n",
        "        embeddings_index = word2vec_embeddings\n",
        "\n",
        "    elif emb_type == \"glove\":\n",
        "        embeddings_index = glove_embeddings\n",
        "    else:\n",
        "        embeddings_index = fast_text_embedding\n",
        "\n",
        "    embeddings_index = {}\n",
        "    embeddings_matrix = np.zeros((vocab_size, 300))\n",
        "\n",
        "    for word, i in word_index.items():\n",
        "        if i > vocab_size:\n",
        "            continue\n",
        "        embedding_vector = embeddings_index.get(word)\n",
        "        if embedding_vector is not None:\n",
        "            embeddings_matrix[i] = embedding_vector\n",
        "\n",
        "    model = Sequential()\n",
        "    model.add(Embedding(input_dim = vocab_size, output_dim = 300, input_length = 80, weights = [embeddings_matrix], mask_zero = True))\n",
        "    model.add(Bidirectional(LSTM(units = 100, return_sequences = True, recurrent_dropout = 0.01)))\n",
        "    model.add(Bidirectional(LSTM(units = 30, return_sequences = True, recurrent_dropout = 0.15)))\n",
        "    model.add(TimeDistributed(Dense(27)))\n",
        "    crf = CRF(27)\n",
        "    model.add(crf)\n",
        "    return model"
      ]
    },
    {
      "cell_type": "code",
      "execution_count": 18,
      "metadata": {
        "id": "d8WWSRGtjMgv"
      },
      "outputs": [],
      "source": [
        "\n",
        "def calculate_f1_score(model, X_test, y_test):\n",
        "    y_pred = model.predict(X_test)\n",
        "    y_pred_argmax = np.argmax(y_pred, axis=-1)\n",
        "    y_true_argmax = np.argmax(y_test, axis=-1)\n",
        "    # print(X_test.shape, y_pred.shape, y_test.shape, y_pred_argmax.shape, y_true_argmax.shape)\n",
        "    f1 = f1_score(y_true_argmax.flatten(), y_pred_argmax.flatten(), average='macro')\n",
        "    return f1\n"
      ]
    },
    {
      "cell_type": "code",
      "execution_count": 34,
      "metadata": {
        "id": "AiD_EXnbBxVj"
      },
      "outputs": [],
      "source": [
        "class MetricsCallback(tf.keras.callbacks.Callback):\n",
        "    def __init__(self, X_val, y_val, X_test, y_test):\n",
        "        super().__init__()\n",
        "        self.X_val = X_val\n",
        "        self.y_val = y_val\n",
        "        self.X_test = X_test\n",
        "        self.y_test = y_test\n",
        "        self.train_losses = []\n",
        "        self.val_losses = []\n",
        "        self.train_f1_scores = []\n",
        "        self.val_f1_scores = []\n",
        "\n",
        "    def on_epoch_end(self, epoch, logs=None):\n",
        "        # Training loss\n",
        "        train_loss = logs['loss']\n",
        "        self.train_losses.append(train_loss)\n",
        "\n",
        "        # Training F1 score\n",
        "        train_f1_score = calculate_f1_score(self.model, X_train, y_train)\n",
        "        self.train_f1_scores.append(train_f1_score)\n",
        "\n",
        "        # Validation loss\n",
        "        t = self.model.evaluate(self.X_val, self.y_val, verbose=0)\n",
        "        # print(t)\n",
        "        val_loss = t[0]\n",
        "        self.val_losses.append(val_loss)\n",
        "\n",
        "        # Validation F1 score\n",
        "        val_f1_score = calculate_f1_score(self.model, self.X_val, self.y_val)\n",
        "        self.val_f1_scores.append(val_f1_score)\n",
        "\n",
        "        # Print metrics\n",
        "        print(f'Epoch {epoch + 1} - Train Loss: {train_loss:.4f} - Val Loss: {val_loss:.4f} - Train F1 Score: {train_f1_score:.4f} - Val F1 Score: {val_f1_score:.4f}')\n",
        "\n",
        "    def plot_results(self):\n",
        "        epochs = range(1, len(self.train_losses) + 1)\n",
        "\n",
        "        plt.figure(figsize=(12, 5))\n",
        "\n",
        "        plt.subplot(1, 2, 1)\n",
        "        plt.plot(epochs, self.train_losses, label='Training Loss')\n",
        "        plt.plot(epochs, self.val_losses, label='Validation Loss')\n",
        "        plt.title('Training and Validation Losses')\n",
        "        plt.xlabel('Epochs')\n",
        "        plt.ylabel('Loss')\n",
        "        plt.legend()\n",
        "\n",
        "        plt.subplot(1, 2, 2)\n",
        "        plt.plot(epochs, self.train_f1_scores, label='Training Macro F1-Score')\n",
        "        plt.plot(epochs, self.val_f1_scores, label='Validation Macro F1-Score')\n",
        "        plt.title('Training and Validation Macro F1-Scores')\n",
        "        plt.xlabel('Epochs')\n",
        "        plt.ylabel('Macro F1-Score')\n",
        "        plt.legend()\n",
        "\n",
        "        plt.tight_layout()\n",
        "        plt.show()"
      ]
    },
    {
      "cell_type": "code",
      "execution_count": 35,
      "metadata": {
        "colab": {
          "base_uri": "https://localhost:8080/"
        },
        "id": "HJzNgxRXYJQA",
        "outputId": "cdf4ba81-2288-4a9a-fd94-b10f14ba2adf"
      },
      "outputs": [
        {
          "name": "stdout",
          "output_type": "stream",
          "text": [
            "TensorFlow is using CPU.\n"
          ]
        }
      ],
      "source": [
        "import tensorflow as tf\n",
        "\n",
        "# Check if GPU is available\n",
        "if tf.config.list_physical_devices('GPU'):\n",
        "    print(\"TensorFlow is using GPU.\")\n",
        "else:\n",
        "    print(\"TensorFlow is using CPU.\")\n"
      ]
    },
    {
      "cell_type": "code",
      "execution_count": 40,
      "metadata": {
        "colab": {
          "base_uri": "https://localhost:8080/"
        },
        "id": "vQR-Pr2ZB2q9",
        "outputId": "f3f739d5-cc06-4a2a-c3ca-d0a51c70da6b"
      },
      "outputs": [
        {
          "name": "stdout",
          "output_type": "stream",
          "text": [
            "244/244 [==============================] - 14s 54ms/step\n",
            "44/44 [==============================] - 3s 58ms/step\n",
            "Epoch 1 - Train Loss: 19.4284 - Val Loss: 166.8310 - Train F1 Score: 0.1515 - Val F1 Score: 0.1460\n",
            "244/244 [==============================] - 16s 67ms/step\n",
            "44/44 [==============================] - 3s 62ms/step\n",
            "Epoch 2 - Train Loss: 7.9722 - Val Loss: 151.1634 - Train F1 Score: 0.4741 - Val F1 Score: 0.4145\n",
            "244/244 [==============================] - 16s 68ms/step\n",
            "44/44 [==============================] - 3s 64ms/step\n",
            "Epoch 3 - Train Loss: 4.0375 - Val Loss: 140.4659 - Train F1 Score: 0.6918 - Val F1 Score: 0.5322\n",
            "244/244 [==============================] - 15s 60ms/step\n",
            "44/44 [==============================] - 3s 62ms/step\n",
            "Epoch 4 - Train Loss: 2.2301 - Val Loss: 131.9671 - Train F1 Score: 0.8541 - Val F1 Score: 0.5849\n",
            "244/244 [==============================] - 15s 63ms/step\n",
            "44/44 [==============================] - 3s 61ms/step\n",
            "Epoch 5 - Train Loss: 1.3322 - Val Loss: 123.9553 - Train F1 Score: 0.9156 - Val F1 Score: 0.6169\n",
            "244/244 [==============================] - 15s 60ms/step\n",
            "44/44 [==============================] - 3s 59ms/step\n",
            "Epoch 6 - Train Loss: 0.8627 - Val Loss: 115.4225 - Train F1 Score: 0.9568 - Val F1 Score: 0.6523\n"
          ]
        }
      ],
      "source": [
        "model = build_1(vocab_size = vocab_size_fasttext,  word_index = word_to_index_fasttext, emb_type = \"fast_text\")\n",
        "model.compile(optimizer=keras.optimizers.legacy.Adam(learning_rate=1e-3), loss=model.layers[-1].loss, metrics=[model.layers[-1].accuracy])\n",
        "metrics_callback = MetricsCallback(X_val, y_val, X_test, y_test)\n",
        "history = model.fit(X_train, y_train, batch_size = 8, epochs = 6, validation_data = (X_val, y_val), verbose = 0, callbacks = [metrics_callback])\n",
        "\n"
      ]
    },
    {
      "cell_type": "code",
      "execution_count": 41,
      "metadata": {},
      "outputs": [
        {
          "name": "stdout",
          "output_type": "stream",
          "text": [
            "29/29 [==============================] - 2s 59ms/step\n",
            "Test Loss: 115.4915 - Test Accuracy: 0.9704 - Test F1 Score: 0.5676\n"
          ]
        },
        {
          "name": "stderr",
          "output_type": "stream",
          "text": [
            "/Users/nalishjain/Acad Sem 6/NLP-Assignments/A2_16/.venv/lib/python3.10/site-packages/keras/src/engine/training.py:3000: UserWarning: You are saving your model as an HDF5 file via `model.save()`. This file format is considered legacy. We recommend using instead the native Keras format, e.g. `model.save('my_model.keras')`.\n",
            "  saving_api.save_model(\n"
          ]
        }
      ],
      "source": [
        "test_loss, test_accuracy = model.evaluate(X_test, y_test, verbose = 0)\n",
        "test_f1_score = calculate_f1_score(model, X_test, y_test)\n",
        "print(f'Test Loss: {test_loss:.4f} - Test Accuracy: {test_accuracy:.4f} - Test F1 Score: {test_f1_score:.4f}')\n",
        "\n",
        "model.save('trained_models/t1_bilstm_crf_fast_text.h5')\n"
      ]
    },
    {
      "cell_type": "code",
      "execution_count": 43,
      "metadata": {},
      "outputs": [
        {
          "data": {
            "image/png": "[encoded data removed]",
            "text/plain": [
              "<Figure size 1200x500 with 2 Axes>"
            ]
          },
          "metadata": {},
          "output_type": "display_data"
        }
      ],
      "source": [
        "metrics_callback.plot_results()"
      ]
    }
  ],
  "metadata": {
    "accelerator": "GPU",
    "colab": {
      "gpuType": "T4",
      "provenance": []
    },
    "kernelspec": {
      "display_name": "Python 3",
      "name": "python3"
    },
    "language_info": {
      "codemirror_mode": {
        "name": "ipython",
        "version": 3
      },
      "file_extension": ".py",
      "mimetype": "text/x-python",
      "name": "python",
      "nbconvert_exporter": "python",
      "pygments_lexer": "ipython3",
      "version": "3.10.10"
    }
  },
  "nbformat": 4,
  "nbformat_minor": 0
}
