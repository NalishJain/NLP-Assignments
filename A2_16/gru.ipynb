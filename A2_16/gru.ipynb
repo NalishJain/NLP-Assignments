{
 "cells": [
  {
   "cell_type": "code",
   "execution_count": 13,
   "metadata": {},
   "outputs": [
    {
     "name": "stdout",
     "output_type": "stream",
     "text": [
      "Collecting gensim\n",
      "  Downloading gensim-4.3.2-cp310-cp310-macosx_11_0_arm64.whl.metadata (8.4 kB)\n",
      "Requirement already satisfied: numpy>=1.18.5 in ./.venv/lib/python3.10/site-packages (from gensim) (1.26.4)\n",
      "Requirement already satisfied: scipy>=1.7.0 in ./.venv/lib/python3.10/site-packages (from gensim) (1.12.0)\n",
      "Collecting smart-open>=1.8.1 (from gensim)\n",
      "  Downloading smart_open-7.0.1-py3-none-any.whl.metadata (23 kB)\n",
      "Collecting wrapt (from smart-open>=1.8.1->gensim)\n",
      "  Using cached wrapt-1.16.0-cp310-cp310-macosx_11_0_arm64.whl.metadata (6.6 kB)\n",
      "Downloading gensim-4.3.2-cp310-cp310-macosx_11_0_arm64.whl (24.0 MB)\n",
      "\u001b[2K   \u001b[90m━━━━━━━━━━━━━━━━━━━━━━━━━━━━━━━━━━━━━━━━\u001b[0m \u001b[32m24.0/24.0 MB\u001b[0m \u001b[31m3.8 MB/s\u001b[0m eta \u001b[36m0:00:00\u001b[0m00:01\u001b[0m00:01\u001b[0m\n",
      "\u001b[?25hDownloading smart_open-7.0.1-py3-none-any.whl (60 kB)\n",
      "\u001b[2K   \u001b[90m━━━━━━━━━━━━━━━━━━━━━━━━━━━━━━━━━━━━━━━━\u001b[0m \u001b[32m60.8/60.8 kB\u001b[0m \u001b[31m3.3 MB/s\u001b[0m eta \u001b[36m0:00:00\u001b[0m\n",
      "\u001b[?25hUsing cached wrapt-1.16.0-cp310-cp310-macosx_11_0_arm64.whl (38 kB)\n",
      "Installing collected packages: wrapt, smart-open, gensim\n",
      "Successfully installed gensim-4.3.2 smart-open-7.0.1 wrapt-1.16.0\n"
     ]
    }
   ],
   "source": [
    "# !pip3 install gensim"
   ]
  },
  {
   "cell_type": "code",
   "execution_count": 17,
   "metadata": {},
   "outputs": [],
   "source": [
    "import torch\n",
    "import torch.nn as nn\n",
    "import torch.optim as optim\n",
    "from torch.utils.data import DataLoader, Dataset\n",
    "import json\n",
    "import gensim.downloader as api\n",
    "from sklearn.metrics import f1_score\n",
    "import numpy as np\n",
    "\n"
   ]
  },
  {
   "cell_type": "code",
   "execution_count": 18,
   "metadata": {},
   "outputs": [],
   "source": [
    "with open('Json Task1/train_processed.json', 'r') as f:\n",
    "    task1_train_data = json.load(f)\n",
    "\n",
    "with open('Json Task1/val_processed.json', 'r') as f:\n",
    "    task1_val_data = json.load(f)\n",
    "\n",
    "with open('Json Task1/test_processed.json', 'r') as f:\n",
    "    task1_test_data = json.load(f)\n",
    "\n",
    "with open('Json Task2/train_processed.json', 'r') as f:\n",
    "    task2_train_data = json.load(f)\n",
    "\n",
    "with open('Json Task2/val_processed.json', 'r') as f:\n",
    "    task2_val_data = json.load(f)\n",
    "\n",
    "with open('Json Task2/test_processed.json', 'r') as f:\n",
    "    task2_test_data = json.load(f)\n",
    "\n",
    "bio_mapping_task1 = {'B_ORG': 0, 'I_ORG': 1, 'B_RESPONDENT': 2, 'I_RESPONDENT': 3, 'B_JUDGE': 4, 'I_JUDGE': 5,\n",
    "               'B_STATUTE': 6, 'I_STATUTE': 7, 'B_OTHER_PERSON': 8, 'I_OTHER_PERSON': 9, 'B_COURT': 10, 'I_COURT': 11,\n",
    "               'B_GPE': 12, 'I_GPE': 13, 'B_PETITIONER': 14, 'I_PETITIONER': 15, 'B_WITNESS': 16, 'I_WITNESS': 17,\n",
    "               'B_CASE_NUMBER': 18, 'I_CASE_NUMBER': 19, 'B_PRECEDENT': 20, 'I_PRECEDENT': 21, 'B_DATE': 22, 'I_DATE': 23,\n",
    "               'B_PROVISION': 24, 'I_PROVISION': 25, 'O': 26}\n"
   ]
  },
  {
   "cell_type": "code",
   "execution_count": 6,
   "metadata": {},
   "outputs": [],
   "source": [
    "word2vec_model = api.load('word2vec-google-news-300')\n",
    "vocab_size, embedding_dim = word2vec_model.vectors.shape"
   ]
  },
  {
   "cell_type": "code",
   "execution_count": 19,
   "metadata": {},
   "outputs": [
    {
     "name": "stdout",
     "output_type": "stream",
     "text": [
      "torch.Size([3000001, 300])\n"
     ]
    }
   ],
   "source": [
    "# Load word2vec model\n",
    "word2vec = torch.FloatTensor(word2vec_model.vectors)\n",
    "word2vec_u = torch.concatenate((word2vec, torch.zeros((1, 300))), axis = 0)\n",
    "print(word2vec_u.shape)\n",
    "\n",
    "# Add an unknown token to the vocabulary\n",
    "word_to_index = {word: index for index, word in enumerate(word2vec_model.index_to_key)}\n",
    "word_to_index['<unk>'] = len(word_to_index)\n",
    "\n",
    "# Example usage\n",
    "unknown_token_index = word_to_index['<unk>']\n",
    "\n",
    "bio_mapping_task1 = {'B_ORG': 0, 'I_ORG': 1, 'B_RESPONDENT': 2, 'I_RESPONDENT': 3, 'B_JUDGE': 4, 'I_JUDGE': 5,\n",
    "               'B_STATUTE': 6, 'I_STATUTE': 7, 'B_OTHER_PERSON': 8, 'I_OTHER_PERSON': 9, 'B_COURT': 10, 'I_COURT': 11,\n",
    "               'B_GPE': 12, 'I_GPE': 13, 'B_PETITIONER': 14, 'I_PETITIONER': 15, 'B_WITNESS': 16, 'I_WITNESS': 17,\n",
    "               'B_CASE_NUMBER': 18, 'I_CASE_NUMBER': 19, 'B_PRECEDENT': 20, 'I_PRECEDENT': 21, 'B_DATE': 22, 'I_DATE': 23,\n",
    "               'B_PROVISION': 24, 'I_PROVISION': 25, 'O': 26}"
   ]
  },
  {
   "cell_type": "code",
   "execution_count": 20,
   "metadata": {},
   "outputs": [
    {
     "name": "stdout",
     "output_type": "stream",
     "text": [
      "3000000\n"
     ]
    }
   ],
   "source": [
    "print(word_to_index['<unk>'])"
   ]
  },
  {
   "cell_type": "code",
   "execution_count": 21,
   "metadata": {},
   "outputs": [],
   "source": [
    "\n",
    "class GRUModel(nn.Module):\n",
    "    def __init__(self, embedding_dim, hidden_dim, output_size, pretrained_embedding):\n",
    "        super(GRUModel, self).__init__()\n",
    "        self.embedding_layer = nn.Embedding.from_pretrained(pretrained_embedding, freeze=True)\n",
    "        self.gru = nn.GRU(embedding_dim, hidden_dim, batch_first=True)\n",
    "        self.fc = nn.Linear(hidden_dim, output_size)\n",
    "\n",
    "    def forward(self, x):\n",
    "        x = self.embedding_layer(x)\n",
    "        out, _ = self.gru(x)\n",
    "        out = self.fc(out)\n",
    "        return out\n",
    "\n",
    "class Task_data(Dataset):\n",
    "    def __init__(self, data, bio_index):\n",
    "        self.data = data\n",
    "        self.length = len(self.data)\n",
    "        self.bio_index =  bio_index\n",
    "\n",
    "    def __len__(self):\n",
    "        return self.length\n",
    "\n",
    "    def __getitem__(self, index):\n",
    "        input_sequence = self.data[str(index)]['text'].split(' ')\n",
    "        output_sequence = self.data[str(index)]['labels']\n",
    "        output_labels = [self.bio_index[word] for word in output_sequence]\n",
    "        # Map words to indices, use '<unk>' if the word is not in the vocabulary\n",
    "        input_indices = [word_to_index.get(word, word_to_index['<unk>']) for word in input_sequence]\n",
    "        return torch.tensor(input_indices), torch.tensor(output_labels)\n",
    "\n",
    "\n",
    "dataset = Task_data(task1_train_data, bio_mapping_task1)\n",
    "dataloader = torch.utils.data.DataLoader(dataset, batch_size=1, shuffle=True)\n",
    "\n",
    "\n",
    "\n"
   ]
  },
  {
   "cell_type": "code",
   "execution_count": 22,
   "metadata": {},
   "outputs": [],
   "source": [
    "# definig data_loaders\n",
    "batch_size = 1\n",
    "\n",
    "task1_train_dataloader = DataLoader(Task_data(task1_train_data, bio_mapping_task1), batch_size=batch_size, shuffle=True)\n",
    "task1_val_dataloader =  DataLoader(Task_data(task1_val_data, bio_mapping_task1), batch_size=batch_size, shuffle=True)\n",
    "task1_test_dataloader =  DataLoader(Task_data(task1_test_data, bio_mapping_task1), batch_size=batch_size, shuffle=False)\n",
    "\n",
    "# task2_train_dataloader =  DataLoader(Task_data(task2_train_data), batch_size=batch_size, shuffle=True)\n",
    "# task2_val_dataloader = DataLoader(Task_data(task2_val_data), batch_size=batch_size, shuffle=True)\n",
    "# task2_test_dataloader = DataLoader(Task_data(task2_test_data), batch_size=batch_size, shuffle=False)\n",
    "\n"
   ]
  },
  {
   "cell_type": "code",
   "execution_count": null,
   "metadata": {},
   "outputs": [],
   "source": [
    "task1_val_data"
   ]
  },
  {
   "cell_type": "code",
   "execution_count": 24,
   "metadata": {},
   "outputs": [],
   "source": [
    "model = GRUModel(embedding_dim, 150, 27, word2vec_u)\n",
    "\n",
    "optimizer = optim.Adam(model.parameters(), lr=0.001)\n",
    "criterion = nn.CrossEntropyLoss()\n",
    "\n",
    "# # Training loop\n",
    "# for epoch in range(2):\n",
    "#     for batch_idx, (inputs, targets) in enumerate(dataloader):\n",
    "#         optimizer.zero_grad()\n",
    "        \n",
    "#         # Forward pass\n",
    "#         outputs = model(inputs)\n",
    "        \n",
    "#         # Calculate loss at each time step\n",
    "#         loss = 0\n",
    "#         for i in range(outputs.size(1)):  # Iterate over time steps\n",
    "#             loss += criterion(outputs[:, i, :], targets[:, i])  # Apply CrossEntropyLoss at each time step\n",
    "        \n",
    "#         # Backward pass\n",
    "#         loss.backward()\n",
    "#         optimizer.step()\n",
    "\n",
    "#         # print(f\"Epoch {epoch + 1}, Batch {batch_idx + 1}/{len(dataloader)}, Loss: {loss.item()}\")"
   ]
  },
  {
   "cell_type": "code",
   "execution_count": 25,
   "metadata": {},
   "outputs": [
    {
     "name": "stdout",
     "output_type": "stream",
     "text": [
      "Epoch 1, Training Loss: 11.122886175142451, Training Macro F1-Score: 0.3805550984131343\n",
      "Epoch 1,  Validation Loss: 9.105612883163836, Validation Macro F1-Score: 0.4765792481429911\n",
      "Epoch 2, Training Loss: 8.024609900388613, Training Macro F1-Score: 0.5350606850431583\n",
      "Epoch 2,  Validation Loss: 8.55320052684154, Validation Macro F1-Score: 0.5281750765124165\n",
      "Epoch 3, Training Loss: 6.893542225461287, Training Macro F1-Score: 0.594499112830175\n",
      "Epoch 3,  Validation Loss: 8.316932249131371, Validation Macro F1-Score: 0.5320429729846511\n",
      "Epoch 4, Training Loss: 5.94236874133967, Training Macro F1-Score: 0.6429994264489904\n",
      "Epoch 4,  Validation Loss: 8.391348448453188, Validation Macro F1-Score: 0.5431171053987073\n",
      "Epoch 5, Training Loss: 5.0368401636362945, Training Macro F1-Score: 0.6930786833000134\n",
      "Epoch 5,  Validation Loss: 8.770328096085855, Validation Macro F1-Score: 0.5397007484727813\n",
      "Epoch 6, Training Loss: 4.266086833117684, Training Macro F1-Score: 0.7366900130937079\n",
      "Epoch 6,  Validation Loss: 9.338285717202027, Validation Macro F1-Score: 0.5425316786254385\n",
      "Epoch 7, Training Loss: 3.6140860579717544, Training Macro F1-Score: 0.7732294358766066\n",
      "Epoch 7,  Validation Loss: 9.944636410062643, Validation Macro F1-Score: 0.5394004740593725\n",
      "Epoch 8, Training Loss: 3.0927983290134575, Training Macro F1-Score: 0.8095009843572845\n",
      "Epoch 8,  Validation Loss: 10.880174639054752, Validation Macro F1-Score: 0.5307977841295782\n",
      "Epoch 9, Training Loss: 2.7256648446395637, Training Macro F1-Score: 0.8320612579038088\n",
      "Epoch 9,  Validation Loss: 11.454837838978186, Validation Macro F1-Score: 0.531188471139811\n"
     ]
    }
   ],
   "source": [
    "\n",
    "# Lists to store training and validation losses, and F1-scores\n",
    "train_losses = []\n",
    "val_losses = []\n",
    "train_f1_scores = []\n",
    "val_f1_scores = []\n",
    "\n",
    "# Training loop\n",
    "for epoch in range(20):\n",
    "    model.train()  # Set the model to training mode\n",
    "    total_train_loss = 0\n",
    "    all_train_predictions = []\n",
    "    all_train_targets = []\n",
    "\n",
    "    for batch_idx, (inputs, targets) in enumerate(task1_train_dataloader):\n",
    "        optimizer.zero_grad()\n",
    "        \n",
    "        # Forward pass\n",
    "        outputs = model(inputs)\n",
    "        \n",
    "        loss = 0\n",
    "        for i in range(outputs.size(1)):  # Iterate over time steps\n",
    "            loss += criterion(outputs[:, i, :], targets[:, i])  # Apply CrossEntropyLoss at each time step\n",
    "        \n",
    "        loss.backward()\n",
    "        optimizer.step()\n",
    "\n",
    "        total_train_loss += loss.item()\n",
    "\n",
    "        all_train_predictions.extend(outputs.argmax(dim=2).view(-1).cpu().numpy())\n",
    "        all_train_targets.extend(targets.view(-1).cpu().numpy())\n",
    "\n",
    "\n",
    "    avg_train_loss = total_train_loss / len(task1_train_dataloader)\n",
    "    train_losses.append(avg_train_loss)\n",
    "\n",
    "    train_macro_f1 = f1_score(all_train_targets, all_train_predictions, average='macro')\n",
    "    train_f1_scores.append(train_macro_f1)\n",
    "    print(f\"Epoch {epoch + 1}, Training Loss: {avg_train_loss}, Training Macro F1-Score: {train_macro_f1}\")\n",
    "\n",
    "    model.eval()  # Set the model to evaluation mode\n",
    "    total_val_loss = 0\n",
    "    all_val_predictions = []\n",
    "    all_val_targets = []\n",
    "\n",
    "    with torch.no_grad():\n",
    "        for val_inputs, val_targets in task1_val_dataloader:\n",
    "            val_outputs = model(val_inputs)\n",
    "\n",
    "            loss = 0\n",
    "            for i in range(val_outputs.size(1)):  # Iterate over time steps\n",
    "                loss += criterion(val_outputs[:, i, :], val_targets[:, i])  \n",
    "\n",
    "            total_val_loss += loss.item()\n",
    "\n",
    "            all_val_predictions.extend(val_outputs.argmax(dim=2).view(-1).cpu().numpy())\n",
    "            all_val_targets.extend(val_targets.view(-1).cpu().numpy())\n",
    "\n",
    "        avg_val_loss = total_val_loss / len(task1_val_dataloader)\n",
    "        val_losses.append(avg_val_loss)\n",
    "\n",
    "        val_macro_f1 = f1_score(all_val_targets, all_val_predictions, average='macro')\n",
    "        val_f1_scores.append(val_macro_f1)\n",
    "    print(f\"Epoch {epoch + 1},  Validation Loss: {avg_val_loss}, Validation Macro F1-Score: {val_macro_f1}\")"
   ]
  }
 ],
 "metadata": {
  "kernelspec": {
   "display_name": ".venv",
   "language": "python",
   "name": "python3"
  },
  "language_info": {
   "codemirror_mode": {
    "name": "ipython",
    "version": 3
   },
   "file_extension": ".py",
   "mimetype": "text/x-python",
   "name": "python",
   "nbconvert_exporter": "python",
   "pygments_lexer": "ipython3",
   "version": "3.10.10"
  }
 },
 "nbformat": 4,
 "nbformat_minor": 2
}
