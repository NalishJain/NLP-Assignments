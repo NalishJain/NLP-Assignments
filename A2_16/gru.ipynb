{
 "cells": [
  {
   "cell_type": "code",
   "execution_count": 13,
   "metadata": {},
   "outputs": [
    {
     "name": "stdout",
     "output_type": "stream",
     "text": [
      "Collecting gensim\n",
      "  Downloading gensim-4.3.2-cp310-cp310-macosx_11_0_arm64.whl.metadata (8.4 kB)\n",
      "Requirement already satisfied: numpy>=1.18.5 in ./.venv/lib/python3.10/site-packages (from gensim) (1.26.4)\n",
      "Requirement already satisfied: scipy>=1.7.0 in ./.venv/lib/python3.10/site-packages (from gensim) (1.12.0)\n",
      "Collecting smart-open>=1.8.1 (from gensim)\n",
      "  Downloading smart_open-7.0.1-py3-none-any.whl.metadata (23 kB)\n",
      "Collecting wrapt (from smart-open>=1.8.1->gensim)\n",
      "  Using cached wrapt-1.16.0-cp310-cp310-macosx_11_0_arm64.whl.metadata (6.6 kB)\n",
      "Downloading gensim-4.3.2-cp310-cp310-macosx_11_0_arm64.whl (24.0 MB)\n",
      "\u001b[2K   \u001b[90m━━━━━━━━━━━━━━━━━━━━━━━━━━━━━━━━━━━━━━━━\u001b[0m \u001b[32m24.0/24.0 MB\u001b[0m \u001b[31m3.8 MB/s\u001b[0m eta \u001b[36m0:00:00\u001b[0m00:01\u001b[0m00:01\u001b[0m\n",
      "\u001b[?25hDownloading smart_open-7.0.1-py3-none-any.whl (60 kB)\n",
      "\u001b[2K   \u001b[90m━━━━━━━━━━━━━━━━━━━━━━━━━━━━━━━━━━━━━━━━\u001b[0m \u001b[32m60.8/60.8 kB\u001b[0m \u001b[31m3.3 MB/s\u001b[0m eta \u001b[36m0:00:00\u001b[0m\n",
      "\u001b[?25hUsing cached wrapt-1.16.0-cp310-cp310-macosx_11_0_arm64.whl (38 kB)\n",
      "Installing collected packages: wrapt, smart-open, gensim\n",
      "Successfully installed gensim-4.3.2 smart-open-7.0.1 wrapt-1.16.0\n"
     ]
    }
   ],
   "source": [
    "# !pip3 install gensim"
   ]
  },
  {
   "cell_type": "code",
   "execution_count": 3,
   "metadata": {},
   "outputs": [],
   "source": [
    "import torch\n",
    "import torch.nn as nn\n",
    "import torch.optim as optim\n",
    "from torch.utils.data import DataLoader, Dataset\n",
    "import json\n",
    "import gensim.downloader as api\n",
    "from sklearn.metrics import f1_score\n",
    "import numpy as np\n",
    "\n"
   ]
  },
  {
   "cell_type": "code",
   "execution_count": 4,
   "metadata": {},
   "outputs": [],
   "source": [
    "with open('Json Task1/train_processed.json', 'r') as f:\n",
    "    task1_train_data = json.load(f)\n",
    "\n",
    "with open('Json Task1/val_processed.json', 'r') as f:\n",
    "    task1_val_data = json.load(f)\n",
    "\n",
    "with open('Json Task1/test_processed.json', 'r') as f:\n",
    "    task1_test_data = json.load(f)\n",
    "\n",
    "with open('Json Task2/train_processed.json', 'r') as f:\n",
    "    task2_train_data = json.load(f)\n",
    "\n",
    "with open('Json Task2/val_processed.json', 'r') as f:\n",
    "    task2_val_data = json.load(f)\n",
    "\n",
    "with open('Json Task2/test_processed.json', 'r') as f:\n",
    "    task2_test_data = json.load(f)\n",
    "\n",
    "bio_mapping_task1 = {'B_ORG': 0, 'I_ORG': 1, 'B_RESPONDENT': 2, 'I_RESPONDENT': 3, 'B_JUDGE': 4, 'I_JUDGE': 5,\n",
    "               'B_STATUTE': 6, 'I_STATUTE': 7, 'B_OTHER_PERSON': 8, 'I_OTHER_PERSON': 9, 'B_COURT': 10, 'I_COURT': 11,\n",
    "               'B_GPE': 12, 'I_GPE': 13, 'B_PETITIONER': 14, 'I_PETITIONER': 15, 'B_WITNESS': 16, 'I_WITNESS': 17,\n",
    "               'B_CASE_NUMBER': 18, 'I_CASE_NUMBER': 19, 'B_PRECEDENT': 20, 'I_PRECEDENT': 21, 'B_DATE': 22, 'I_DATE': 23,\n",
    "               'B_PROVISION': 24, 'I_PROVISION': 25, 'O': 26}\n"
   ]
  },
  {
   "cell_type": "code",
   "execution_count": 5,
   "metadata": {},
   "outputs": [],
   "source": [
    "word2vec_model = api.load('word2vec-google-news-300')\n",
    "vocab_size, embedding_dim = word2vec_model.vectors.shape"
   ]
  },
  {
   "cell_type": "code",
   "execution_count": 6,
   "metadata": {},
   "outputs": [
    {
     "name": "stdout",
     "output_type": "stream",
     "text": [
      "torch.Size([3000001, 300])\n"
     ]
    }
   ],
   "source": [
    "# Load word2vec model\n",
    "word2vec = torch.FloatTensor(word2vec_model.vectors)\n",
    "word2vec_u = torch.concatenate((word2vec, torch.zeros((1, 300))), axis = 0)\n",
    "print(word2vec_u.shape)\n",
    "\n",
    "# Add an unknown token to the vocabulary\n",
    "word_to_index = {word: index for index, word in enumerate(word2vec_model.index_to_key)}\n",
    "word_to_index['<unk>'] = len(word_to_index)\n",
    "\n",
    "# Example usage\n",
    "unknown_token_index = word_to_index['<unk>']\n",
    "\n",
    "bio_mapping_task1 = {'B_ORG': 0, 'I_ORG': 1, 'B_RESPONDENT': 2, 'I_RESPONDENT': 3, 'B_JUDGE': 4, 'I_JUDGE': 5,\n",
    "               'B_STATUTE': 6, 'I_STATUTE': 7, 'B_OTHER_PERSON': 8, 'I_OTHER_PERSON': 9, 'B_COURT': 10, 'I_COURT': 11,\n",
    "               'B_GPE': 12, 'I_GPE': 13, 'B_PETITIONER': 14, 'I_PETITIONER': 15, 'B_WITNESS': 16, 'I_WITNESS': 17,\n",
    "               'B_CASE_NUMBER': 18, 'I_CASE_NUMBER': 19, 'B_PRECEDENT': 20, 'I_PRECEDENT': 21, 'B_DATE': 22, 'I_DATE': 23,\n",
    "               'B_PROVISION': 24, 'I_PROVISION': 25, 'O': 26}"
   ]
  },
  {
   "cell_type": "code",
   "execution_count": 20,
   "metadata": {},
   "outputs": [
    {
     "name": "stdout",
     "output_type": "stream",
     "text": [
      "3000000\n"
     ]
    }
   ],
   "source": [
    "print(word_to_index['<unk>'])"
   ]
  },
  {
   "cell_type": "code",
   "execution_count": 94,
   "metadata": {},
   "outputs": [],
   "source": [
    "from gensim.test.utils import datapath\n",
    "from gensim import utils\n",
    "\n",
    "class MyCorpus:\n",
    "    \"\"\"An iterator that yields sentences (lists of str).\"\"\"\n",
    "\n",
    "    def __iter__(self):\n",
    "        for line in task1_train_data:\n",
    "            # assume there's one document per line, tokens separated by whitespace\n",
    "            yield task1_train_data[line]['text'].split(' ')\n",
    "\n",
    "import gensim.models\n",
    "sentences = MyCorpus()\n",
    "model_1 = gensim.models.Word2Vec(sentences=sentences, min_count = 0, vector_size=256)"
   ]
  },
  {
   "cell_type": "code",
   "execution_count": 100,
   "metadata": {},
   "outputs": [],
   "source": [
    "\n",
    "class GRUModel(nn.Module):\n",
    "    def __init__(self, embedding_dim, output_size, pretrained_embedding):\n",
    "        super(GRUModel, self).__init__()\n",
    "        # self.embedding_layer = nn.Embedding.from_pretrained(pretrained_embedding, freeze=True)\n",
    "        self.gru = nn.GRU(embedding_dim, 128, num_layers=2, batch_first=True)\n",
    "        self.fc1 = nn.Linear(128, 64)\n",
    "        self.fc2 = nn.Linear(64, output_size)\n",
    "\n",
    "    def forward(self, x):\n",
    "        # x = self.embedding_layer(x)\n",
    "        out, _ = self.gru(x)\n",
    "        out = self.fc1(out)\n",
    "        out = self.fc2(out)\n",
    "        return out\n",
    "\n",
    "class Task_data(Dataset):\n",
    "    def __init__(self, data, bio_index, model_1):\n",
    "        self.data = data\n",
    "        self.length = len(self.data)\n",
    "        self.bio_index =  bio_index\n",
    "        self.model_1 = model_1\n",
    "\n",
    "    def __len__(self):\n",
    "        return self.length\n",
    "\n",
    "    def __getitem__(self, index):\n",
    "        input_sequence = self.data[str(index)]['text'].split(' ')\n",
    "        mo_embeddings = [model_1.wv[word] if word in model_1.wv else np.zeros((256), dtype='float32') for word in input_sequence]\n",
    "        output_sequence = self.data[str(index)]['labels']\n",
    "        output_labels = [self.bio_index[word] for word in output_sequence]\n",
    "        # Map words to indices, use '<unk>' if the word is not in the vocabulary\n",
    "        # input_indices = [word_to_index.get(word, word_to_index['<unk>']) for word in input_sequence]\n",
    "        # return torch.tensor(input_indices), torch.tensor(output_labels)\n",
    "        return torch.tensor(mo_embeddings), torch.tensor(output_labels)\n",
    "\n",
    "\n",
    "dataset = Task_data(task1_train_data, bio_mapping_task1, model_1)\n",
    "dataloader = torch.utils.data.DataLoader(dataset, batch_size=1, shuffle=True)\n",
    "\n",
    "\n",
    "\n"
   ]
  },
  {
   "cell_type": "code",
   "execution_count": 96,
   "metadata": {},
   "outputs": [],
   "source": [
    "# definig data_loaders\n",
    "batch_size = 1\n",
    "\n",
    "task1_train_dataloader = DataLoader(Task_data(task1_train_data, bio_mapping_task1, model_1), batch_size=batch_size, shuffle=True)\n",
    "task1_val_dataloader =  DataLoader(Task_data(task1_val_data, bio_mapping_task1, model_1), batch_size=batch_size, shuffle=True)\n",
    "task1_test_dataloader =  DataLoader(Task_data(task1_test_data, bio_mapping_task1, model_1), batch_size=batch_size, shuffle=False)\n",
    "\n",
    "# task2_train_dataloader =  DataLoader(Task_data(task2_train_data), batch_size=batch_size, shuffle=True)\n",
    "# task2_val_dataloader = DataLoader(Task_data(task2_val_data), batch_size=batch_size, shuffle=True)\n",
    "# task2_test_dataloader = DataLoader(Task_data(task2_test_data), batch_size=batch_size, shuffle=False)\n",
    "\n"
   ]
  },
  {
   "cell_type": "code",
   "execution_count": 97,
   "metadata": {},
   "outputs": [
    {
     "data": {
      "text/plain": [
       "numpy.float32"
      ]
     },
     "execution_count": 97,
     "metadata": {},
     "output_type": "execute_result"
    }
   ],
   "source": [
    "type(model_1.wv['court'][0])"
   ]
  },
  {
   "cell_type": "code",
   "execution_count": 104,
   "metadata": {},
   "outputs": [],
   "source": [
    "device = torch.device(\"cuda:0\" if torch.cuda.is_available() else \"cpu\")\n",
    "model = GRUModel(256, 27, word2vec_u).to(device) \n",
    "\n",
    "optimizer = optim.Adam(model.parameters(), lr=0.0001)\n",
    "criterion = nn.CrossEntropyLoss()\n"
   ]
  },
  {
   "cell_type": "code",
   "execution_count": 21,
   "metadata": {},
   "outputs": [],
   "source": []
  },
  {
   "cell_type": "code",
   "execution_count": 34,
   "metadata": {},
   "outputs": [
    {
     "data": {
      "text/plain": [
       "'therefore interpreting statutory provisions courts keep mind objectives purpose statute enacted'"
      ]
     },
     "execution_count": 34,
     "metadata": {},
     "output_type": "execute_result"
    }
   ],
   "source": [
    "task1_train_data['0']['text']"
   ]
  },
  {
   "cell_type": "code",
   "execution_count": 86,
   "metadata": {},
   "outputs": [
    {
     "data": {
      "text/plain": [
       "numpy.float32"
      ]
     },
     "execution_count": 86,
     "metadata": {},
     "output_type": "execute_result"
    }
   ],
   "source": [
    "a = np.zeros((100), dtype='float32')\n",
    "type(a[0])\n"
   ]
  },
  {
   "cell_type": "code",
   "execution_count": null,
   "metadata": {},
   "outputs": [],
   "source": [
    "print(model_1.wv)"
   ]
  },
  {
   "cell_type": "code",
   "execution_count": 105,
   "metadata": {},
   "outputs": [
    {
     "name": "stdout",
     "output_type": "stream",
     "text": [
      "Epoch 1, Training Loss: 23.28622291189947, Training Macro F1-Score: 0.04137334359750716\n",
      "Epoch 1,  Validation Loss: 20.99097878003, Validation Macro F1-Score: 0.09190412820801622\n",
      "Epoch 2, Training Loss: 18.793833026435458, Training Macro F1-Score: 0.1105336280594493\n",
      "Epoch 2,  Validation Loss: 18.13549618054485, Validation Macro F1-Score: 0.1360063509381865\n",
      "Epoch 3, Training Loss: 17.64362402825757, Training Macro F1-Score: 0.15040038517163415\n",
      "Epoch 3,  Validation Loss: 17.432691726567683, Validation Macro F1-Score: 0.18068518313353402\n",
      "Epoch 4, Training Loss: 16.939230647531517, Training Macro F1-Score: 0.17799632969410165\n",
      "Epoch 4,  Validation Loss: 16.673336758409246, Validation Macro F1-Score: 0.1947850098939382\n",
      "Epoch 5, Training Loss: 16.325028202802375, Training Macro F1-Score: 0.1950882248456323\n",
      "Epoch 5,  Validation Loss: 18.686437111060528, Validation Macro F1-Score: 0.17404032266992697\n",
      "Epoch 6, Training Loss: 15.772263933106347, Training Macro F1-Score: 0.2092081121278335\n",
      "Epoch 6,  Validation Loss: 15.593718588755083, Validation Macro F1-Score: 0.2183961309146463\n",
      "Epoch 7, Training Loss: 15.292745943770708, Training Macro F1-Score: 0.22080610069346374\n",
      "Epoch 7,  Validation Loss: 15.339425978702698, Validation Macro F1-Score: 0.21569642697836075\n",
      "Epoch 8, Training Loss: 14.858460518808762, Training Macro F1-Score: 0.2357403330126351\n",
      "Epoch 8,  Validation Loss: 15.09398304890484, Validation Macro F1-Score: 0.2244563223655568\n",
      "Epoch 9, Training Loss: 14.45071759498563, Training Macro F1-Score: 0.2471702132104697\n",
      "Epoch 9,  Validation Loss: 15.046586732215584, Validation Macro F1-Score: 0.22385265645815922\n",
      "Epoch 10, Training Loss: 14.116788818976325, Training Macro F1-Score: 0.25871374873989156\n",
      "Epoch 10,  Validation Loss: 14.886632518594373, Validation Macro F1-Score: 0.23358116754242117\n",
      "Epoch 11, Training Loss: 13.812468913960384, Training Macro F1-Score: 0.27248920289451994\n",
      "Epoch 11,  Validation Loss: 14.387075671081437, Validation Macro F1-Score: 0.2827195660879724\n",
      "Epoch 12, Training Loss: 13.580056487568182, Training Macro F1-Score: 0.2810151668560282\n",
      "Epoch 12,  Validation Loss: 14.035713662920491, Validation Macro F1-Score: 0.27389863599506153\n",
      "Epoch 13, Training Loss: 13.30059747925828, Training Macro F1-Score: 0.29053049770323\n",
      "Epoch 13,  Validation Loss: 14.154807538722078, Validation Macro F1-Score: 0.2803149318207777\n",
      "Epoch 14, Training Loss: 13.161817333767365, Training Macro F1-Score: 0.29809232691035953\n",
      "Epoch 14,  Validation Loss: 13.692293392854227, Validation Macro F1-Score: 0.27483154095113943\n",
      "Epoch 15, Training Loss: 12.948975522103826, Training Macro F1-Score: 0.3069915650311604\n",
      "Epoch 15,  Validation Loss: 13.585928934115296, Validation Macro F1-Score: 0.297851749876131\n",
      "Epoch 16, Training Loss: 12.723740747821731, Training Macro F1-Score: 0.31532682889321667\n",
      "Epoch 16,  Validation Loss: 13.293355336365785, Validation Macro F1-Score: 0.31059227999048783\n",
      "Epoch 17, Training Loss: 12.550736199237056, Training Macro F1-Score: 0.32676166519517447\n",
      "Epoch 17,  Validation Loss: 13.809641583411059, Validation Macro F1-Score: 0.2831623308920234\n",
      "Epoch 18, Training Loss: 12.384919848342241, Training Macro F1-Score: 0.3314238171444346\n",
      "Epoch 18,  Validation Loss: 13.089196277852153, Validation Macro F1-Score: 0.3179993043402637\n",
      "Epoch 19, Training Loss: 12.238540739805943, Training Macro F1-Score: 0.34113269945823704\n",
      "Epoch 19,  Validation Loss: 13.311452599286646, Validation Macro F1-Score: 0.32578947334186154\n",
      "Epoch 20, Training Loss: 12.088260729791097, Training Macro F1-Score: 0.34604140142322076\n",
      "Epoch 20,  Validation Loss: 13.320574761575816, Validation Macro F1-Score: 0.3346127651455824\n"
     ]
    }
   ],
   "source": [
    "\n",
    "# Lists to store training and validation losses, and F1-scores\n",
    "train_losses = []\n",
    "val_losses = []\n",
    "train_f1_scores = []\n",
    "val_f1_scores = []\n",
    "\n",
    "# Training loop\n",
    "for epoch in range(20):\n",
    "    model.train()  # Set the model to training mode\n",
    "    total_train_loss = 0\n",
    "    all_train_predictions = []\n",
    "    all_train_targets = []\n",
    "\n",
    "    for batch_idx, (inputs, targets) in enumerate(task1_train_dataloader):\n",
    "        inputs, targets = inputs.to(device), targets.to(device)\n",
    "        optimizer.zero_grad()\n",
    "        \n",
    "        # Forward pass\n",
    "        outputs = model(inputs)\n",
    "        \n",
    "        loss = 0\n",
    "        for i in range(outputs.size(1)):  # Iterate over time steps\n",
    "            loss += criterion(outputs[:, i, :], targets[:, i])  # Apply CrossEntropyLoss at each time step\n",
    "        \n",
    "        loss.backward()\n",
    "        optimizer.step()\n",
    "\n",
    "        total_train_loss += loss.item()\n",
    "\n",
    "        all_train_predictions.extend(outputs.argmax(dim=2).view(-1).cpu().numpy())\n",
    "        all_train_targets.extend(targets.view(-1).cpu().numpy())\n",
    "\n",
    "\n",
    "    avg_train_loss = total_train_loss / len(task1_train_dataloader)\n",
    "    train_losses.append(avg_train_loss)\n",
    "\n",
    "    train_macro_f1 = f1_score(all_train_targets, all_train_predictions, average='macro')\n",
    "    train_f1_scores.append(train_macro_f1)\n",
    "    print(f\"Epoch {epoch + 1}, Training Loss: {avg_train_loss}, Training Macro F1-Score: {train_macro_f1}\")\n",
    "\n",
    "    model.eval()  # Set the model to evaluation mode\n",
    "    total_val_loss = 0\n",
    "    all_val_predictions = []\n",
    "    all_val_targets = []\n",
    "\n",
    "    with torch.no_grad():\n",
    "        for val_inputs, val_targets in task1_val_dataloader:\n",
    "            val_outputs = model(val_inputs)\n",
    "\n",
    "            loss = 0\n",
    "            for i in range(val_outputs.size(1)):  # Iterate over time steps\n",
    "                loss += criterion(val_outputs[:, i, :], val_targets[:, i])  \n",
    "\n",
    "            total_val_loss += loss.item()\n",
    "\n",
    "            all_val_predictions.extend(val_outputs.argmax(dim=2).view(-1).cpu().numpy())\n",
    "            all_val_targets.extend(val_targets.view(-1).cpu().numpy())\n",
    "\n",
    "        avg_val_loss = total_val_loss / len(task1_val_dataloader)\n",
    "        val_losses.append(avg_val_loss)\n",
    "\n",
    "        val_macro_f1 = f1_score(all_val_targets, all_val_predictions, average='macro')\n",
    "        val_f1_scores.append(val_macro_f1)\n",
    "    print(f\"Epoch {epoch + 1},  Validation Loss: {avg_val_loss}, Validation Macro F1-Score: {val_macro_f1}\")"
   ]
  }
 ],
 "metadata": {
  "kernelspec": {
   "display_name": ".venv",
   "language": "python",
   "name": "python3"
  },
  "language_info": {
   "codemirror_mode": {
    "name": "ipython",
    "version": 3
   },
   "file_extension": ".py",
   "mimetype": "text/x-python",
   "name": "python",
   "nbconvert_exporter": "python",
   "pygments_lexer": "ipython3",
   "version": "3.10.10"
  }
 },
 "nbformat": 4,
 "nbformat_minor": 2
}
